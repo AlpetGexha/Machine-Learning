{
 "cells": [
  {
   "metadata": {},
   "cell_type": "markdown",
   "source": [
    "# Modeli Regrsionit Linar\n",
    "\n",
    "Regresioni linear është një metodë statistikore e përdorur për të modeluar marrëdhënien midis një ndryshoreje të varur dhe një ose më shumë variablave të pavarur. Qëllimi është të gjendet një ekuacion linear që mund të parashikojë variablin e varur bazuar në vlerat e variablave të pavarur. \n",
    "\n",
    "Në regresionin e thjeshtë linear, kemi një ndryshore të pavarur, ndërsa në regresionin linear të shumëfishtë, përdorim dy ose më shumë ndryshore të pavarura.\n",
    "\n",
    "                        y=b0​+b1​x\n",
    "                        \n",
    "- x - Variabla e varur të cilën ne duam ta parashikojmë.\n",
    "- y - Variabla e pavarur të cilën ne përdorim për të bere parashikimin.\n",
    "- b0 - është ndërprerja (intercept), që përfaqëson pikën ku vija kalon boshtin y.\n",
    "- b1 - është pjerrësia (slope), e cila tregon ndryshimin ne y për çdo njësi rritet në x\n",
    "\n",
    "**Variabla e varur (Raguse)(Dependent Variable)**: variabli që synojmë të parashikojmë ose shpjegojmë. Në një kontekst biznesi, mund të jetë diçka si shitje, fitim ose kërkesë. Në një kontekst shkencor, mund të jenë rezultate si norma e rritjes ose koha e reagimit. Variabla e varur varet nga variablat e pavarur.\n",
    "\n",
    "**Variablat e pavarura (Parashikuse)** - Këto janë variablat e përdorur si parashikues në model. Ato ofrojnë hyrjen ose faktorët që ndikojnë në variablin e varur. Në shembullin e parashikimit të çmimeve të shtëpive, variablat e pavarur mund të përfshijnë madhësinë e shtëpisë, numrin e dhomave të gjumit ose vendndodhjen.\n",
    "\n",
    "**Analiza e Regresionit** - Teknik statistikore e cila shfrytezon th dhenat te observuara per te vene ne relacion variablen e varur me nje ose me teper variabla te pavarura \n",
    "\n",
    "**Perdor te dhena te vazhdueshme**\n",
    "\n",
    "\n",
    "Regresioni linear gjen vijën më të përshtatshme që minimizon diferencën midis vlerave të parashikuara të ndryshores së varur dhe vlerave aktuale, zakonisht duke përdorur një metodë të quajtur katrorët më të vegjël. Kjo linjë mund të përdoret më pas për të bërë parashikime ose për të analizuar forcën dhe drejtimin e marrëdhënieve midis variablave."
   ],
   "id": "c0f528a65dd67079"
  },
  {
   "metadata": {
    "ExecuteTime": {
     "end_time": "2024-11-07T19:03:31.561202Z",
     "start_time": "2024-11-07T19:03:31.451375Z"
    }
   },
   "cell_type": "code",
   "source": [
    "import seaborn as sns\n",
    "\n",
    "# shkarkojme datasetin iris\n",
    "iris = sns.load_dataset('iris')\n",
    "iris.head(10)\n",
    "iris.tail()"
   ],
   "id": "26e47da651081be3",
   "outputs": [
    {
     "data": {
      "text/plain": [
       "     sepal_length  sepal_width  petal_length  petal_width    species\n",
       "145           6.7          3.0           5.2          2.3  virginica\n",
       "146           6.3          2.5           5.0          1.9  virginica\n",
       "147           6.5          3.0           5.2          2.0  virginica\n",
       "148           6.2          3.4           5.4          2.3  virginica\n",
       "149           5.9          3.0           5.1          1.8  virginica"
      ],
      "text/html": [
       "<div>\n",
       "<style scoped>\n",
       "    .dataframe tbody tr th:only-of-type {\n",
       "        vertical-align: middle;\n",
       "    }\n",
       "\n",
       "    .dataframe tbody tr th {\n",
       "        vertical-align: top;\n",
       "    }\n",
       "\n",
       "    .dataframe thead th {\n",
       "        text-align: right;\n",
       "    }\n",
       "</style>\n",
       "<table border=\"1\" class=\"dataframe\">\n",
       "  <thead>\n",
       "    <tr style=\"text-align: right;\">\n",
       "      <th></th>\n",
       "      <th>sepal_length</th>\n",
       "      <th>sepal_width</th>\n",
       "      <th>petal_length</th>\n",
       "      <th>petal_width</th>\n",
       "      <th>species</th>\n",
       "    </tr>\n",
       "  </thead>\n",
       "  <tbody>\n",
       "    <tr>\n",
       "      <th>145</th>\n",
       "      <td>6.7</td>\n",
       "      <td>3.0</td>\n",
       "      <td>5.2</td>\n",
       "      <td>2.3</td>\n",
       "      <td>virginica</td>\n",
       "    </tr>\n",
       "    <tr>\n",
       "      <th>146</th>\n",
       "      <td>6.3</td>\n",
       "      <td>2.5</td>\n",
       "      <td>5.0</td>\n",
       "      <td>1.9</td>\n",
       "      <td>virginica</td>\n",
       "    </tr>\n",
       "    <tr>\n",
       "      <th>147</th>\n",
       "      <td>6.5</td>\n",
       "      <td>3.0</td>\n",
       "      <td>5.2</td>\n",
       "      <td>2.0</td>\n",
       "      <td>virginica</td>\n",
       "    </tr>\n",
       "    <tr>\n",
       "      <th>148</th>\n",
       "      <td>6.2</td>\n",
       "      <td>3.4</td>\n",
       "      <td>5.4</td>\n",
       "      <td>2.3</td>\n",
       "      <td>virginica</td>\n",
       "    </tr>\n",
       "    <tr>\n",
       "      <th>149</th>\n",
       "      <td>5.9</td>\n",
       "      <td>3.0</td>\n",
       "      <td>5.1</td>\n",
       "      <td>1.8</td>\n",
       "      <td>virginica</td>\n",
       "    </tr>\n",
       "  </tbody>\n",
       "</table>\n",
       "</div>"
      ]
     },
     "execution_count": 2,
     "metadata": {},
     "output_type": "execute_result"
    }
   ],
   "execution_count": 2
  },
  {
   "metadata": {
    "ExecuteTime": {
     "end_time": "2024-11-07T19:03:31.926291Z",
     "start_time": "2024-11-07T19:03:31.878975Z"
    }
   },
   "cell_type": "code",
   "source": [
    "# per te ndertuar regr e thjeshte linear me duhet\n",
    "# nje variabel i vazhduar\n",
    "# variabli x- i cili eshte var i pavarur\n",
    "# atehere marr gjatesine dh egjeresine  epetales\n",
    "\n",
    "iris = iris[['petal_length', 'petal_width']]\n",
    "iris.info()"
   ],
   "id": "94757bde6ac3c14",
   "outputs": [
    {
     "name": "stdout",
     "output_type": "stream",
     "text": [
      "<class 'pandas.core.frame.DataFrame'>\n",
      "RangeIndex: 150 entries, 0 to 149\n",
      "Data columns (total 2 columns):\n",
      " #   Column        Non-Null Count  Dtype  \n",
      "---  ------        --------------  -----  \n",
      " 0   petal_length  150 non-null    float64\n",
      " 1   petal_width   150 non-null    float64\n",
      "dtypes: float64(2)\n",
      "memory usage: 2.5 KB\n"
     ]
    }
   ],
   "execution_count": 3
  },
  {
   "metadata": {
    "ExecuteTime": {
     "end_time": "2024-11-07T19:03:32.812801Z",
     "start_time": "2024-11-07T19:03:32.098688Z"
    }
   },
   "cell_type": "code",
   "source": [
    "# ndertoj scatter plot per te pare llojin e lidhjes midis dy variable qe zgjodha\n",
    "# Shfaqja e te dhenave ne forme grafike\n",
    "import matplotlib.pyplot as plt\n",
    "\n",
    "x = iris['petal_width']\n",
    "y = iris['petal_length']\n",
    "plt.scatter(x, y)\n",
    "plt.xlabel('petal_width')\n",
    "plt.ylabel('petal_length')\n",
    "plt.title('Scatter plot petal_width and petal_length')"
   ],
   "id": "ac965b43e603367f",
   "outputs": [
    {
     "data": {
      "text/plain": [
       "Text(0.5, 1.0, 'Scatter plot petal_width and petal_length')"
      ]
     },
     "execution_count": 4,
     "metadata": {},
     "output_type": "execute_result"
    },
    {
     "data": {
      "text/plain": [
       "<Figure size 640x480 with 1 Axes>"
      ],
      "image/png": "[encoded data removed]"
     },
     "metadata": {},
     "output_type": "display_data"
    }
   ],
   "execution_count": 4
  },
  {
   "metadata": {
    "ExecuteTime": {
     "end_time": "2024-11-07T19:03:33.323622Z",
     "start_time": "2024-11-07T19:03:32.923153Z"
    }
   },
   "cell_type": "code",
   "source": [
    "# hapi1: ndaj te dhenat e mia ne test-train pe rte ndertuar modelin dhe per ta provuar ate\n",
    "\n",
    "x = iris['petal_width']\n",
    "y = iris['petal_length']\n",
    "from sklearn.model_selection import train_test_split\n",
    "\n",
    "x_train, x_test, y_train, y_test = train_test_split(x, y, test_size=0.2, random_state=19)  # 20& test 80% train\n",
    "\n",
    "x_test"
   ],
   "id": "bc16b061c4688dea",
   "outputs": [
    {
     "data": {
      "text/plain": [
       "2      0.2\n",
       "112    2.1\n",
       "90     1.2\n",
       "88     1.3\n",
       "27     0.2\n",
       "7      0.2\n",
       "8      0.2\n",
       "37     0.1\n",
       "94     1.3\n",
       "105    2.1\n",
       "59     1.4\n",
       "23     0.5\n",
       "56     1.6\n",
       "30     0.2\n",
       "137    1.8\n",
       "42     0.2\n",
       "109    2.5\n",
       "14     0.2\n",
       "64     1.3\n",
       "18     0.3\n",
       "80     1.1\n",
       "73     1.2\n",
       "75     1.4\n",
       "96     1.3\n",
       "121    2.0\n",
       "76     1.4\n",
       "142    1.9\n",
       "134    1.4\n",
       "82     1.2\n",
       "114    2.4\n",
       "Name: petal_width, dtype: float64"
      ]
     },
     "execution_count": 5,
     "metadata": {},
     "output_type": "execute_result"
    }
   ],
   "execution_count": 5
  },
  {
   "metadata": {
    "ExecuteTime": {
     "end_time": "2024-11-07T19:03:33.475344Z",
     "start_time": "2024-11-07T19:03:33.459807Z"
    }
   },
   "cell_type": "code",
   "source": "x_train",
   "id": "d0f433d4b465d51b",
   "outputs": [
    {
     "data": {
      "text/plain": [
       "24     0.2\n",
       "119    1.5\n",
       "72     1.5\n",
       "106    1.7\n",
       "89     1.3\n",
       "      ... \n",
       "52     1.5\n",
       "19     0.3\n",
       "98     1.1\n",
       "110    2.0\n",
       "93     1.0\n",
       "Name: petal_width, Length: 120, dtype: float64"
      ]
     },
     "execution_count": 6,
     "metadata": {},
     "output_type": "execute_result"
    }
   ],
   "execution_count": 6
  },
  {
   "metadata": {
    "ExecuteTime": {
     "end_time": "2024-11-07T19:03:33.668137Z",
     "start_time": "2024-11-07T19:03:33.636848Z"
    }
   },
   "cell_type": "code",
   "source": [
    "import numpy as np\n",
    "\n",
    "x_train = np.array(x_train).reshape(-1, 1)\n",
    "x_test = np.array(x_test).reshape(-1, 1)"
   ],
   "id": "5f36ed4d2f76021a",
   "outputs": [],
   "execution_count": 7
  },
  {
   "metadata": {
    "ExecuteTime": {
     "end_time": "2024-11-07T19:03:34.092011Z",
     "start_time": "2024-11-07T19:03:33.935260Z"
    }
   },
   "cell_type": "code",
   "source": [
    "# therrasim modelin e regresit\n",
    "from sklearn.linear_model import LinearRegression\n",
    "\n",
    "linear_model = LinearRegression()\n",
    "linear_model.fit(x_train, y_train)"
   ],
   "id": "1b9d0ee75187456d",
   "outputs": [
    {
     "data": {
      "text/plain": [
       "LinearRegression()"
      ]
     },
     "execution_count": 8,
     "metadata": {},
     "output_type": "execute_result"
    }
   ],
   "execution_count": 8
  },
  {
   "metadata": {
    "ExecuteTime": {
     "end_time": "2024-11-07T19:03:34.300640Z",
     "start_time": "2024-11-07T19:03:34.264289Z"
    }
   },
   "cell_type": "code",
   "source": [
    "# therras funsk predict i cili parashikon ne baze te modelit te mesuar me siper\n",
    "# se sa do te jene vlerat e y\n",
    "# do te marrim perseri y_train per te vene ne prove mdoelin tim\n",
    "y_train_predct = linear_model.predict(x_train)"
   ],
   "id": "377068ca0ba2096b",
   "outputs": [],
   "execution_count": 9
  },
  {
   "metadata": {
    "ExecuteTime": {
     "end_time": "2024-11-07T19:03:34.998978Z",
     "start_time": "2024-11-07T19:03:34.475528Z"
    }
   },
   "cell_type": "code",
   "source": [
    "# grafiku i vlerave reale\n",
    "plt.scatter(x_train, y_train)\n",
    "\n",
    "# grafiku i vlerave te parashikuara\n",
    "plt.plot(x_train, y_train_predct, color='red')"
   ],
   "id": "a4550315981817c0",
   "outputs": [
    {
     "data": {
      "text/plain": [
       "[<matplotlib.lines.Line2D at 0x124891a3288>]"
      ]
     },
     "execution_count": 10,
     "metadata": {},
     "output_type": "execute_result"
    },
    {
     "data": {
      "text/plain": [
       "<Figure size 640x480 with 1 Axes>"
      ],
      "image/png": "[encoded data removed]"
     },
     "metadata": {},
     "output_type": "display_data"
    }
   ],
   "execution_count": 10
  },
  {
   "metadata": {
    "ExecuteTime": {
     "end_time": "2024-11-07T19:03:35.063254Z",
     "start_time": "2024-11-07T19:03:35.031974Z"
    }
   },
   "cell_type": "code",
   "source": [
    "# nga grafiku me siper jam e kenaqur me modelin tim\n",
    "# shoh keofiecentin i cili me tregon en shifra sa i sakte eshte modeli\n",
    "\n",
    "print('Coefficient:', linear_model.score(x_train, y_train))"
   ],
   "id": "b6cf91e6c5bfaf9d",
   "outputs": [
    {
     "name": "stdout",
     "output_type": "stream",
     "text": [
      "Coefficient: 0.9319828454400454\n"
     ]
    }
   ],
   "execution_count": 11
  },
  {
   "metadata": {
    "ExecuteTime": {
     "end_time": "2024-11-07T19:03:35.533651Z",
     "start_time": "2024-11-07T19:03:35.157589Z"
    }
   },
   "cell_type": "code",
   "source": [
    "# le te shohim modelin per te dhenat test\n",
    "y_test_predct = linear_model.predict(x_test)\n",
    "\n",
    "plt.scatter(x_test, y_test)\n",
    "plt.plot(x_test, y_test_predct, color='red')"
   ],
   "id": "8a8644a583cf1fa6",
   "outputs": [
    {
     "data": {
      "text/plain": [
       "[<matplotlib.lines.Line2D at 0x1248955d508>]"
      ]
     },
     "execution_count": 12,
     "metadata": {},
     "output_type": "execute_result"
    },
    {
     "data": {
      "text/plain": [
       "<Figure size 640x480 with 1 Axes>"
      ],
      "image/png": "[encoded data removed]"
     },
     "metadata": {},
     "output_type": "display_data"
    }
   ],
   "execution_count": 12
  },
  {
   "metadata": {
    "ExecuteTime": {
     "end_time": "2024-11-07T19:03:35.580541Z",
     "start_time": "2024-11-07T19:03:35.564916Z"
    }
   },
   "cell_type": "code",
   "source": [
    "# shohim keofiecentin per te dhenat test\n",
    "print('Coefficient:', linear_model.score(x_test, y_test))"
   ],
   "id": "864b42d2c83f666c",
   "outputs": [
    {
     "name": "stdout",
     "output_type": "stream",
     "text": [
      "Coefficient: 0.9048377085150454\n"
     ]
    }
   ],
   "execution_count": 13
  },
  {
   "metadata": {
    "ExecuteTime": {
     "end_time": "2024-11-07T19:03:35.627849Z",
     "start_time": "2024-11-07T19:03:35.611790Z"
    }
   },
   "cell_type": "code",
   "source": [
    "b1 = linear_model.coef_\n",
    "b0 = linear_model.intercept_\n",
    "print(b1)\n",
    "print(b0)\n",
    "\n",
    "y_pred_test = b0 + b1 * x_test"
   ],
   "id": "900ac659c9abe2d6",
   "outputs": [
    {
     "name": "stdout",
     "output_type": "stream",
     "text": [
      "[2.2394928]\n",
      "1.0642158249034734\n"
     ]
    }
   ],
   "execution_count": 14
  },
  {
   "metadata": {
    "ExecuteTime": {
     "end_time": "2024-11-07T19:03:35.886961Z",
     "start_time": "2024-11-07T19:03:35.659301Z"
    }
   },
   "cell_type": "code",
   "source": [
    "plt.scatter(x_test, y_test)\n",
    "plt.plot(x_test, y_pred_test, color = 'red')    "
   ],
   "id": "126be7fae6ece5cc",
   "outputs": [
    {
     "data": {
      "text/plain": [
       "[<matplotlib.lines.Line2D at 0x12489c72708>]"
      ]
     },
     "execution_count": 15,
     "metadata": {},
     "output_type": "execute_result"
    },
    {
     "data": {
      "text/plain": [
       "<Figure size 640x480 with 1 Axes>"
      ],
      "image/png": "[encoded data removed]"
     },
     "metadata": {},
     "output_type": "display_data"
    }
   ],
   "execution_count": 15
  }
 ],
 "metadata": {
  "kernelspec": {
   "display_name": "Python 3",
   "language": "python",
   "name": "python3"
  },
  "language_info": {
   "codemirror_mode": {
    "name": "ipython",
    "version": 2
   },
   "file_extension": ".py",
   "mimetype": "text/x-python",
   "name": "python",
   "nbconvert_exporter": "python",
   "pygments_lexer": "ipython2",
   "version": "2.7.6"
  }
 },
 "nbformat": 4,
 "nbformat_minor": 5
}
