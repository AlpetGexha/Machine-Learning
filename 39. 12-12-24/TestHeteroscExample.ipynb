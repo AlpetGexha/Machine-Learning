{
 "cells": [
  {
   "cell_type": "code",
   "execution_count": 2,
   "metadata": {},
   "outputs": [],
   "source": [
    "import matplotlib.pyplot as plt\n",
    "import numpy as np\n",
    "import pandas as pd\n",
    "from sklearn import datasets, linear_model\n",
    "from sklearn.metrics import mean_squared_error, r2_score\n",
    "from sklearn.linear_model import LinearRegression\n",
    "import statsmodels.formula.api as smf\n",
    "import statsmodels.api as sm"
   ]
  },
  {
   "cell_type": "code",
   "execution_count": 3,
   "metadata": {},
   "outputs": [
    {
     "data": {
      "text/html": [
       "<div>\n",
       "<style scoped>\n",
       "    .dataframe tbody tr th:only-of-type {\n",
       "        vertical-align: middle;\n",
       "    }\n",
       "\n",
       "    .dataframe tbody tr th {\n",
       "        vertical-align: top;\n",
       "    }\n",
       "\n",
       "    .dataframe thead th {\n",
       "        text-align: right;\n",
       "    }\n",
       "</style>\n",
       "<table border=\"1\" class=\"dataframe\">\n",
       "  <thead>\n",
       "    <tr style=\"text-align: right;\">\n",
       "      <th></th>\n",
       "      <th>Date</th>\n",
       "      <th>Open</th>\n",
       "      <th>High</th>\n",
       "      <th>Low</th>\n",
       "      <th>Close</th>\n",
       "      <th>Adj Close</th>\n",
       "      <th>Volume</th>\n",
       "    </tr>\n",
       "  </thead>\n",
       "  <tbody>\n",
       "    <tr>\n",
       "      <th>0</th>\n",
       "      <td>2019-01-02</td>\n",
       "      <td>37.470001</td>\n",
       "      <td>38.740002</td>\n",
       "      <td>37.410000</td>\n",
       "      <td>38.590000</td>\n",
       "      <td>32.781559</td>\n",
       "      <td>5537100</td>\n",
       "    </tr>\n",
       "    <tr>\n",
       "      <th>1</th>\n",
       "      <td>2019-01-03</td>\n",
       "      <td>38.959999</td>\n",
       "      <td>39.060001</td>\n",
       "      <td>38.480000</td>\n",
       "      <td>38.810001</td>\n",
       "      <td>32.968441</td>\n",
       "      <td>7137300</td>\n",
       "    </tr>\n",
       "    <tr>\n",
       "      <th>2</th>\n",
       "      <td>2019-01-04</td>\n",
       "      <td>39.570000</td>\n",
       "      <td>40.080002</td>\n",
       "      <td>39.419998</td>\n",
       "      <td>40.029999</td>\n",
       "      <td>34.004814</td>\n",
       "      <td>9336700</td>\n",
       "    </tr>\n",
       "    <tr>\n",
       "      <th>3</th>\n",
       "      <td>2019-01-07</td>\n",
       "      <td>39.700001</td>\n",
       "      <td>40.310001</td>\n",
       "      <td>39.580002</td>\n",
       "      <td>40.160000</td>\n",
       "      <td>34.115242</td>\n",
       "      <td>6114300</td>\n",
       "    </tr>\n",
       "    <tr>\n",
       "      <th>4</th>\n",
       "      <td>2019-01-08</td>\n",
       "      <td>40.180000</td>\n",
       "      <td>40.259998</td>\n",
       "      <td>39.830002</td>\n",
       "      <td>40.029999</td>\n",
       "      <td>34.004814</td>\n",
       "      <td>5654900</td>\n",
       "    </tr>\n",
       "  </tbody>\n",
       "</table>\n",
       "</div>"
      ],
      "text/plain": [
       "         Date       Open       High        Low      Close  Adj Close   Volume\n",
       "0  2019-01-02  37.470001  38.740002  37.410000  38.590000  32.781559  5537100\n",
       "1  2019-01-03  38.959999  39.060001  38.480000  38.810001  32.968441  7137300\n",
       "2  2019-01-04  39.570000  40.080002  39.419998  40.029999  34.004814  9336700\n",
       "3  2019-01-07  39.700001  40.310001  39.580002  40.160000  34.115242  6114300\n",
       "4  2019-01-08  40.180000  40.259998  39.830002  40.029999  34.004814  5654900"
      ]
     },
     "execution_count": 3,
     "metadata": {},
     "output_type": "execute_result"
    }
   ],
   "source": [
    "import matplotlib.pyplot as plt\n",
    "import pandas as pd\n",
    "data = pd.read_csv(\"dataset2.csv\")\n",
    "data.head()\n"
   ]
  },
  {
   "cell_type": "code",
   "execution_count": 4,
   "metadata": {},
   "outputs": [
    {
     "name": "stdout",
     "output_type": "stream",
     "text": [
      "<class 'pandas.core.frame.DataFrame'>\n",
      "RangeIndex: 607 entries, 0 to 606\n",
      "Data columns (total 7 columns):\n",
      " #   Column     Non-Null Count  Dtype  \n",
      "---  ------     --------------  -----  \n",
      " 0   Date       607 non-null    object \n",
      " 1   Open       607 non-null    float64\n",
      " 2   High       607 non-null    float64\n",
      " 3   Low        607 non-null    float64\n",
      " 4   Close      607 non-null    float64\n",
      " 5   Adj Close  607 non-null    float64\n",
      " 6   Volume     607 non-null    int64  \n",
      "dtypes: float64(5), int64(1), object(1)\n",
      "memory usage: 33.3+ KB\n"
     ]
    }
   ],
   "source": [
    "data.info()"
   ]
  },
  {
   "cell_type": "code",
   "execution_count": 5,
   "metadata": {},
   "outputs": [],
   "source": [
    "# Heteroscedasticity Testing\n",
    "\n",
    "# Dependent variable Y\n",
    "Y = data['Close']\n",
    "\n",
    "#Open + Volume = independent variables X\n",
    "X = data[['Open','Volume']]"
   ]
  },
  {
   "cell_type": "code",
   "execution_count": 6,
   "metadata": {},
   "outputs": [],
   "source": [
    "# #fit regression model\n",
    "# model = sm.OLS(Y, X).fit()\n",
    "\n",
    "fit = smf.ols('Close ~ Open+Volume', data=data).fit()"
   ]
  },
  {
   "cell_type": "code",
   "execution_count": 7,
   "metadata": {},
   "outputs": [
    {
     "name": "stdout",
     "output_type": "stream",
     "text": [
      "                            OLS Regression Results                            \n",
      "==============================================================================\n",
      "Dep. Variable:                  Close   R-squared:                       0.999\n",
      "Model:                            OLS   Adj. R-squared:                  0.999\n",
      "Method:                 Least Squares   F-statistic:                 2.023e+05\n",
      "Date:                Thu, 12 Dec 2024   Prob (F-statistic):               0.00\n",
      "Time:                        19:59:46   Log-Likelihood:                -220.96\n",
      "No. Observations:                 607   AIC:                             447.9\n",
      "Df Residuals:                     604   BIC:                             461.2\n",
      "Df Model:                           2                                         \n",
      "Covariance Type:            nonrobust                                         \n",
      "==============================================================================\n",
      "                 coef    std err          t      P>|t|      [0.025      0.975]\n",
      "------------------------------------------------------------------------------\n",
      "Intercept     -0.0847      0.089     -0.952      0.341      -0.259       0.090\n",
      "Open           1.0008      0.002    481.417      0.000       0.997       1.005\n",
      "Volume      1.774e-09   2.76e-09      0.642      0.521   -3.65e-09     7.2e-09\n",
      "==============================================================================\n",
      "Omnibus:                       22.949   Durbin-Watson:                   2.085\n",
      "Prob(Omnibus):                  0.000   Jarque-Bera (JB):               52.114\n",
      "Skew:                           0.141   Prob(JB):                     4.83e-12\n",
      "Kurtosis:                       4.408   Cond. No.                     8.24e+07\n",
      "==============================================================================\n",
      "\n",
      "Notes:\n",
      "[1] Standard Errors assume that the covariance matrix of the errors is correctly specified.\n",
      "[2] The condition number is large, 8.24e+07. This might indicate that there are\n",
      "strong multicollinearity or other numerical problems.\n"
     ]
    }
   ],
   "source": [
    "#view model summary\n",
    "print(fit.summary())"
   ]
  },
  {
   "cell_type": "code",
   "execution_count": 8,
   "metadata": {},
   "outputs": [
    {
     "data": {
      "text/plain": [
       "[('Lagrange multiplier statistic', 57.990110388181066),\n",
       " ('p-value', 2.556274729341133e-13),\n",
       " ('f-value', 31.899267515223393),\n",
       " ('f p-value', 6.764347982828124e-14)]"
      ]
     },
     "execution_count": 8,
     "metadata": {},
     "output_type": "execute_result"
    }
   ],
   "source": [
    "from statsmodels.compat import lzip\n",
    "import statsmodels.stats.api as sms\n",
    "#perform Bresuch-Pagan test\n",
    "names = ['Lagrange multiplier statistic', 'p-value', 'f-value', 'f p-value']\n",
    "test = sms.het_breuschpagan(fit.resid, fit.model.exog)\n",
    "lzip(names, test)"
   ]
  },
  {
   "cell_type": "code",
   "execution_count": 9,
   "metadata": {},
   "outputs": [],
   "source": [
    "import numpy as np\n",
    "# Heteroscedasticity Cleaning\n",
    "\n",
    "# Dependent variable Y\n",
    "y1 = data['Close']\n",
    "y = np.sqrt(data['Close'])\n",
    "\n",
    "#Open + Volume = independent variables X\n",
    "x = data[['Open','Volume']]"
   ]
  },
  {
   "cell_type": "code",
   "execution_count": 10,
   "metadata": {},
   "outputs": [
    {
     "data": {
      "text/html": [
       "<table class=\"simpletable\">\n",
       "<caption>OLS Regression Results</caption>\n",
       "<tr>\n",
       "  <th>Dep. Variable:</th>          <td>Close</td>      <th>  R-squared:         </th> <td>   0.995</td> \n",
       "</tr>\n",
       "<tr>\n",
       "  <th>Model:</th>                   <td>OLS</td>       <th>  Adj. R-squared:    </th> <td>   0.995</td> \n",
       "</tr>\n",
       "<tr>\n",
       "  <th>Method:</th>             <td>Least Squares</td>  <th>  F-statistic:       </th> <td>6.486e+04</td>\n",
       "</tr>\n",
       "<tr>\n",
       "  <th>Date:</th>             <td>Thu, 12 Dec 2024</td> <th>  Prob (F-statistic):</th>  <td>  0.00</td>  \n",
       "</tr>\n",
       "<tr>\n",
       "  <th>Time:</th>                 <td>19:59:55</td>     <th>  Log-Likelihood:    </th> <td>  886.50</td> \n",
       "</tr>\n",
       "<tr>\n",
       "  <th>No. Observations:</th>      <td>   607</td>      <th>  AIC:               </th> <td>  -1767.</td> \n",
       "</tr>\n",
       "<tr>\n",
       "  <th>Df Residuals:</th>          <td>   604</td>      <th>  BIC:               </th> <td>  -1754.</td> \n",
       "</tr>\n",
       "<tr>\n",
       "  <th>Df Model:</th>              <td>     2</td>      <th>                     </th>     <td> </td>    \n",
       "</tr>\n",
       "<tr>\n",
       "  <th>Covariance Type:</th>      <td>nonrobust</td>    <th>                     </th>     <td> </td>    \n",
       "</tr>\n",
       "</table>\n",
       "<table class=\"simpletable\">\n",
       "<tr>\n",
       "     <td></td>       <th>coef</th>     <th>std err</th>      <th>t</th>      <th>P>|t|</th>  <th>[0.025</th>    <th>0.975]</th>  \n",
       "</tr>\n",
       "<tr>\n",
       "  <th>const</th>  <td>    2.6562</td> <td>    0.014</td> <td>  185.139</td> <td> 0.000</td> <td>    2.628</td> <td>    2.684</td>\n",
       "</tr>\n",
       "<tr>\n",
       "  <th>Open</th>   <td>    0.0916</td> <td>    0.000</td> <td>  273.215</td> <td> 0.000</td> <td>    0.091</td> <td>    0.092</td>\n",
       "</tr>\n",
       "<tr>\n",
       "  <th>Volume</th> <td> 5.724e-10</td> <td> 4.45e-10</td> <td>    1.285</td> <td> 0.199</td> <td>-3.02e-10</td> <td> 1.45e-09</td>\n",
       "</tr>\n",
       "</table>\n",
       "<table class=\"simpletable\">\n",
       "<tr>\n",
       "  <th>Omnibus:</th>       <td>48.233</td> <th>  Durbin-Watson:     </th> <td>   0.768</td>\n",
       "</tr>\n",
       "<tr>\n",
       "  <th>Prob(Omnibus):</th> <td> 0.000</td> <th>  Jarque-Bera (JB):  </th> <td>  69.017</td>\n",
       "</tr>\n",
       "<tr>\n",
       "  <th>Skew:</th>          <td>-0.603</td> <th>  Prob(JB):          </th> <td>1.03e-15</td>\n",
       "</tr>\n",
       "<tr>\n",
       "  <th>Kurtosis:</th>      <td> 4.130</td> <th>  Cond. No.          </th> <td>8.24e+07</td>\n",
       "</tr>\n",
       "</table><br/><br/>Notes:<br/>[1] Standard Errors assume that the covariance matrix of the errors is correctly specified.<br/>[2] The condition number is large, 8.24e+07. This might indicate that there are<br/>strong multicollinearity or other numerical problems."
      ],
      "text/latex": [
       "\\begin{center}\n",
       "\\begin{tabular}{lclc}\n",
       "\\toprule\n",
       "\\textbf{Dep. Variable:}    &      Close       & \\textbf{  R-squared:         } &     0.995   \\\\\n",
       "\\textbf{Model:}            &       OLS        & \\textbf{  Adj. R-squared:    } &     0.995   \\\\\n",
       "\\textbf{Method:}           &  Least Squares   & \\textbf{  F-statistic:       } & 6.486e+04   \\\\\n",
       "\\textbf{Date:}             & Thu, 12 Dec 2024 & \\textbf{  Prob (F-statistic):} &     0.00    \\\\\n",
       "\\textbf{Time:}             &     19:59:55     & \\textbf{  Log-Likelihood:    } &    886.50   \\\\\n",
       "\\textbf{No. Observations:} &         607      & \\textbf{  AIC:               } &    -1767.   \\\\\n",
       "\\textbf{Df Residuals:}     &         604      & \\textbf{  BIC:               } &    -1754.   \\\\\n",
       "\\textbf{Df Model:}         &           2      & \\textbf{                     } &             \\\\\n",
       "\\textbf{Covariance Type:}  &    nonrobust     & \\textbf{                     } &             \\\\\n",
       "\\bottomrule\n",
       "\\end{tabular}\n",
       "\\begin{tabular}{lcccccc}\n",
       "                & \\textbf{coef} & \\textbf{std err} & \\textbf{t} & \\textbf{P$> |$t$|$} & \\textbf{[0.025} & \\textbf{0.975]}  \\\\\n",
       "\\midrule\n",
       "\\textbf{const}  &       2.6562  &        0.014     &   185.139  &         0.000        &        2.628    &        2.684     \\\\\n",
       "\\textbf{Open}   &       0.0916  &        0.000     &   273.215  &         0.000        &        0.091    &        0.092     \\\\\n",
       "\\textbf{Volume} &    5.724e-10  &     4.45e-10     &     1.285  &         0.199        &    -3.02e-10    &     1.45e-09     \\\\\n",
       "\\bottomrule\n",
       "\\end{tabular}\n",
       "\\begin{tabular}{lclc}\n",
       "\\textbf{Omnibus:}       & 48.233 & \\textbf{  Durbin-Watson:     } &    0.768  \\\\\n",
       "\\textbf{Prob(Omnibus):} &  0.000 & \\textbf{  Jarque-Bera (JB):  } &   69.017  \\\\\n",
       "\\textbf{Skew:}          & -0.603 & \\textbf{  Prob(JB):          } & 1.03e-15  \\\\\n",
       "\\textbf{Kurtosis:}      &  4.130 & \\textbf{  Cond. No.          } & 8.24e+07  \\\\\n",
       "\\bottomrule\n",
       "\\end{tabular}\n",
       "%\\caption{OLS Regression Results}\n",
       "\\end{center}\n",
       "\n",
       "Notes: \\newline\n",
       " [1] Standard Errors assume that the covariance matrix of the errors is correctly specified. \\newline\n",
       " [2] The condition number is large, 8.24e+07. This might indicate that there are \\newline\n",
       " strong multicollinearity or other numerical problems."
      ],
      "text/plain": [
       "<class 'statsmodels.iolib.summary.Summary'>\n",
       "\"\"\"\n",
       "                            OLS Regression Results                            \n",
       "==============================================================================\n",
       "Dep. Variable:                  Close   R-squared:                       0.995\n",
       "Model:                            OLS   Adj. R-squared:                  0.995\n",
       "Method:                 Least Squares   F-statistic:                 6.486e+04\n",
       "Date:                Thu, 12 Dec 2024   Prob (F-statistic):               0.00\n",
       "Time:                        19:59:55   Log-Likelihood:                 886.50\n",
       "No. Observations:                 607   AIC:                            -1767.\n",
       "Df Residuals:                     604   BIC:                            -1754.\n",
       "Df Model:                           2                                         \n",
       "Covariance Type:            nonrobust                                         \n",
       "==============================================================================\n",
       "                 coef    std err          t      P>|t|      [0.025      0.975]\n",
       "------------------------------------------------------------------------------\n",
       "const          2.6562      0.014    185.139      0.000       2.628       2.684\n",
       "Open           0.0916      0.000    273.215      0.000       0.091       0.092\n",
       "Volume      5.724e-10   4.45e-10      1.285      0.199   -3.02e-10    1.45e-09\n",
       "==============================================================================\n",
       "Omnibus:                       48.233   Durbin-Watson:                   0.768\n",
       "Prob(Omnibus):                  0.000   Jarque-Bera (JB):               69.017\n",
       "Skew:                          -0.603   Prob(JB):                     1.03e-15\n",
       "Kurtosis:                       4.130   Cond. No.                     8.24e+07\n",
       "==============================================================================\n",
       "\n",
       "Notes:\n",
       "[1] Standard Errors assume that the covariance matrix of the errors is correctly specified.\n",
       "[2] The condition number is large, 8.24e+07. This might indicate that there are\n",
       "strong multicollinearity or other numerical problems.\n",
       "\"\"\""
      ]
     },
     "execution_count": 10,
     "metadata": {},
     "output_type": "execute_result"
    }
   ],
   "source": [
    "x = sm.add_constant(x)\n",
    "y_model = sm.OLS(y,x).fit()\n",
    "y_model.summary()\n"
   ]
  },
  {
   "cell_type": "code",
   "execution_count": 11,
   "metadata": {},
   "outputs": [
    {
     "data": {
      "text/plain": [
       "[('Lagrange multiplier statistic', 74.84679605069607),\n",
       " ('p-value', 5.587592728746218e-17),\n",
       " ('f-value', 42.475986688719765),\n",
       " ('f p-value', 5.496586120304308e-18)]"
      ]
     },
     "execution_count": 11,
     "metadata": {},
     "output_type": "execute_result"
    }
   ],
   "source": [
    "names = ['Lagrange multiplier statistic', 'p-value', 'f-value', 'f p-value']\n",
    "test = sms.het_breuschpagan(y_model.resid, y_model.model.exog)\n",
    "lzip(names, test)"
   ]
  },
  {
   "cell_type": "code",
   "execution_count": 12,
   "metadata": {},
   "outputs": [
    {
     "data": {
      "text/plain": [
       "Text(0.5, 1.0, 'Cube root Transformed data')"
      ]
     },
     "execution_count": 12,
     "metadata": {},
     "output_type": "execute_result"
    },
    {
     "data": {
      "image/png": "[encoded data removed]",
      "text/plain": [
       "<Figure size 640x480 with 2 Axes>"
      ]
     },
     "metadata": {},
     "output_type": "display_data"
    }
   ],
   "source": [
    "fig, axs = plt.subplots(nrows=1, ncols=2)\n",
    "axs[0].hist(y1)\n",
    "axs[1].hist(y)\n",
    "\n",
    "axs[0].set_title('Original Data')\n",
    "axs[1].set_title('Cube root Transformed data')"
   ]
  },
  {
   "cell_type": "code",
   "execution_count": 13,
   "metadata": {},
   "outputs": [
    {
     "name": "stdout",
     "output_type": "stream",
     "text": [
      "<class 'pandas.core.frame.DataFrame'>\n",
      "RangeIndex: 607 entries, 0 to 606\n",
      "Data columns (total 7 columns):\n",
      " #   Column     Non-Null Count  Dtype  \n",
      "---  ------     --------------  -----  \n",
      " 0   Date       607 non-null    object \n",
      " 1   Open       607 non-null    float64\n",
      " 2   High       607 non-null    float64\n",
      " 3   Low        607 non-null    float64\n",
      " 4   Close      607 non-null    float64\n",
      " 5   Adj Close  607 non-null    float64\n",
      " 6   Volume     607 non-null    int64  \n",
      "dtypes: float64(5), int64(1), object(1)\n",
      "memory usage: 33.3+ KB\n"
     ]
    }
   ],
   "source": [
    "data.info()"
   ]
  },
  {
   "cell_type": "code",
   "execution_count": 14,
   "metadata": {},
   "outputs": [],
   "source": [
    "data['Open'] = data['Open'].astype(int)\n",
    "data['Close'] = data['Close'].astype(int)"
   ]
  },
  {
   "cell_type": "code",
   "execution_count": 15,
   "metadata": {},
   "outputs": [
    {
     "name": "stdout",
     "output_type": "stream",
     "text": [
      "<class 'pandas.core.frame.DataFrame'>\n",
      "RangeIndex: 607 entries, 0 to 606\n",
      "Data columns (total 7 columns):\n",
      " #   Column     Non-Null Count  Dtype  \n",
      "---  ------     --------------  -----  \n",
      " 0   Date       607 non-null    object \n",
      " 1   Open       607 non-null    int32  \n",
      " 2   High       607 non-null    float64\n",
      " 3   Low        607 non-null    float64\n",
      " 4   Close      607 non-null    int32  \n",
      " 5   Adj Close  607 non-null    float64\n",
      " 6   Volume     607 non-null    int64  \n",
      "dtypes: float64(3), int32(2), int64(1), object(1)\n",
      "memory usage: 28.6+ KB\n"
     ]
    }
   ],
   "source": [
    "data.info()"
   ]
  },
  {
   "cell_type": "code",
   "execution_count": 29,
   "metadata": {},
   "outputs": [],
   "source": [
    "# Dependent variable Y\n",
    "y = np.log(data['Close'])\n",
    "errors = y - np.mean(y)\n",
    "err_varnc = np.var(errors)\n",
    "weights = 1/err_varnc\n",
    "weights\n",
    "\n",
    "\n",
    "#Open + Volume = independent variables X\n",
    "x = data[['Open','Volume']]\n",
    "\n",
    "x = sm.add_constant(x)\n",
    "y_model_w = sm.WLS(y,x, weights=weights)\n"
   ]
  },
  {
   "cell_type": "code",
   "execution_count": 30,
   "metadata": {},
   "outputs": [],
   "source": [
    "results = y_model_w.fit()"
   ]
  },
  {
   "cell_type": "code",
   "execution_count": 37,
   "metadata": {},
   "outputs": [],
   "source": [
    "y_pred = results.predict(x)"
   ]
  },
  {
   "cell_type": "code",
   "execution_count": 26,
   "metadata": {},
   "outputs": [
    {
     "data": {
      "text/html": [
       "<table class=\"simpletable\">\n",
       "<caption>WLS Regression Results</caption>\n",
       "<tr>\n",
       "  <th>Dep. Variable:</th>          <td>Close</td>      <th>  R-squared:         </th> <td>   0.996</td> \n",
       "</tr>\n",
       "<tr>\n",
       "  <th>Model:</th>                   <td>WLS</td>       <th>  Adj. R-squared:    </th> <td>   0.996</td> \n",
       "</tr>\n",
       "<tr>\n",
       "  <th>Method:</th>             <td>Least Squares</td>  <th>  F-statistic:       </th> <td>7.723e+04</td>\n",
       "</tr>\n",
       "<tr>\n",
       "  <th>Date:</th>             <td>Thu, 12 Dec 2024</td> <th>  Prob (F-statistic):</th>  <td>  0.00</td>  \n",
       "</tr>\n",
       "<tr>\n",
       "  <th>Time:</th>                 <td>20:04:15</td>     <th>  Log-Likelihood:    </th> <td> -513.49</td> \n",
       "</tr>\n",
       "<tr>\n",
       "  <th>No. Observations:</th>      <td>   607</td>      <th>  AIC:               </th> <td>   1033.</td> \n",
       "</tr>\n",
       "<tr>\n",
       "  <th>Df Residuals:</th>          <td>   604</td>      <th>  BIC:               </th> <td>   1046.</td> \n",
       "</tr>\n",
       "<tr>\n",
       "  <th>Df Model:</th>              <td>     2</td>      <th>                     </th>     <td> </td>    \n",
       "</tr>\n",
       "<tr>\n",
       "  <th>Covariance Type:</th>      <td>nonrobust</td>    <th>                     </th>     <td> </td>    \n",
       "</tr>\n",
       "</table>\n",
       "<table class=\"simpletable\">\n",
       "<tr>\n",
       "     <td></td>       <th>coef</th>     <th>std err</th>      <th>t</th>      <th>P>|t|</th>  <th>[0.025</th>    <th>0.975]</th>  \n",
       "</tr>\n",
       "<tr>\n",
       "  <th>const</th>  <td>   -0.0494</td> <td>    0.142</td> <td>   -0.347</td> <td> 0.729</td> <td>   -0.329</td> <td>    0.230</td>\n",
       "</tr>\n",
       "<tr>\n",
       "  <th>Open</th>   <td>    0.9998</td> <td>    0.003</td> <td>  297.508</td> <td> 0.000</td> <td>    0.993</td> <td>    1.006</td>\n",
       "</tr>\n",
       "<tr>\n",
       "  <th>Volume</th> <td> 1.495e-09</td> <td> 4.47e-09</td> <td>    0.335</td> <td> 0.738</td> <td>-7.28e-09</td> <td> 1.03e-08</td>\n",
       "</tr>\n",
       "</table>\n",
       "<table class=\"simpletable\">\n",
       "<tr>\n",
       "  <th>Omnibus:</th>       <td> 5.051</td> <th>  Durbin-Watson:     </th> <td>   2.047</td>\n",
       "</tr>\n",
       "<tr>\n",
       "  <th>Prob(Omnibus):</th> <td> 0.080</td> <th>  Jarque-Bera (JB):  </th> <td>   6.467</td>\n",
       "</tr>\n",
       "<tr>\n",
       "  <th>Skew:</th>          <td>-0.031</td> <th>  Prob(JB):          </th> <td>  0.0394</td>\n",
       "</tr>\n",
       "<tr>\n",
       "  <th>Kurtosis:</th>      <td> 3.502</td> <th>  Cond. No.          </th> <td>8.14e+07</td>\n",
       "</tr>\n",
       "</table><br/><br/>Notes:<br/>[1] Standard Errors assume that the covariance matrix of the errors is correctly specified.<br/>[2] The condition number is large, 8.14e+07. This might indicate that there are<br/>strong multicollinearity or other numerical problems."
      ],
      "text/latex": [
       "\\begin{center}\n",
       "\\begin{tabular}{lclc}\n",
       "\\toprule\n",
       "\\textbf{Dep. Variable:}    &      Close       & \\textbf{  R-squared:         } &     0.996   \\\\\n",
       "\\textbf{Model:}            &       WLS        & \\textbf{  Adj. R-squared:    } &     0.996   \\\\\n",
       "\\textbf{Method:}           &  Least Squares   & \\textbf{  F-statistic:       } & 7.723e+04   \\\\\n",
       "\\textbf{Date:}             & Thu, 12 Dec 2024 & \\textbf{  Prob (F-statistic):} &     0.00    \\\\\n",
       "\\textbf{Time:}             &     20:04:15     & \\textbf{  Log-Likelihood:    } &   -513.49   \\\\\n",
       "\\textbf{No. Observations:} &         607      & \\textbf{  AIC:               } &     1033.   \\\\\n",
       "\\textbf{Df Residuals:}     &         604      & \\textbf{  BIC:               } &     1046.   \\\\\n",
       "\\textbf{Df Model:}         &           2      & \\textbf{                     } &             \\\\\n",
       "\\textbf{Covariance Type:}  &    nonrobust     & \\textbf{                     } &             \\\\\n",
       "\\bottomrule\n",
       "\\end{tabular}\n",
       "\\begin{tabular}{lcccccc}\n",
       "                & \\textbf{coef} & \\textbf{std err} & \\textbf{t} & \\textbf{P$> |$t$|$} & \\textbf{[0.025} & \\textbf{0.975]}  \\\\\n",
       "\\midrule\n",
       "\\textbf{const}  &      -0.0494  &        0.142     &    -0.347  &         0.729        &       -0.329    &        0.230     \\\\\n",
       "\\textbf{Open}   &       0.9998  &        0.003     &   297.508  &         0.000        &        0.993    &        1.006     \\\\\n",
       "\\textbf{Volume} &    1.495e-09  &     4.47e-09     &     0.335  &         0.738        &    -7.28e-09    &     1.03e-08     \\\\\n",
       "\\bottomrule\n",
       "\\end{tabular}\n",
       "\\begin{tabular}{lclc}\n",
       "\\textbf{Omnibus:}       &  5.051 & \\textbf{  Durbin-Watson:     } &    2.047  \\\\\n",
       "\\textbf{Prob(Omnibus):} &  0.080 & \\textbf{  Jarque-Bera (JB):  } &    6.467  \\\\\n",
       "\\textbf{Skew:}          & -0.031 & \\textbf{  Prob(JB):          } &   0.0394  \\\\\n",
       "\\textbf{Kurtosis:}      &  3.502 & \\textbf{  Cond. No.          } & 8.14e+07  \\\\\n",
       "\\bottomrule\n",
       "\\end{tabular}\n",
       "%\\caption{WLS Regression Results}\n",
       "\\end{center}\n",
       "\n",
       "Notes: \\newline\n",
       " [1] Standard Errors assume that the covariance matrix of the errors is correctly specified. \\newline\n",
       " [2] The condition number is large, 8.14e+07. This might indicate that there are \\newline\n",
       " strong multicollinearity or other numerical problems."
      ],
      "text/plain": [
       "<class 'statsmodels.iolib.summary.Summary'>\n",
       "\"\"\"\n",
       "                            WLS Regression Results                            \n",
       "==============================================================================\n",
       "Dep. Variable:                  Close   R-squared:                       0.996\n",
       "Model:                            WLS   Adj. R-squared:                  0.996\n",
       "Method:                 Least Squares   F-statistic:                 7.723e+04\n",
       "Date:                Thu, 12 Dec 2024   Prob (F-statistic):               0.00\n",
       "Time:                        20:04:15   Log-Likelihood:                -513.49\n",
       "No. Observations:                 607   AIC:                             1033.\n",
       "Df Residuals:                     604   BIC:                             1046.\n",
       "Df Model:                           2                                         \n",
       "Covariance Type:            nonrobust                                         \n",
       "==============================================================================\n",
       "                 coef    std err          t      P>|t|      [0.025      0.975]\n",
       "------------------------------------------------------------------------------\n",
       "const         -0.0494      0.142     -0.347      0.729      -0.329       0.230\n",
       "Open           0.9998      0.003    297.508      0.000       0.993       1.006\n",
       "Volume      1.495e-09   4.47e-09      0.335      0.738   -7.28e-09    1.03e-08\n",
       "==============================================================================\n",
       "Omnibus:                        5.051   Durbin-Watson:                   2.047\n",
       "Prob(Omnibus):                  0.080   Jarque-Bera (JB):                6.467\n",
       "Skew:                          -0.031   Prob(JB):                       0.0394\n",
       "Kurtosis:                       3.502   Cond. No.                     8.14e+07\n",
       "==============================================================================\n",
       "\n",
       "Notes:\n",
       "[1] Standard Errors assume that the covariance matrix of the errors is correctly specified.\n",
       "[2] The condition number is large, 8.14e+07. This might indicate that there are\n",
       "strong multicollinearity or other numerical problems.\n",
       "\"\"\""
      ]
     },
     "execution_count": 26,
     "metadata": {},
     "output_type": "execute_result"
    }
   ],
   "source": [
    "results.summary()"
   ]
  },
  {
   "cell_type": "code",
   "execution_count": 38,
   "metadata": {},
   "outputs": [
    {
     "data": {
      "text/plain": [
       "Text(0.5, 1.0, 'Cube root Transformed data')"
      ]
     },
     "execution_count": 38,
     "metadata": {},
     "output_type": "execute_result"
    },
    {
     "data": {
      "image/png": "[encoded data removed]",
      "text/plain": [
       "<Figure size 640x480 with 2 Axes>"
      ]
     },
     "metadata": {},
     "output_type": "display_data"
    }
   ],
   "source": [
    "fig, axs = plt.subplots(nrows=1, ncols=2)\n",
    "axs[0].hist(y1)\n",
    "axs[1].hist(y_pred)\n",
    "\n",
    "axs[0].set_title('Original Data')\n",
    "axs[1].set_title('Cube root Transformed data')"
   ]
  }
 ],
 "metadata": {
  "kernelspec": {
   "display_name": "Python 3",
   "language": "python",
   "name": "python3"
  },
  "language_info": {
   "codemirror_mode": {
    "name": "ipython",
    "version": 3
   },
   "file_extension": ".py",
   "mimetype": "text/x-python",
   "name": "python",
   "nbconvert_exporter": "python",
   "pygments_lexer": "ipython3",
   "version": "3.11.9"
  }
 },
 "nbformat": 4,
 "nbformat_minor": 2
}
