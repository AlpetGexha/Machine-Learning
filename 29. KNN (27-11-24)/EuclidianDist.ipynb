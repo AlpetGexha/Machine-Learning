{
 "cells": [
  {
   "cell_type": "code",
   "execution_count": 1,
   "metadata": {},
   "outputs": [
    {
     "name": "stdout",
     "output_type": "stream",
     "text": [
      "((1, 5), (2, 6), (3, 7))\n"
     ]
    }
   ],
   "source": [
    "a= (1,2,3)\n",
    "b=(5,6,7)\n",
    "x = zip(a,b)\n",
    "print(tuple(x))"
   ]
  },
  {
   "cell_type": "code",
   "execution_count": 2,
   "metadata": {},
   "outputs": [
    {
     "data": {
      "text/plain": [
       "9.848857801796104"
      ]
     },
     "execution_count": 2,
     "metadata": {},
     "output_type": "execute_result"
    }
   ],
   "source": [
    "from math import sqrt\n",
    "\n",
    "# calculate euclidean distance\n",
    "from math import sqrt\n",
    "\n",
    "# ndertoj funksionin qe llogarit euclidean distance\n",
    "def euclidean_distance(a, b):\n",
    "\treturn sqrt(sum((e1-e2)**2 for e1, e2 in zip(a,b)))\n",
    "\n",
    "\n",
    "# sqrt = square root\n",
    "row1 = [10, 20, 15,19,5]\n",
    "row2 = [12, 24, 18, 11, 7]\n",
    "dist = euclidean_distance(row1, row2)\n",
    "dist\n"
   ]
  },
  {
   "cell_type": "code",
   "execution_count": 3,
   "metadata": {},
   "outputs": [
    {
     "data": {
      "text/plain": [
       "9.848857801796104"
      ]
     },
     "execution_count": 3,
     "metadata": {},
     "output_type": "execute_result"
    }
   ],
   "source": [
    "# calculating euclidean distance between vectors\n",
    "# pip install scipy\n",
    "from scipy.spatial.distance import euclidean\n",
    "row1 = [10, 20, 15,19,5]\n",
    "row2 = [12, 24, 18, 11, 7]\n",
    "dist = euclidean(row1,row2)\n",
    "dist"
   ]
  },
  {
   "cell_type": "code",
   "execution_count": 4,
   "metadata": {},
   "outputs": [
    {
     "data": {
      "text/plain": [
       "19"
      ]
     },
     "execution_count": 4,
     "metadata": {},
     "output_type": "execute_result"
    }
   ],
   "source": [
    "\n",
    "# calculate manhattan distance\n",
    "\n",
    "# llogaritja e  ‘manhattan distance’ midis vektroeve\n",
    "# abs()\n",
    "\n",
    "# ndertoj funksionin qe llogarit manhattan distance\n",
    "def manhattan_distance(a, b):\n",
    "\treturn sum(abs(e1-e2) for e1, e2 in zip(a,b))\n",
    "\n",
    "row1 = [10, 20, 15,19,5]\n",
    "row2 = [12, 24, 18, 11, 7]\n",
    "\n",
    "dist = manhattan_distance(row1, row2)\n",
    "dist\n",
    "\n"
   ]
  },
  {
   "cell_type": "code",
   "execution_count": 5,
   "metadata": {},
   "outputs": [
    {
     "data": {
      "text/plain": [
       "19"
      ]
     },
     "execution_count": 5,
     "metadata": {},
     "output_type": "execute_result"
    }
   ],
   "source": [
    "# calculating manhattan distance between vectors\n",
    "from scipy.spatial.distance import cityblock\n",
    "row1 = [10, 20, 15,19,5]\n",
    "row2 = [12, 24, 18, 11, 7]\n",
    "dist = cityblock(row1,row2)\n",
    "dist"
   ]
  },
  {
   "cell_type": "code",
   "execution_count": 6,
   "metadata": {},
   "outputs": [
    {
     "data": {
      "text/plain": [
       "9.848857801796104"
      ]
     },
     "execution_count": 6,
     "metadata": {},
     "output_type": "execute_result"
    }
   ],
   "source": [
    "# calculating minkowski distance between vectors\n",
    "\n",
    "\n",
    "# calculating minkowski distance between vectors\n",
    "from math import sqrt\n",
    "\n",
    "# calculate minkowski distance\n",
    "def minkowski_distance(a, b, p):\n",
    "\treturn sum(abs(e1-e2)**p for e1, e2 in zip(a,b))**(1/p)\n",
    "\n",
    "row1 = [10, 20, 15,19,5]\n",
    "row2 = [12, 24, 18, 11, 7]\n",
    "# dist = minkowski_distance(row1, row2, p)\n",
    "\n",
    "# euclidian distance p=2\n",
    "dist_e = minkowski_distance(row1, row2, 2)\n",
    "dist_e\n",
    "\n"
   ]
  },
  {
   "cell_type": "code",
   "execution_count": 7,
   "metadata": {},
   "outputs": [
    {
     "data": {
      "text/plain": [
       "19.0"
      ]
     },
     "execution_count": 7,
     "metadata": {},
     "output_type": "execute_result"
    }
   ],
   "source": [
    "# manhattan distance p=1\n",
    "dist_m = minkowski_distance(row1, row2, 1)\n",
    "dist_m"
   ]
  },
  {
   "cell_type": "code",
   "execution_count": 10,
   "metadata": {},
   "outputs": [
    {
     "data": {
      "text/plain": [
       "9.848857801796104"
      ]
     },
     "execution_count": 10,
     "metadata": {},
     "output_type": "execute_result"
    }
   ],
   "source": [
    "# calculating minkowski distance between vectors\n",
    "from scipy.spatial.distance import minkowski\n",
    "row1 = [10, 20, 15,19,5]\n",
    "row2 = [12, 24, 18, 11, 7]\n",
    "dist = minkowski(row1,row2,2)\n",
    "dist"
   ]
  },
  {
   "cell_type": "code",
   "execution_count": 11,
   "metadata": {},
   "outputs": [
    {
     "data": {
      "text/plain": [
       "0.4"
      ]
     },
     "execution_count": 11,
     "metadata": {},
     "output_type": "execute_result"
    }
   ],
   "source": [
    "# calculating hamming distance between bit strings\n",
    "\n",
    "# calculate hamming distance\n",
    "row1 = [0,0,0,0,1]\n",
    "row2 = [0,0,0,1,0]\n",
    "def hamming_distnc (a,b):\n",
    "    return sum(abs(e1-e2) for e1, e2 in zip(a,b))/ len(a)\n",
    "\n",
    "dist = hamming_distnc(row1,row2)\n",
    "dist\n"
   ]
  },
  {
   "cell_type": "code",
   "execution_count": 12,
   "metadata": {},
   "outputs": [
    {
     "data": {
      "text/plain": [
       "0.4"
      ]
     },
     "execution_count": 12,
     "metadata": {},
     "output_type": "execute_result"
    }
   ],
   "source": [
    "# calculating hamming distance between bit strings\n",
    "from scipy.spatial.distance import hamming\n",
    "\n",
    "dist = hamming(row1,row2)\n",
    "dist\n"
   ]
  }
 ],
 "metadata": {
  "kernelspec": {
   "display_name": "Python 3",
   "language": "python",
   "name": "python3"
  },
  "language_info": {
   "codemirror_mode": {
    "name": "ipython",
    "version": 3
   },
   "file_extension": ".py",
   "mimetype": "text/x-python",
   "name": "python",
   "nbconvert_exporter": "python",
   "pygments_lexer": "ipython3",
   "version": "3.11.9"
  }
 },
 "nbformat": 4,
 "nbformat_minor": 2
}
