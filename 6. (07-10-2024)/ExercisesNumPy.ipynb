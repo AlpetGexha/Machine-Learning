{
 "cells": [
  {
   "cell_type": "code",
   "metadata": {
    "ExecuteTime": {
     "end_time": "2024-10-13T20:09:21.865787Z",
     "start_time": "2024-10-13T20:09:17.971496Z"
    }
   },
   "source": [
    "pip install numpy"
   ],
   "outputs": [
    {
     "name": "stdout",
     "output_type": "stream",
     "text": [
      "Requirement already satisfied: numpy in c:\\users\\agexh\\appdata\\local\\packages\\pythonsoftwarefoundation.python.3.7_qbz5n2kfra8p0\\localcache\\local-packages\\python37\\site-packages (1.21.6)\n",
      "Note: you may need to restart the kernel to use updated packages.\n"
     ]
    },
    {
     "name": "stderr",
     "output_type": "stream",
     "text": [
      "--- Logging error ---\n",
      "Traceback (most recent call last):\n",
      "  File \"C:\\Users\\agexh\\AppData\\Local\\Packages\\PythonSoftwareFoundation.Python.3.7_qbz5n2kfra8p0\\LocalCache\\local-packages\\Python37\\site-packages\\pip\\_internal\\utils\\logging.py\", line 177, in emit\n",
      "    self.console.print(renderable, overflow=\"ignore\", crop=False, style=style)\n",
      "  File \"C:\\Users\\agexh\\AppData\\Local\\Packages\\PythonSoftwareFoundation.Python.3.7_qbz5n2kfra8p0\\LocalCache\\local-packages\\Python37\\site-packages\\pip\\_vendor\\rich\\console.py\", line 1699, in print\n",
      "    extend(render(renderable, render_options))\n",
      "  File \"C:\\Users\\agexh\\AppData\\Local\\Packages\\PythonSoftwareFoundation.Python.3.7_qbz5n2kfra8p0\\LocalCache\\local-packages\\Python37\\site-packages\\pip\\_vendor\\rich\\console.py\", line 1331, in render\n",
      "    for render_output in iter_render:\n",
      "  File \"C:\\Users\\agexh\\AppData\\Local\\Packages\\PythonSoftwareFoundation.Python.3.7_qbz5n2kfra8p0\\LocalCache\\local-packages\\Python37\\site-packages\\pip\\_internal\\utils\\logging.py\", line 134, in __rich_console__\n",
      "    for line in lines:\n",
      "  File \"C:\\Users\\agexh\\AppData\\Local\\Packages\\PythonSoftwareFoundation.Python.3.7_qbz5n2kfra8p0\\LocalCache\\local-packages\\Python37\\site-packages\\pip\\_vendor\\rich\\segment.py\", line 249, in split_lines\n",
      "    for segment in segments:\n",
      "  File \"C:\\Users\\agexh\\AppData\\Local\\Packages\\PythonSoftwareFoundation.Python.3.7_qbz5n2kfra8p0\\LocalCache\\local-packages\\Python37\\site-packages\\pip\\_vendor\\rich\\console.py\", line 1309, in render\n",
      "    renderable = rich_cast(renderable)\n",
      "  File \"C:\\Users\\agexh\\AppData\\Local\\Packages\\PythonSoftwareFoundation.Python.3.7_qbz5n2kfra8p0\\LocalCache\\local-packages\\Python37\\site-packages\\pip\\_vendor\\rich\\protocol.py\", line 36, in rich_cast\n",
      "    renderable = cast_method()\n",
      "  File \"C:\\Users\\agexh\\AppData\\Local\\Packages\\PythonSoftwareFoundation.Python.3.7_qbz5n2kfra8p0\\LocalCache\\local-packages\\Python37\\site-packages\\pip\\_internal\\self_outdated_check.py\", line 134, in __rich__\n",
      "    pip_cmd = f\"{get_best_invocation_for_this_python()} -m pip\"\n",
      "  File \"C:\\Users\\agexh\\AppData\\Local\\Packages\\PythonSoftwareFoundation.Python.3.7_qbz5n2kfra8p0\\LocalCache\\local-packages\\Python37\\site-packages\\pip\\_internal\\utils\\entrypoints.py\", line 80, in get_best_invocation_for_this_python\n",
      "    if found_executable and os.path.samefile(found_executable, exe):\n",
      "  File \"C:\\Program Files\\WindowsApps\\PythonSoftwareFoundation.Python.3.7_3.7.2544.0_x64__qbz5n2kfra8p0\\lib\\genericpath.py\", line 101, in samefile\n",
      "    s2 = os.stat(f2)\n",
      "OSError: [WinError 1920] The file cannot be accessed by the system: 'C:\\\\Users\\\\agexh\\\\AppData\\\\Local\\\\Microsoft\\\\WindowsApps\\\\PythonSoftwareFoundation.Python.3.7_qbz5n2kfra8p0\\\\python.exe'\n",
      "Call stack:\n",
      "  File \"C:\\Program Files\\WindowsApps\\PythonSoftwareFoundation.Python.3.7_3.7.2544.0_x64__qbz5n2kfra8p0\\lib\\runpy.py\", line 193, in _run_module_as_main\n",
      "    \"__main__\", mod_spec)\n",
      "  File \"C:\\Program Files\\WindowsApps\\PythonSoftwareFoundation.Python.3.7_3.7.2544.0_x64__qbz5n2kfra8p0\\lib\\runpy.py\", line 85, in _run_code\n",
      "    exec(code, run_globals)\n",
      "  File \"C:\\Users\\agexh\\AppData\\Local\\Packages\\PythonSoftwareFoundation.Python.3.7_qbz5n2kfra8p0\\LocalCache\\local-packages\\Python37\\site-packages\\pip\\__main__.py\", line 24, in <module>\n",
      "    sys.exit(_main())\n",
      "  File \"C:\\Users\\agexh\\AppData\\Local\\Packages\\PythonSoftwareFoundation.Python.3.7_qbz5n2kfra8p0\\LocalCache\\local-packages\\Python37\\site-packages\\pip\\_internal\\cli\\main.py\", line 79, in main\n",
      "    return command.main(cmd_args)\n",
      "  File \"C:\\Users\\agexh\\AppData\\Local\\Packages\\PythonSoftwareFoundation.Python.3.7_qbz5n2kfra8p0\\LocalCache\\local-packages\\Python37\\site-packages\\pip\\_internal\\cli\\base_command.py\", line 101, in main\n",
      "    return self._main(args)\n",
      "  File \"C:\\Users\\agexh\\AppData\\Local\\Packages\\PythonSoftwareFoundation.Python.3.7_qbz5n2kfra8p0\\LocalCache\\local-packages\\Python37\\site-packages\\pip\\_internal\\cli\\base_command.py\", line 236, in _main\n",
      "    self.handle_pip_version_check(options)\n",
      "  File \"C:\\Users\\agexh\\AppData\\Local\\Packages\\PythonSoftwareFoundation.Python.3.7_qbz5n2kfra8p0\\LocalCache\\local-packages\\Python37\\site-packages\\pip\\_internal\\cli\\req_command.py\", line 188, in handle_pip_version_check\n",
      "    pip_self_version_check(session, options)\n",
      "  File \"C:\\Users\\agexh\\AppData\\Local\\Packages\\PythonSoftwareFoundation.Python.3.7_qbz5n2kfra8p0\\LocalCache\\local-packages\\Python37\\site-packages\\pip\\_internal\\self_outdated_check.py\", line 245, in pip_self_version_check\n",
      "    logger.warning(\"%s\", upgrade_prompt, extra={\"rich\": True})\n",
      "  File \"C:\\Program Files\\WindowsApps\\PythonSoftwareFoundation.Python.3.7_3.7.2544.0_x64__qbz5n2kfra8p0\\lib\\logging\\__init__.py\", line 1390, in warning\n",
      "    self._log(WARNING, msg, args, **kwargs)\n",
      "  File \"C:\\Program Files\\WindowsApps\\PythonSoftwareFoundation.Python.3.7_3.7.2544.0_x64__qbz5n2kfra8p0\\lib\\logging\\__init__.py\", line 1514, in _log\n",
      "    self.handle(record)\n",
      "  File \"C:\\Program Files\\WindowsApps\\PythonSoftwareFoundation.Python.3.7_3.7.2544.0_x64__qbz5n2kfra8p0\\lib\\logging\\__init__.py\", line 1524, in handle\n",
      "    self.callHandlers(record)\n",
      "  File \"C:\\Program Files\\WindowsApps\\PythonSoftwareFoundation.Python.3.7_3.7.2544.0_x64__qbz5n2kfra8p0\\lib\\logging\\__init__.py\", line 1586, in callHandlers\n",
      "    hdlr.handle(record)\n",
      "  File \"C:\\Program Files\\WindowsApps\\PythonSoftwareFoundation.Python.3.7_3.7.2544.0_x64__qbz5n2kfra8p0\\lib\\logging\\__init__.py\", line 894, in handle\n",
      "    self.emit(record)\n",
      "  File \"C:\\Users\\agexh\\AppData\\Local\\Packages\\PythonSoftwareFoundation.Python.3.7_qbz5n2kfra8p0\\LocalCache\\local-packages\\Python37\\site-packages\\pip\\_internal\\utils\\logging.py\", line 179, in emit\n",
      "    self.handleError(record)\n",
      "Message: '%s'\n",
      "Arguments: (UpgradePrompt(old='23.3.2', new='24.0'),)\n"
     ]
    }
   ],
   "execution_count": 2
  },
  {
   "cell_type": "code",
   "metadata": {
    "ExecuteTime": {
     "end_time": "2024-10-13T20:09:22.381596Z",
     "start_time": "2024-10-13T20:09:22.084603Z"
    }
   },
   "source": [
    "import numpy as np"
   ],
   "outputs": [],
   "execution_count": 3
  },
  {
   "cell_type": "code",
   "metadata": {
    "ExecuteTime": {
     "end_time": "2024-10-13T20:09:22.428311Z",
     "start_time": "2024-10-13T20:09:22.397067Z"
    }
   },
   "source": [
    "arr = np.array([1,2,3,4,5])\n",
    "print(arr)\n",
    "print(type(arr))"
   ],
   "outputs": [
    {
     "name": "stdout",
     "output_type": "stream",
     "text": [
      "[1 2 3 4 5]\n",
      "<class 'numpy.ndarray'>\n"
     ]
    }
   ],
   "execution_count": 4
  },
  {
   "cell_type": "code",
   "metadata": {
    "ExecuteTime": {
     "end_time": "2024-10-13T20:09:22.584537Z",
     "start_time": "2024-10-13T20:09:22.553281Z"
    }
   },
   "source": [
    "# vektro 0-D\n",
    "arr=np.array(45)\n",
    "arr"
   ],
   "outputs": [
    {
     "data": {
      "text/plain": [
       "array(45)"
      ]
     },
     "execution_count": 5,
     "metadata": {},
     "output_type": "execute_result"
    }
   ],
   "execution_count": 5
  },
  {
   "cell_type": "code",
   "metadata": {
    "ExecuteTime": {
     "end_time": "2024-10-13T20:09:22.740781Z",
     "start_time": "2024-10-13T20:09:22.709567Z"
    }
   },
   "source": [
    "# ndarray 1-D\n",
    "arr = np.array([1,2,3,4,5])\n",
    "arr"
   ],
   "outputs": [
    {
     "data": {
      "text/plain": [
       "array([1, 2, 3, 4, 5])"
      ]
     },
     "execution_count": 6,
     "metadata": {},
     "output_type": "execute_result"
    }
   ],
   "execution_count": 6
  },
  {
   "cell_type": "code",
   "metadata": {
    "ExecuteTime": {
     "end_time": "2024-10-13T20:09:22.928287Z",
     "start_time": "2024-10-13T20:09:22.897046Z"
    }
   },
   "source": [
    "# ndarray 2-D\n",
    "arr = np.array([[1,2,3,4,5], [5,6,7,8,9]])\n",
    "arr"
   ],
   "outputs": [
    {
     "data": {
      "text/plain": [
       "array([[1, 2, 3, 4, 5],\n",
       "       [5, 6, 7, 8, 9]])"
      ]
     },
     "execution_count": 7,
     "metadata": {},
     "output_type": "execute_result"
    }
   ],
   "execution_count": 7
  },
  {
   "cell_type": "code",
   "metadata": {
    "ExecuteTime": {
     "end_time": "2024-10-13T20:09:23.055118Z",
     "start_time": "2024-10-13T20:09:23.041958Z"
    }
   },
   "source": [
    "# dimensioni i ndarray\n",
    "arr1=np.array(45)\n",
    "arr2 = np.array([1,2,3,4,5])\n",
    "arr3 = np.array([[1,2,3,4,5], [5,6,7,8,9]])\n",
    "arr4 = np.array([[[1,2,3,4,5], [5,6,7,8,9]],[[1,2,3,4,5], [5,6,7,8,9]]])"
   ],
   "outputs": [],
   "execution_count": 8
  },
  {
   "cell_type": "code",
   "metadata": {
    "ExecuteTime": {
     "end_time": "2024-10-13T20:09:23.625110Z",
     "start_time": "2024-10-13T20:09:23.609483Z"
    }
   },
   "source": [
    "arr4"
   ],
   "outputs": [
    {
     "data": {
      "text/plain": [
       "array([[[1, 2, 3, 4, 5],\n",
       "        [5, 6, 7, 8, 9]],\n",
       "\n",
       "       [[1, 2, 3, 4, 5],\n",
       "        [5, 6, 7, 8, 9]]])"
      ]
     },
     "execution_count": 9,
     "metadata": {},
     "output_type": "execute_result"
    }
   ],
   "execution_count": 9
  },
  {
   "cell_type": "code",
   "metadata": {
    "ExecuteTime": {
     "end_time": "2024-10-13T20:09:23.890770Z",
     "start_time": "2024-10-13T20:09:23.875111Z"
    }
   },
   "source": [
    "print(\"1: \",arr1.ndim)\n",
    "print(\"2: \",arr2.ndim)\n",
    "print(\"3: \",arr3.ndim)\n",
    "print(\"4: \",arr4.ndim)"
   ],
   "outputs": [
    {
     "name": "stdout",
     "output_type": "stream",
     "text": [
      "1:  0\n",
      "2:  1\n",
      "3:  2\n",
      "4:  3\n"
     ]
    }
   ],
   "execution_count": 10
  },
  {
   "cell_type": "code",
   "metadata": {
    "ExecuteTime": {
     "end_time": "2024-10-13T20:09:24.000109Z",
     "start_time": "2024-10-13T20:09:23.968856Z"
    }
   },
   "source": [
    "# Slicing @D vektor/array\n",
    "arr = np.array([[1, 2, 3, 4, 5], [6, 7, 8, 9, 10]]) # [[],2,3]\n",
    "print(arr)\n",
    "print(arr[1,1:4])\n",
    "\n",
    "print(arr[0:2,2])"
   ],
   "outputs": [
    {
     "name": "stdout",
     "output_type": "stream",
     "text": [
      "[[ 1  2  3  4  5]\n",
      " [ 6  7  8  9 10]]\n",
      "[7 8 9]\n",
      "[3 8]\n"
     ]
    }
   ],
   "execution_count": 11
  },
  {
   "cell_type": "code",
   "metadata": {
    "ExecuteTime": {
     "end_time": "2024-10-13T20:09:24.093860Z",
     "start_time": "2024-10-13T20:09:24.078234Z"
    }
   },
   "source": [
    "arr_copy = arr.copy()\n",
    "arr_copy"
   ],
   "outputs": [
    {
     "data": {
      "text/plain": [
       "array([[ 1,  2,  3,  4,  5],\n",
       "       [ 6,  7,  8,  9, 10]])"
      ]
     },
     "execution_count": 12,
     "metadata": {},
     "output_type": "execute_result"
    }
   ],
   "execution_count": 12
  },
  {
   "cell_type": "code",
   "metadata": {
    "ExecuteTime": {
     "end_time": "2024-10-13T20:09:24.272443Z",
     "start_time": "2024-10-13T20:09:24.256813Z"
    }
   },
   "source": [
    "arr1 = np.array([1,2,3,4,5,6,7])\n",
    "for x in arr1:\n",
    "    print(x)"
   ],
   "outputs": [
    {
     "name": "stdout",
     "output_type": "stream",
     "text": [
      "1\n",
      "2\n",
      "3\n",
      "4\n",
      "5\n",
      "6\n",
      "7\n"
     ]
    }
   ],
   "execution_count": 13
  },
  {
   "cell_type": "code",
   "metadata": {
    "ExecuteTime": {
     "end_time": "2024-10-13T20:09:24.397438Z",
     "start_time": "2024-10-13T20:09:24.381849Z"
    }
   },
   "source": [
    "arr2 = np.array([[1, 2, 3, 4, 5], [6, 7, 8, 9, 10]])\n",
    "for x in arr2:\n",
    "    for y in x:\n",
    "        print(y)"
   ],
   "outputs": [
    {
     "name": "stdout",
     "output_type": "stream",
     "text": [
      "1\n",
      "2\n",
      "3\n",
      "4\n",
      "5\n",
      "6\n",
      "7\n",
      "8\n",
      "9\n",
      "10\n"
     ]
    }
   ],
   "execution_count": 14
  },
  {
   "cell_type": "code",
   "metadata": {
    "ExecuteTime": {
     "end_time": "2024-10-13T20:09:24.491184Z",
     "start_time": "2024-10-13T20:09:24.459932Z"
    }
   },
   "source": [
    "arr4 = np.array([[[1,2,3,4,5], [5,6,7,8,9]],[[1,2,3,4,5], [5,6,7,8,9]]])\n",
    "for x in arr4:\n",
    "    for y in x:\n",
    "        for z in y:\n",
    "            print(z)"
   ],
   "outputs": [
    {
     "name": "stdout",
     "output_type": "stream",
     "text": [
      "1\n",
      "2\n",
      "3\n",
      "4\n",
      "5\n",
      "5\n",
      "6\n",
      "7\n",
      "8\n",
      "9\n",
      "1\n",
      "2\n",
      "3\n",
      "4\n",
      "5\n",
      "5\n",
      "6\n",
      "7\n",
      "8\n",
      "9\n"
     ]
    }
   ],
   "execution_count": 15
  },
  {
   "cell_type": "code",
   "metadata": {
    "ExecuteTime": {
     "end_time": "2024-10-13T20:09:24.570079Z",
     "start_time": "2024-10-13T20:09:24.554473Z"
    }
   },
   "source": [
    "arr1 = np.array([[1,2], [3,4]])\n",
    "arr2 = np.array([[5,6], [7,8]])\n",
    "\n",
    "arr_0 = np.concatenate((arr1, arr2), axis=0)\n",
    "arr_1 = np.concatenate((arr1, arr2), axis=1)\n",
    "\n",
    "print(arr1, arr2)\n",
    "print(arr_0, arr_1)"
   ],
   "outputs": [
    {
     "name": "stdout",
     "output_type": "stream",
     "text": [
      "[[1 2]\n",
      " [3 4]] [[5 6]\n",
      " [7 8]]\n",
      "[[1 2]\n",
      " [3 4]\n",
      " [5 6]\n",
      " [7 8]] [[1 2 5 6]\n",
      " [3 4 7 8]]\n"
     ]
    }
   ],
   "execution_count": 16
  },
  {
   "cell_type": "code",
   "metadata": {
    "ExecuteTime": {
     "end_time": "2024-10-13T20:09:24.632580Z",
     "start_time": "2024-10-13T20:09:24.616956Z"
    }
   },
   "source": [
    "# metoda split per te ndare array\n",
    "arr = np.array([1,2,3,4,5,6,7,8,9,10,11,12,15])\n",
    "new_arr = np.array_split(arr, 4)\n",
    "new_arr"
   ],
   "outputs": [
    {
     "data": {
      "text/plain": [
       "[array([1, 2, 3, 4]),\n",
       " array([5, 6, 7]),\n",
       " array([ 8,  9, 10]),\n",
       " array([11, 12, 15])]"
      ]
     },
     "execution_count": 17,
     "metadata": {},
     "output_type": "execute_result"
    }
   ],
   "execution_count": 17
  },
  {
   "cell_type": "code",
   "metadata": {
    "ExecuteTime": {
     "end_time": "2024-10-13T20:09:24.695082Z",
     "start_time": "2024-10-13T20:09:24.679464Z"
    }
   },
   "source": [
    "new_arr[1]"
   ],
   "outputs": [
    {
     "data": {
      "text/plain": [
       "array([5, 6, 7])"
      ]
     },
     "execution_count": 18,
     "metadata": {},
     "output_type": "execute_result"
    }
   ],
   "execution_count": 18
  },
  {
   "cell_type": "code",
   "metadata": {
    "ExecuteTime": {
     "end_time": "2024-10-13T20:09:24.820088Z",
     "start_time": "2024-10-13T20:09:24.788831Z"
    }
   },
   "source": [
    "# kerkojme pozicionet e nje elementi te caktuar ne vektor\n",
    "arr = np.array([1,2,2,2,4,6,2,7,8,9])\n",
    "x2 = np.where(arr == 2)\n",
    "x2"
   ],
   "outputs": [
    {
     "data": {
      "text/plain": [
       "(array([1, 2, 3, 6], dtype=int64),)"
      ]
     },
     "execution_count": 19,
     "metadata": {},
     "output_type": "execute_result"
    }
   ],
   "execution_count": 19
  },
  {
   "cell_type": "code",
   "metadata": {
    "ExecuteTime": {
     "end_time": "2024-10-13T20:09:24.882580Z",
     "start_time": "2024-10-13T20:09:24.851364Z"
    }
   },
   "source": [
    "# do te gjejme indexet e elem cift dhe tek\n",
    "arr = np.array([1,2,2,2,4,6,2,7,8,9])\n",
    "indx_cift = np.where(arr%2==0)\n",
    "indx_tek = np.where(arr%2==1)\n",
    "print(indx_cift, indx_tek)"
   ],
   "outputs": [
    {
     "name": "stdout",
     "output_type": "stream",
     "text": [
      "(array([1, 2, 3, 4, 5, 6, 8], dtype=int64),) (array([0, 7, 9], dtype=int64),)\n"
     ]
    }
   ],
   "execution_count": 20
  },
  {
   "cell_type": "code",
   "metadata": {
    "ExecuteTime": {
     "end_time": "2024-10-13T20:09:24.945086Z",
     "start_time": "2024-10-13T20:09:24.929464Z"
    }
   },
   "source": [
    "arr = np.array([34,37,45,44,46,45])\n",
    "x = [False, False, True, False, True,True]\n",
    "\n",
    "arr_new = arr[x]\n",
    "arr_new"
   ],
   "outputs": [
    {
     "data": {
      "text/plain": [
       "array([45, 46, 45])"
      ]
     },
     "execution_count": 21,
     "metadata": {},
     "output_type": "execute_result"
    }
   ],
   "execution_count": 21
  },
  {
   "cell_type": "code",
   "metadata": {
    "ExecuteTime": {
     "end_time": "2024-10-13T20:09:25.070097Z",
     "start_time": "2024-10-13T20:09:25.038869Z"
    }
   },
   "source": [
    "arr = np.array([34,37,45,44,46,45, 54,67,41,23])\n",
    "tr_fl = []\n",
    "for elem in arr:\n",
    "    if elem>=45:\n",
    "        tr_fl.append(True)\n",
    "    else:\n",
    "        tr_fl.append(False)\n",
    "tr_fl"
   ],
   "outputs": [
    {
     "data": {
      "text/plain": [
       "[False, False, True, False, True, True, True, True, False, False]"
      ]
     },
     "execution_count": 22,
     "metadata": {},
     "output_type": "execute_result"
    }
   ],
   "execution_count": 22
  },
  {
   "cell_type": "code",
   "metadata": {
    "ExecuteTime": {
     "end_time": "2024-10-13T20:09:25.210702Z",
     "start_time": "2024-10-13T20:09:25.195078Z"
    }
   },
   "source": [
    "arr45 = arr[tr_fl]\n",
    "arr45"
   ],
   "outputs": [
    {
     "data": {
      "text/plain": [
       "array([45, 46, 45, 54, 67])"
      ]
     },
     "execution_count": 23,
     "metadata": {},
     "output_type": "execute_result"
    }
   ],
   "execution_count": 23
  },
  {
   "cell_type": "code",
   "metadata": {
    "ExecuteTime": {
     "end_time": "2024-10-13T20:09:25.289003Z",
     "start_time": "2024-10-13T20:09:25.257580Z"
    }
   },
   "source": [
    "arr = np.array([34,37,45,44,46,45, 54,67,41,23])\n",
    "np.sort(arr)"
   ],
   "outputs": [
    {
     "data": {
      "text/plain": [
       "array([23, 34, 37, 41, 44, 45, 45, 46, 54, 67])"
      ]
     },
     "execution_count": 24,
     "metadata": {},
     "output_type": "execute_result"
    }
   ],
   "execution_count": 24
  },
  {
   "cell_type": "code",
   "metadata": {
    "ExecuteTime": {
     "end_time": "2024-10-13T20:09:25.345150Z",
     "start_time": "2024-10-13T20:09:25.329497Z"
    }
   },
   "source": [
    "np.sort(arr)[::-1]"
   ],
   "outputs": [
    {
     "data": {
      "text/plain": [
       "array([67, 54, 46, 45, 45, 44, 41, 37, 34, 23])"
      ]
     },
     "execution_count": 25,
     "metadata": {},
     "output_type": "execute_result"
    }
   ],
   "execution_count": 25
  }
 ],
 "metadata": {
  "kernelspec": {
   "display_name": "Python 3",
   "language": "python",
   "name": "python3"
  },
  "language_info": {
   "codemirror_mode": {
    "name": "ipython",
    "version": 3
   },
   "file_extension": ".py",
   "mimetype": "text/x-python",
   "name": "python",
   "nbconvert_exporter": "python",
   "pygments_lexer": "ipython3",
   "version": "3.11.9"
  }
 },
 "nbformat": 4,
 "nbformat_minor": 2
}
