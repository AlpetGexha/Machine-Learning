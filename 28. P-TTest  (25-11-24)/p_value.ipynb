{
 "cells": [
  {
   "cell_type": "code",
   "execution_count": 1,
   "metadata": {},
   "outputs": [],
   "source": [
    "import matplotlib.pyplot as plt\n",
    "import numpy as np\n",
    "import pandas as pd\n",
    "from sklearn import datasets, linear_model\n",
    "from sklearn.metrics import mean_squared_error, r2_score\n",
    "from sklearn.linear_model import LinearRegression\n",
    "from scipy import stats\n"
   ]
  },
  {
   "cell_type": "code",
   "execution_count": 2,
   "metadata": {},
   "outputs": [
    {
     "data": {
      "text/html": [
       "<div>\n",
       "<style scoped>\n",
       "    .dataframe tbody tr th:only-of-type {\n",
       "        vertical-align: middle;\n",
       "    }\n",
       "\n",
       "    .dataframe tbody tr th {\n",
       "        vertical-align: top;\n",
       "    }\n",
       "\n",
       "    .dataframe thead th {\n",
       "        text-align: right;\n",
       "    }\n",
       "</style>\n",
       "<table border=\"1\" class=\"dataframe\">\n",
       "  <thead>\n",
       "    <tr style=\"text-align: right;\">\n",
       "      <th></th>\n",
       "      <th>Date</th>\n",
       "      <th>Open</th>\n",
       "      <th>High</th>\n",
       "      <th>Low</th>\n",
       "      <th>Close</th>\n",
       "      <th>Returns</th>\n",
       "      <th>Y_variable</th>\n",
       "      <th>Adj Close</th>\n",
       "      <th>Volume</th>\n",
       "    </tr>\n",
       "  </thead>\n",
       "  <tbody>\n",
       "    <tr>\n",
       "      <th>0</th>\n",
       "      <td>10/4/2011</td>\n",
       "      <td>1940.0</td>\n",
       "      <td>1952.5</td>\n",
       "      <td>1886.0</td>\n",
       "      <td>1928.5</td>\n",
       "      <td>0.000000</td>\n",
       "      <td>0</td>\n",
       "      <td>1051.180908</td>\n",
       "      <td>3724030</td>\n",
       "    </tr>\n",
       "    <tr>\n",
       "      <th>1</th>\n",
       "      <td>10/5/2011</td>\n",
       "      <td>1970.0</td>\n",
       "      <td>2018.0</td>\n",
       "      <td>1964.5</td>\n",
       "      <td>2000.5</td>\n",
       "      <td>0.037335</td>\n",
       "      <td>1</td>\n",
       "      <td>1090.426392</td>\n",
       "      <td>3449487</td>\n",
       "    </tr>\n",
       "    <tr>\n",
       "      <th>2</th>\n",
       "      <td>10/6/2011</td>\n",
       "      <td>2018.5</td>\n",
       "      <td>2056.0</td>\n",
       "      <td>1996.5</td>\n",
       "      <td>2056.0</td>\n",
       "      <td>0.027743</td>\n",
       "      <td>1</td>\n",
       "      <td>1120.677856</td>\n",
       "      <td>4535816</td>\n",
       "    </tr>\n",
       "    <tr>\n",
       "      <th>3</th>\n",
       "      <td>10/7/2011</td>\n",
       "      <td>2043.5</td>\n",
       "      <td>2089.5</td>\n",
       "      <td>2038.5</td>\n",
       "      <td>2069.0</td>\n",
       "      <td>0.006323</td>\n",
       "      <td>1</td>\n",
       "      <td>1127.764038</td>\n",
       "      <td>2429486</td>\n",
       "    </tr>\n",
       "    <tr>\n",
       "      <th>4</th>\n",
       "      <td>10/10/2011</td>\n",
       "      <td>2082.0</td>\n",
       "      <td>2132.5</td>\n",
       "      <td>2069.0</td>\n",
       "      <td>2120.0</td>\n",
       "      <td>0.024650</td>\n",
       "      <td>1</td>\n",
       "      <td>1155.562622</td>\n",
       "      <td>2063653</td>\n",
       "    </tr>\n",
       "  </tbody>\n",
       "</table>\n",
       "</div>"
      ],
      "text/plain": [
       "         Date    Open    High     Low   Close   Returns  Y_variable  \\\n",
       "0   10/4/2011  1940.0  1952.5  1886.0  1928.5  0.000000           0   \n",
       "1   10/5/2011  1970.0  2018.0  1964.5  2000.5  0.037335           1   \n",
       "2   10/6/2011  2018.5  2056.0  1996.5  2056.0  0.027743           1   \n",
       "3   10/7/2011  2043.5  2089.5  2038.5  2069.0  0.006323           1   \n",
       "4  10/10/2011  2082.0  2132.5  2069.0  2120.0  0.024650           1   \n",
       "\n",
       "     Adj Close   Volume  \n",
       "0  1051.180908  3724030  \n",
       "1  1090.426392  3449487  \n",
       "2  1120.677856  4535816  \n",
       "3  1127.764038  2429486  \n",
       "4  1155.562622  2063653  "
      ]
     },
     "execution_count": 2,
     "metadata": {},
     "output_type": "execute_result"
    }
   ],
   "source": [
    "data = pd.read_csv(\"SHEL2.csv\")\n",
    "\n",
    "data.head()"
   ]
  },
  {
   "cell_type": "code",
   "execution_count": 3,
   "metadata": {},
   "outputs": [
    {
     "name": "stdout",
     "output_type": "stream",
     "text": [
      "<class 'pandas.core.frame.DataFrame'>\n",
      "RangeIndex: 2777 entries, 0 to 2776\n",
      "Data columns (total 9 columns):\n",
      " #   Column      Non-Null Count  Dtype  \n",
      "---  ------      --------------  -----  \n",
      " 0   Date        2777 non-null   object \n",
      " 1   Open        2777 non-null   float64\n",
      " 2   High        2777 non-null   float64\n",
      " 3   Low         2777 non-null   float64\n",
      " 4   Close       2777 non-null   float64\n",
      " 5   Returns     2777 non-null   float64\n",
      " 6   Y_variable  2777 non-null   int64  \n",
      " 7   Adj Close   2777 non-null   float64\n",
      " 8   Volume      2777 non-null   int64  \n",
      "dtypes: float64(6), int64(2), object(1)\n",
      "memory usage: 195.4+ KB\n"
     ]
    }
   ],
   "source": [
    "data.info()"
   ]
  },
  {
   "cell_type": "code",
   "execution_count": 4,
   "metadata": {},
   "outputs": [
    {
     "name": "stdout",
     "output_type": "stream",
     "text": [
      "[[1.9400000e+03 1.9525000e+03 1.8860000e+03 3.7240300e+06]\n",
      " [1.9700000e+03 2.0180000e+03 1.9645000e+03 3.4494870e+06]\n",
      " [2.0185000e+03 2.0560000e+03 1.9965000e+03 4.5358160e+06]\n",
      " ...\n",
      " [2.2615000e+03 2.2715000e+03 2.2195000e+03 1.7127418e+07]\n",
      " [2.2525000e+03 2.2820000e+03 2.2285000e+03 1.6698217e+07]\n",
      " [2.2550000e+03 2.3155000e+03 2.2475000e+03 1.5578724e+07]]\n"
     ]
    }
   ],
   "source": [
    "returns_prices = data['Returns'] # dependet variable\n",
    "\n",
    "#Open +High + Low +  Volume =  4 independent variables X \n",
    "# genfromtxt Load data from a text file, with missing values handled as specified.\n",
    "data2 = np.genfromtxt(\"SHEL2.csv\", dtype='float', delimiter=',', skip_header=1, usecols=(1,2,3,8))\n",
    "\n",
    "X = np.array(data2)\n",
    "print(X)"
   ]
  },
  {
   "cell_type": "code",
   "execution_count": 6,
   "metadata": {},
   "outputs": [
    {
     "data": {
      "text/html": [
       "<style>#sk-container-id-2 {color: black;}#sk-container-id-2 pre{padding: 0;}#sk-container-id-2 div.sk-toggleable {background-color: white;}#sk-container-id-2 label.sk-toggleable__label {cursor: pointer;display: block;width: 100%;margin-bottom: 0;padding: 0.3em;box-sizing: border-box;text-align: center;}#sk-container-id-2 label.sk-toggleable__label-arrow:before {content: \"▸\";float: left;margin-right: 0.25em;color: #696969;}#sk-container-id-2 label.sk-toggleable__label-arrow:hover:before {color: black;}#sk-container-id-2 div.sk-estimator:hover label.sk-toggleable__label-arrow:before {color: black;}#sk-container-id-2 div.sk-toggleable__content {max-height: 0;max-width: 0;overflow: hidden;text-align: left;background-color: #f0f8ff;}#sk-container-id-2 div.sk-toggleable__content pre {margin: 0.2em;color: black;border-radius: 0.25em;background-color: #f0f8ff;}#sk-container-id-2 input.sk-toggleable__control:checked~div.sk-toggleable__content {max-height: 200px;max-width: 100%;overflow: auto;}#sk-container-id-2 input.sk-toggleable__control:checked~label.sk-toggleable__label-arrow:before {content: \"▾\";}#sk-container-id-2 div.sk-estimator input.sk-toggleable__control:checked~label.sk-toggleable__label {background-color: #d4ebff;}#sk-container-id-2 div.sk-label input.sk-toggleable__control:checked~label.sk-toggleable__label {background-color: #d4ebff;}#sk-container-id-2 input.sk-hidden--visually {border: 0;clip: rect(1px 1px 1px 1px);clip: rect(1px, 1px, 1px, 1px);height: 1px;margin: -1px;overflow: hidden;padding: 0;position: absolute;width: 1px;}#sk-container-id-2 div.sk-estimator {font-family: monospace;background-color: #f0f8ff;border: 1px dotted black;border-radius: 0.25em;box-sizing: border-box;margin-bottom: 0.5em;}#sk-container-id-2 div.sk-estimator:hover {background-color: #d4ebff;}#sk-container-id-2 div.sk-parallel-item::after {content: \"\";width: 100%;border-bottom: 1px solid gray;flex-grow: 1;}#sk-container-id-2 div.sk-label:hover label.sk-toggleable__label {background-color: #d4ebff;}#sk-container-id-2 div.sk-serial::before {content: \"\";position: absolute;border-left: 1px solid gray;box-sizing: border-box;top: 0;bottom: 0;left: 50%;z-index: 0;}#sk-container-id-2 div.sk-serial {display: flex;flex-direction: column;align-items: center;background-color: white;padding-right: 0.2em;padding-left: 0.2em;position: relative;}#sk-container-id-2 div.sk-item {position: relative;z-index: 1;}#sk-container-id-2 div.sk-parallel {display: flex;align-items: stretch;justify-content: center;background-color: white;position: relative;}#sk-container-id-2 div.sk-item::before, #sk-container-id-2 div.sk-parallel-item::before {content: \"\";position: absolute;border-left: 1px solid gray;box-sizing: border-box;top: 0;bottom: 0;left: 50%;z-index: -1;}#sk-container-id-2 div.sk-parallel-item {display: flex;flex-direction: column;z-index: 1;position: relative;background-color: white;}#sk-container-id-2 div.sk-parallel-item:first-child::after {align-self: flex-end;width: 50%;}#sk-container-id-2 div.sk-parallel-item:last-child::after {align-self: flex-start;width: 50%;}#sk-container-id-2 div.sk-parallel-item:only-child::after {width: 0;}#sk-container-id-2 div.sk-dashed-wrapped {border: 1px dashed gray;margin: 0 0.4em 0.5em 0.4em;box-sizing: border-box;padding-bottom: 0.4em;background-color: white;}#sk-container-id-2 div.sk-label label {font-family: monospace;font-weight: bold;display: inline-block;line-height: 1.2em;}#sk-container-id-2 div.sk-label-container {text-align: center;}#sk-container-id-2 div.sk-container {/* jupyter's `normalize.less` sets `[hidden] { display: none; }` but bootstrap.min.css set `[hidden] { display: none !important; }` so we also need the `!important` here to be able to override the default hidden behavior on the sphinx rendered scikit-learn.org. See: https://github.com/scikit-learn/scikit-learn/issues/21755 */display: inline-block !important;position: relative;}#sk-container-id-2 div.sk-text-repr-fallback {display: none;}</style><div id=\"sk-container-id-2\" class=\"sk-top-container\"><div class=\"sk-text-repr-fallback\"><pre>LinearRegression()</pre><b>In a Jupyter environment, please rerun this cell to show the HTML representation or trust the notebook. <br />On GitHub, the HTML representation is unable to render, please try loading this page with nbviewer.org.</b></div><div class=\"sk-container\" hidden><div class=\"sk-item\"><div class=\"sk-estimator sk-toggleable\"><input class=\"sk-toggleable__control sk-hidden--visually\" id=\"sk-estimator-id-2\" type=\"checkbox\" checked><label for=\"sk-estimator-id-2\" class=\"sk-toggleable__label sk-toggleable__label-arrow\">LinearRegression</label><div class=\"sk-toggleable__content\"><pre>LinearRegression()</pre></div></div></div></div></div>"
      ],
      "text/plain": [
       "LinearRegression()"
      ]
     },
     "execution_count": 6,
     "metadata": {},
     "output_type": "execute_result"
    }
   ],
   "source": [
    "# Split the data/target into training/testing sets\n",
    "X_train = np.array(X[:2222]).reshape((-1, 4)) # 2222 elementet e pare\n",
    "X_test = np.array(X[2222:]).reshape((-1, 4)) #pas  2222 index\n",
    "\n",
    "Y_train = returns_prices[:2222] \n",
    "Y_test = returns_prices[2222:] \n",
    "\n",
    "\n",
    "regr = linear_model.LinearRegression()\n",
    "\n",
    "\n",
    "regr.fit(X_train, Y_train)"
   ]
  },
  {
   "cell_type": "code",
   "execution_count": 7,
   "metadata": {},
   "outputs": [
    {
     "data": {
      "text/plain": [
       "array([-1.29973583e-02, -5.42403511e-04,  5.31511075e-04,  1.37494734e-05,\n",
       "       -4.21825650e-10])"
      ]
     },
     "execution_count": 7,
     "metadata": {},
     "output_type": "execute_result"
    }
   ],
   "source": [
    "#--------------------------------------------\n",
    "params = np.append(regr.intercept_,regr.coef_)\n",
    "params\n",
    "\n"
   ]
  },
  {
   "cell_type": "code",
   "execution_count": 8,
   "metadata": {},
   "outputs": [],
   "source": [
    "predictions = regr.predict(X_train)"
   ]
  },
  {
   "cell_type": "code",
   "execution_count": 9,
   "metadata": {},
   "outputs": [
    {
     "data": {
      "text/plain": [
       "0.3109411553107516"
      ]
     },
     "execution_count": 9,
     "metadata": {},
     "output_type": "execute_result"
    }
   ],
   "source": [
    "from sklearn.metrics import r2_score\n",
    "r2 = r2_score(Y_train, predictions)\n",
    "r2"
   ]
  },
  {
   "cell_type": "code",
   "execution_count": 10,
   "metadata": {},
   "outputs": [
    {
     "data": {
      "text/plain": [
       "[2.9545899282723553e-08, 0.0, 0.0, 7.165776692952264e-05, 0.0]"
      ]
     },
     "execution_count": 10,
     "metadata": {},
     "output_type": "execute_result"
    }
   ],
   "source": [
    "newX = np.append(np.ones((len(X_train),1)), X_train, axis=1)\n",
    "MSE = (sum((Y_train-predictions)**2))/(len(newX)-len(newX[0]))\n",
    "\n",
    "var_b = MSE*(np.linalg.inv(np.dot(newX.T,newX)).diagonal())\n",
    "sd_b = np.sqrt(var_b)\n",
    "ts_b = params/ sd_b\n",
    "\n",
    "p_values =[2*(1-stats.t.cdf(np.abs(i),(len(newX)-len(newX[0])))) for i in ts_b]\n",
    "p_values"
   ]
  },
  {
   "cell_type": "code",
   "execution_count": 11,
   "metadata": {},
   "outputs": [
    {
     "data": {
      "text/plain": [
       "array([-0.013 , -0.0005,  0.0005,  0.    , -0.    ])"
      ]
     },
     "execution_count": 11,
     "metadata": {},
     "output_type": "execute_result"
    }
   ],
   "source": [
    "sd_b = np.round(sd_b,3)\n",
    "ts_b = np.round(ts_b,3)\n",
    "p_values = np.round(p_values,3)\n",
    "params = np.round(params,4)\n",
    "params"
   ]
  },
  {
   "cell_type": "code",
   "execution_count": 12,
   "metadata": {},
   "outputs": [
    {
     "name": "stdout",
     "output_type": "stream",
     "text": [
      "   Coefficients  Standard Errors  t values  Probabilities\n",
      "0       -0.0130            0.002    -5.564            0.0\n",
      "1       -0.0005            0.000   -31.507            0.0\n",
      "2        0.0005            0.000    30.932            0.0\n",
      "3        0.0000            0.000     3.978            0.0\n",
      "4       -0.0000            0.000    -8.481            0.0\n"
     ]
    }
   ],
   "source": [
    "myDF3 = pd.DataFrame()\n",
    "myDF3[\"Coefficients\"],myDF3[\"Standard Errors\"],myDF3[\"t values\"],myDF3[\"Probabilities\"] = [params,sd_b,ts_b,p_values]\n",
    "print(myDF3)"
   ]
  },
  {
   "cell_type": "code",
   "execution_count": 13,
   "metadata": {},
   "outputs": [
    {
     "name": "stdout",
     "output_type": "stream",
     "text": [
      "                            OLS Regression Results                            \n",
      "==============================================================================\n",
      "Dep. Variable:                Returns   R-squared:                       0.289\n",
      "Model:                            OLS   Adj. R-squared:                  0.288\n",
      "Method:                 Least Squares   F-statistic:                     281.0\n",
      "Date:                Mon, 25 Nov 2024   Prob (F-statistic):          4.88e-203\n",
      "Time:                        19:59:59   Log-Likelihood:                 7740.9\n",
      "No. Observations:                2777   AIC:                        -1.547e+04\n",
      "Df Residuals:                    2772   BIC:                        -1.544e+04\n",
      "Df Model:                           4                                         \n",
      "Covariance Type:            nonrobust                                         \n",
      "==============================================================================\n",
      "                 coef    std err          t      P>|t|      [0.025      0.975]\n",
      "------------------------------------------------------------------------------\n",
      "const         -0.0087      0.002     -5.049      0.000      -0.012      -0.005\n",
      "x1            -0.0005   1.53e-05    -33.524      0.000      -0.001      -0.000\n",
      "x2             0.0005   1.51e-05     32.508      0.000       0.000       0.001\n",
      "x3          2.118e-05   3.69e-06      5.747      0.000     1.4e-05    2.84e-05\n",
      "x4         -2.208e-10   3.09e-11     -7.133      0.000   -2.81e-10    -1.6e-10\n",
      "==============================================================================\n",
      "Omnibus:                     1595.265   Durbin-Watson:                   1.814\n",
      "Prob(Omnibus):                  0.000   Jarque-Bera (JB):            85019.686\n",
      "Skew:                          -1.990   Prob(JB):                         0.00\n",
      "Kurtosis:                      29.813   Cond. No.                     7.88e+07\n",
      "==============================================================================\n",
      "\n",
      "Notes:\n",
      "[1] Standard Errors assume that the covariance matrix of the errors is correctly specified.\n",
      "[2] The condition number is large, 7.88e+07. This might indicate that there are\n",
      "strong multicollinearity or other numerical problems.\n"
     ]
    }
   ],
   "source": [
    "import statsmodels.api as sm\n",
    "X = sm.add_constant(X)\n",
    "\n",
    "# fit linear model\n",
    "model = sm.OLS(returns_prices,X).fit()\n",
    "\n",
    "print(model.summary())"
   ]
  }
 ],
 "metadata": {
  "kernelspec": {
   "display_name": "Python 3",
   "language": "python",
   "name": "python3"
  },
  "language_info": {
   "codemirror_mode": {
    "name": "ipython",
    "version": 3
   },
   "file_extension": ".py",
   "mimetype": "text/x-python",
   "name": "python",
   "nbconvert_exporter": "python",
   "pygments_lexer": "ipython3",
   "version": "3.11.9"
  }
 },
 "nbformat": 4,
 "nbformat_minor": 2
}
