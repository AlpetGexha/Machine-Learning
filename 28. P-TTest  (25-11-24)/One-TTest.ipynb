{
 "cells": [
  {
   "cell_type": "code",
   "execution_count": null,
   "metadata": {},
   "outputs": [],
   "source": [
    "# One-sample t-test\n",
    "\n",
    "# mesatarja e peshes se nje portokalleje eshte me shume se 100gr"
   ]
  },
  {
   "cell_type": "code",
   "execution_count": 1,
   "metadata": {},
   "outputs": [
    {
     "name": "stdout",
     "output_type": "stream",
     "text": [
      "t-statistic: -2.1139034450615286\n",
      "p-value: 0.04797330218284956\n"
     ]
    }
   ],
   "source": [
    "import numpy as np\n",
    "from scipy.stats import ttest_1samp\n",
    "np.random.seed(1)\n",
    "sample = np.random.normal(loc=98, scale=5, size=20)\n",
    "# one-sample t-test\n",
    "t_stat, p_val = ttest_1samp(sample, popmean=100)\n",
    "print('t-statistic:', t_stat)\n",
    "print('p-value:', p_val)"
   ]
  },
  {
   "cell_type": "code",
   "execution_count": null,
   "metadata": {},
   "outputs": [],
   "source": [
    "# p-value eshte me pak se 0.05 ne refuzojme H0 e cila ishte nuk ka ndryshueshmeri nga 100gr\n",
    "# dhe pranojme se ne kete sample kemi nje ndryshim te besueshem statistikor se mestarja e peshes ndryshon nga 100gr"
   ]
  },
  {
   "cell_type": "code",
   "execution_count": null,
   "metadata": {},
   "outputs": [],
   "source": [
    "# Two-sample t-test\n",
    "# H0: mollet nuk kane ndryshueshemri peshe me njera tjetren\n",
    "# Ha:  mesatraja e peshes se molleve ne dy ferme te ndryshme eshte e ndryshme"
   ]
  },
  {
   "cell_type": "code",
   "execution_count": 2,
   "metadata": {},
   "outputs": [
    {
     "name": "stdout",
     "output_type": "stream",
     "text": [
      "t-statistic: -6.677225233488857\n",
      "p-value: 6.744524156232513e-08\n"
     ]
    }
   ],
   "source": [
    "import numpy as np\n",
    "from scipy.stats import ttest_ind\n",
    "\n",
    "np.random.seed(1)\n",
    "farm1 = np.random.normal(loc=150, scale=5, size=20)\n",
    "farm2 = np.random.normal(loc=160, scale=5, size=20)\n",
    "\n",
    "# two-sample t-test\n",
    "t_stat, p_val = ttest_ind(farm1, farm2)\n",
    "\n",
    "print('t-statistic:', t_stat)\n",
    "print('p-value:', p_val)"
   ]
  }
 ],
 "metadata": {
  "kernelspec": {
   "display_name": "Python 3",
   "language": "python",
   "name": "python3"
  },
  "language_info": {
   "codemirror_mode": {
    "name": "ipython",
    "version": 3
   },
   "file_extension": ".py",
   "mimetype": "text/x-python",
   "name": "python",
   "nbconvert_exporter": "python",
   "pygments_lexer": "ipython3",
   "version": "3.11.9"
  }
 },
 "nbformat": 4,
 "nbformat_minor": 2
}
