{
 "cells": [
  {
   "cell_type": "code",
   "execution_count": 1,
   "metadata": {},
   "outputs": [],
   "source": [
    "import mysql.connector\n",
    "import pandas as pd\n",
    "import seaborn as sns\n",
    "import matplotlib.pyplot as plt"
   ]
  },
  {
   "cell_type": "markdown",
   "metadata": {},
   "source": [
    "# ******************************************** HAPI-1 ************************************************************\n",
    "# ////////////////////////////////////////////////////////\n",
    "# Do te krijoj nje databaze te re me te dhenat e filet qe kam ne csv"
   ]
  },
  {
   "cell_type": "code",
   "execution_count": null,
   "metadata": {},
   "outputs": [],
   "source": [
    "# patient_data = pd.read_csv('Disease_symptom.csv')\n",
    "# print(patient_data.head())\n",
    "\n",
    "# bej lidhjen me db dhe krijoj mydb\n",
    "# from mysql.connector import Error\n",
    "# try:\n",
    "#     conn = mysql.connector.connect(host = 'localhost', user = 'root', password = 'root') # dueht te vendosni username dhe passw te db tuaj\n",
    "#     if conn.is_connected():\n",
    "#         cursor = conn.cursor()\n",
    "#         cursor.execute(\"CREATE DATABASE PATIENT\")\n",
    "#         print(\"Databaza u krijua\")\n",
    "#         conn.commit()\n",
    "# except Error as e:\n",
    "#     print(\"Kemi gabim ne lidhjen me databazen\",e)\n",
    "\n",
    "# conn.close()"
   ]
  },
  {
   "cell_type": "markdown",
   "metadata": {},
   "source": [
    "# ******************************************** HAPI-2 ************************************************************\n",
    "# Pasi krijova databazen e mbylla dhe rikthehem serish ne te per te krijuar tabelat sipas file=it te te dhenave\n"
   ]
  },
  {
   "cell_type": "code",
   "execution_count": null,
   "metadata": {},
   "outputs": [],
   "source": [
    "# mydb = mysql.connector.connect(host = 'localhost', user = 'root', password = 'root', database = 'PATIENT')\n",
    "\n",
    "# table = mydb.cursor()\n",
    "# krijojme dy tabela te cilat do te organizoj te dhenat e mia\n",
    "# patientinfo = table.execute(\"create table patientinfo (Id int primary key, Age int, Gender Varchar(30), Outcome_Variable varchar(50))\")\n",
    "# patientsymp = table.execute(\"create table patientsymp (Id int primary key auto_increment, PatientId int, Fever varchar(50), Cough varchar(50), Fatigue varchar(50), Difficulty varchar(50), Blood_Pressure varchar(50), Cholesterol_Level varchar(50))\")\n",
    "\n",
    "# Do te mbushim tabelat e db tone me te dhenat e filet csv qe kemi\n",
    "# for index, row in patient_data.iterrows():\n",
    "#     sql = 'insert into patientinfo(Id,Age,Gender,Outcome_Variable) values (%s,%s,%s,%s)'\n",
    "#     val = (row['PatientID'], row['Age'], row['Gender'], row['Outcome_Variable'])\n",
    "#     table.execute(sql, val)\n",
    "\n",
    "# for index, row in patient_data.iterrows():\n",
    "#     sql = 'insert into patientsymp(PatientId, Fever, Cough, Fatigue, Difficulty, Blood_Pressure, Cholesterol_Level) values (%s,%s,%s,%s,%s,%s,%s)'\n",
    "#     val = (row['PatientID'], row['Fever'], row['Cough'], row['Fatigue'],row['Difficulty Breathing'], row['Blood_Pressure'], row['Cholesterol_Level'])\n",
    "#     table.execute(sql, val)  \n",
    "\n",
    "# si te bejme nje alter table nga python\n",
    "# table.execute(\"alter table patientsymp add foreign key (PatientID) references patientinfo(Id)\")\n",
    "# mydb.commit()\n",
    "\n",
    "# tashme databaza eshte krijuar dhe jemi gati ta studiojme ate"
   ]
  },
  {
   "cell_type": "code",
   "execution_count": 12,
   "metadata": {},
   "outputs": [],
   "source": [
    "# ndertojme variablin mycursor i cili gjenerohet nga ekzekutimi i metodes cursor() e cila na lejon te ekezkutojme nga python ne mysql\n",
    "mydb = mysql.connector.connect(host = 'localhost', user = 'admin', password = 'root', database = 'PATIENT')\n",
    "mycursor = mydb.cursor()"
   ]
  },
  {
   "cell_type": "code",
   "execution_count": null,
   "metadata": {},
   "outputs": [],
   "source": [
    "# # ******************************************** HAPI-3 ************************************************************\n",
    "# # bejme nje grafik te te dhenave\n",
    "# mund te beni dhe descriptive analyse\n",
    "# me jep shperndarjen e moshave sipas gjinise"
   ]
  },
  {
   "cell_type": "code",
   "execution_count": 6,
   "metadata": {},
   "outputs": [],
   "source": [
    "sql_plot_query = \"\"\" select count(gender) as NrGender, age\n",
    "                    from patientinfo\n",
    "                    where gender = %s\n",
    "                    group by age;\"\"\"\n",
    "mycursor.execute(sql_plot_query, ('Female',))"
   ]
  },
  {
   "cell_type": "code",
   "execution_count": 4,
   "metadata": {},
   "outputs": [
    {
     "data": {
      "text/plain": [
       "[(1, 19),\n",
       " (5, 25),\n",
       " (2, 28),\n",
       " (8, 29),\n",
       " (18, 30),\n",
       " (1, 31),\n",
       " (1, 32),\n",
       " (20, 35),\n",
       " (6, 38),\n",
       " (1, 39),\n",
       " (14, 40),\n",
       " (8, 42),\n",
       " (1, 43),\n",
       " (19, 45),\n",
       " (1, 48),\n",
       " (13, 50),\n",
       " (18, 55),\n",
       " (15, 60),\n",
       " (13, 65),\n",
       " (7, 70),\n",
       " (2, 80),\n",
       " (2, 90)]"
      ]
     },
     "execution_count": 4,
     "metadata": {},
     "output_type": "execute_result"
    }
   ],
   "source": [
    "# nqs une marr fetchall ben marrjen e vlerave te executit te fundit\n",
    "result_query = mycursor.fetchall()\n",
    "result_query"
   ]
  },
  {
   "cell_type": "code",
   "execution_count": 7,
   "metadata": {},
   "outputs": [
    {
     "data": {
      "text/plain": [
       "(1, 19)"
      ]
     },
     "execution_count": 7,
     "metadata": {},
     "output_type": "execute_result"
    }
   ],
   "source": [
    "# nqs une marr fetchall ben marrjen e vlerave te executit te fundit\n",
    "result_query1 = mycursor.fetchone()\n",
    "result_query1"
   ]
  },
  {
   "cell_type": "code",
   "execution_count": 8,
   "metadata": {},
   "outputs": [
    {
     "data": {
      "text/html": [
       "<div>\n",
       "<style scoped>\n",
       "    .dataframe tbody tr th:only-of-type {\n",
       "        vertical-align: middle;\n",
       "    }\n",
       "\n",
       "    .dataframe tbody tr th {\n",
       "        vertical-align: top;\n",
       "    }\n",
       "\n",
       "    .dataframe thead th {\n",
       "        text-align: right;\n",
       "    }\n",
       "</style>\n",
       "<table border=\"1\" class=\"dataframe\">\n",
       "  <thead>\n",
       "    <tr style=\"text-align: right;\">\n",
       "      <th></th>\n",
       "      <th>NrGender</th>\n",
       "      <th>Age</th>\n",
       "    </tr>\n",
       "  </thead>\n",
       "  <tbody>\n",
       "    <tr>\n",
       "      <th>0</th>\n",
       "      <td>1</td>\n",
       "      <td>19</td>\n",
       "    </tr>\n",
       "    <tr>\n",
       "      <th>1</th>\n",
       "      <td>5</td>\n",
       "      <td>25</td>\n",
       "    </tr>\n",
       "    <tr>\n",
       "      <th>2</th>\n",
       "      <td>2</td>\n",
       "      <td>28</td>\n",
       "    </tr>\n",
       "    <tr>\n",
       "      <th>3</th>\n",
       "      <td>8</td>\n",
       "      <td>29</td>\n",
       "    </tr>\n",
       "    <tr>\n",
       "      <th>4</th>\n",
       "      <td>18</td>\n",
       "      <td>30</td>\n",
       "    </tr>\n",
       "  </tbody>\n",
       "</table>\n",
       "</div>"
      ],
      "text/plain": [
       "   NrGender  Age\n",
       "0         1   19\n",
       "1         5   25\n",
       "2         2   28\n",
       "3         8   29\n",
       "4        18   30"
      ]
     },
     "execution_count": 8,
     "metadata": {},
     "output_type": "execute_result"
    }
   ],
   "source": [
    "mydata = pd.DataFrame(result_query, columns=['NrGender', 'Age'])\n",
    "mydata.head()"
   ]
  },
  {
   "cell_type": "code",
   "execution_count": 10,
   "metadata": {},
   "outputs": [
    {
     "data": {
      "text/plain": [
       "Text(0.5, 1.0, 'Frekuenca e moshave per gjinine femer')"
      ]
     },
     "execution_count": 10,
     "metadata": {},
     "output_type": "execute_result"
    },
    {
     "data": {
      "image/png": "[encoded data removed]",
      "text/plain": [
       "<Figure size 640x480 with 1 Axes>"
      ]
     },
     "metadata": {},
     "output_type": "display_data"
    }
   ],
   "source": [
    "mydata.plot(x='Age', y='NrGender', kind='bar', xlabel='Mosha', ylabel='Frekuenca', legend = None)\n",
    "plt.title('Frekuenca e moshave per gjinine femer')"
   ]
  },
  {
   "cell_type": "markdown",
   "metadata": {},
   "source": [
    "# # ******************************************** HAPI-4 ************************************************************\n",
    "# ndertojme te dhenat per modelin e regresit\n",
    "# do te mendojme si variable te varur Outcome_Variable\n",
    "# dhe do te marrim Age,\n",
    "#  Cough dhe Fever, Difficulty si variabla te pavarura\n",
    "# ndertojme dataframin sipas te dhenave tona me query"
   ]
  },
  {
   "cell_type": "code",
   "execution_count": 32,
   "metadata": {},
   "outputs": [
    {
     "data": {
      "text/plain": [
       "[('No', 'Yes', 'Yes', 19, 'Positive'),\n",
       " ('Yes', 'No', 'No', 25, 'Negative'),\n",
       " ('Yes', 'No', 'No', 25, 'Negative'),\n",
       " ('Yes', 'Yes', 'Yes', 25, 'Positive'),\n",
       " ('Yes', 'Yes', 'Yes', 25, 'Positive'),\n",
       " ('No', 'No', 'Yes', 25, 'Positive'),\n",
       " ('Yes', 'Yes', 'Yes', 25, 'Positive'),\n",
       " ('Yes', 'Yes', 'Yes', 25, 'Positive'),\n",
       " ('Yes', 'No', 'No', 28, 'Negative'),\n",
       " ('Yes', 'No', 'No', 28, 'Negative'),\n",
       " ('No', 'Yes', 'Yes', 28, 'Positive'),\n",
       " ('Yes', 'No', 'No', 29, 'Negative'),\n",
       " ('Yes', 'No', 'No', 29, 'Negative'),\n",
       " ('No', 'No', 'No', 29, 'Negative'),\n",
       " ('No', 'No', 'No', 29, 'Negative'),\n",
       " ('Yes', 'No', 'No', 29, 'Negative'),\n",
       " ('No', 'No', 'Yes', 29, 'Negative'),\n",
       " ('Yes', 'Yes', 'No', 29, 'Negative'),\n",
       " ('Yes', 'Yes', 'Yes', 29, 'Positive'),\n",
       " ('Yes', 'Yes', 'Yes', 29, 'Positive'),\n",
       " ('Yes', 'Yes', 'Yes', 29, 'Positive'),\n",
       " ('Yes', 'No', 'Yes', 29, 'Positive'),\n",
       " ('No', 'No', 'Yes', 30, 'Negative'),\n",
       " ('No', 'No', 'Yes', 30, 'Negative'),\n",
       " ('Yes', 'No', 'No', 30, 'Negative'),\n",
       " ('Yes', 'No', 'Yes', 30, 'Negative'),\n",
       " ('Yes', 'Yes', 'Yes', 30, 'Negative'),\n",
       " ('No', 'No', 'No', 30, 'Negative'),\n",
       " ('No', 'No', 'Yes', 30, 'Negative'),\n",
       " ('Yes', 'No', 'No', 30, 'Negative'),\n",
       " ('No', 'No', 'No', 30, 'Negative'),\n",
       " ('Yes', 'No', 'No', 30, 'Negative'),\n",
       " ('Yes', 'No', 'Yes', 30, 'Negative'),\n",
       " ('Yes', 'No', 'No', 30, 'Negative'),\n",
       " ('Yes', 'Yes', 'Yes', 30, 'Positive'),\n",
       " ('Yes', 'Yes', 'Yes', 30, 'Positive'),\n",
       " ('Yes', 'Yes', 'Yes', 30, 'Positive'),\n",
       " ('No', 'No', 'No', 30, 'Positive'),\n",
       " ('Yes', 'Yes', 'Yes', 30, 'Positive'),\n",
       " ('Yes', 'Yes', 'Yes', 30, 'Positive'),\n",
       " ('Yes', 'Yes', 'Yes', 30, 'Positive'),\n",
       " ('No', 'Yes', 'No', 30, 'Positive'),\n",
       " ('No', 'No', 'No', 30, 'Positive'),\n",
       " ('No', 'No', 'Yes', 30, 'Positive'),\n",
       " ('No', 'No', 'No', 30, 'Positive'),\n",
       " ('Yes', 'No', 'Yes', 30, 'Positive'),\n",
       " ('Yes', 'Yes', 'Yes', 30, 'Positive'),\n",
       " ('No', 'No', 'No', 30, 'Positive'),\n",
       " ('Yes', 'Yes', 'Yes', 30, 'Positive'),\n",
       " ('No', 'No', 'Yes', 30, 'Positive'),\n",
       " ('No', 'Yes', 'No', 31, 'Negative'),\n",
       " ('No', 'Yes', 'No', 31, 'Negative'),\n",
       " ('No', 'Yes', 'Yes', 31, 'Positive'),\n",
       " ('No', 'No', 'Yes', 31, 'Positive'),\n",
       " ('No', 'Yes', 'Yes', 32, 'Positive'),\n",
       " ('No', 'No', 'No', 35, 'Negative'),\n",
       " ('Yes', 'Yes', 'No', 35, 'Negative'),\n",
       " ('Yes', 'Yes', 'Yes', 35, 'Negative'),\n",
       " ('Yes', 'Yes', 'No', 35, 'Negative'),\n",
       " ('Yes', 'Yes', 'No', 35, 'Negative'),\n",
       " ('No', 'No', 'No', 35, 'Negative'),\n",
       " ('Yes', 'Yes', 'Yes', 35, 'Negative'),\n",
       " ('Yes', 'No', 'Yes', 35, 'Negative'),\n",
       " ('Yes', 'No', 'No', 35, 'Negative'),\n",
       " ('No', 'No', 'No', 35, 'Negative'),\n",
       " ('Yes', 'No', 'Yes', 35, 'Negative'),\n",
       " ('Yes', 'No', 'Yes', 35, 'Negative'),\n",
       " ('No', 'No', 'No', 35, 'Negative'),\n",
       " ('Yes', 'Yes', 'Yes', 35, 'Negative'),\n",
       " ('Yes', 'Yes', 'Yes', 35, 'Negative'),\n",
       " ('No', 'No', 'Yes', 35, 'Negative'),\n",
       " ('Yes', 'No', 'No', 35, 'Negative'),\n",
       " ('No', 'No', 'Yes', 35, 'Negative'),\n",
       " ('No', 'No', 'Yes', 35, 'Negative'),\n",
       " ('Yes', 'No', 'No', 35, 'Negative'),\n",
       " ('Yes', 'Yes', 'Yes', 35, 'Positive'),\n",
       " ('Yes', 'Yes', 'Yes', 35, 'Positive'),\n",
       " ('No', 'No', 'No', 35, 'Positive'),\n",
       " ('Yes', 'No', 'No', 35, 'Positive'),\n",
       " ('No', 'No', 'No', 35, 'Positive'),\n",
       " ('No', 'Yes', 'Yes', 35, 'Positive'),\n",
       " ('Yes', 'No', 'Yes', 35, 'Positive'),\n",
       " ('Yes', 'No', 'Yes', 35, 'Positive'),\n",
       " ('No', 'No', 'No', 35, 'Positive'),\n",
       " ('No', 'No', 'No', 35, 'Positive'),\n",
       " ('No', 'No', 'No', 35, 'Positive'),\n",
       " ('No', 'No', 'Yes', 35, 'Positive'),\n",
       " ('No', 'No', 'Yes', 35, 'Positive'),\n",
       " ('Yes', 'No', 'No', 35, 'Positive'),\n",
       " ('No', 'No', 'Yes', 35, 'Positive'),\n",
       " ('No', 'No', 'No', 35, 'Positive'),\n",
       " ('Yes', 'No', 'Yes', 35, 'Positive'),\n",
       " ('No', 'No', 'No', 35, 'Positive'),\n",
       " ('No', 'No', 'No', 35, 'Positive'),\n",
       " ('No', 'No', 'No', 35, 'Positive'),\n",
       " ('No', 'No', 'Yes', 35, 'Positive'),\n",
       " ('No', 'No', 'Yes', 35, 'Positive'),\n",
       " ('Yes', 'No', 'No', 38, 'Negative'),\n",
       " ('No', 'No', 'No', 38, 'Negative'),\n",
       " ('No', 'No', 'No', 38, 'Negative'),\n",
       " ('No', 'No', 'No', 38, 'Negative'),\n",
       " ('No', 'No', 'No', 38, 'Negative'),\n",
       " ('Yes', 'No', 'Yes', 38, 'Negative'),\n",
       " ('Yes', 'Yes', 'No', 38, 'Negative'),\n",
       " ('Yes', 'No', 'No', 38, 'Negative'),\n",
       " ('Yes', 'No', 'Yes', 38, 'Negative'),\n",
       " ('No', 'Yes', 'Yes', 38, 'Positive'),\n",
       " ('No', 'Yes', 'Yes', 38, 'Positive'),\n",
       " ('Yes', 'No', 'Yes', 38, 'Positive'),\n",
       " ('Yes', 'No', 'Yes', 38, 'Positive'),\n",
       " ('Yes', 'Yes', 'Yes', 38, 'Positive'),\n",
       " ('No', 'No', 'No', 39, 'Positive'),\n",
       " ('No', 'No', 'No', 40, 'Negative'),\n",
       " ('No', 'No', 'No', 40, 'Negative'),\n",
       " ('Yes', 'Yes', 'No', 40, 'Negative'),\n",
       " ('No', 'Yes', 'No', 40, 'Negative'),\n",
       " ('No', 'No', 'Yes', 40, 'Negative'),\n",
       " ('No', 'No', 'No', 40, 'Negative'),\n",
       " ('No', 'No', 'No', 40, 'Negative'),\n",
       " ('Yes', 'No', 'Yes', 40, 'Negative'),\n",
       " ('Yes', 'No', 'Yes', 40, 'Negative'),\n",
       " ('No', 'No', 'Yes', 40, 'Positive'),\n",
       " ('Yes', 'Yes', 'Yes', 40, 'Positive'),\n",
       " ('Yes', 'Yes', 'Yes', 40, 'Positive'),\n",
       " ('No', 'Yes', 'No', 40, 'Positive'),\n",
       " ('No', 'Yes', 'Yes', 40, 'Positive'),\n",
       " ('No', 'Yes', 'Yes', 40, 'Positive'),\n",
       " ('Yes', 'No', 'No', 40, 'Positive'),\n",
       " ('Yes', 'No', 'No', 40, 'Positive'),\n",
       " ('No', 'No', 'No', 40, 'Positive'),\n",
       " ('No', 'No', 'No', 40, 'Positive'),\n",
       " ('No', 'No', 'No', 40, 'Positive'),\n",
       " ('Yes', 'No', 'Yes', 40, 'Positive'),\n",
       " ('No', 'No', 'No', 40, 'Positive'),\n",
       " ('No', 'No', 'No', 40, 'Positive'),\n",
       " ('No', 'No', 'No', 40, 'Positive'),\n",
       " ('Yes', 'No', 'No', 40, 'Positive'),\n",
       " ('Yes', 'Yes', 'Yes', 40, 'Positive'),\n",
       " ('Yes', 'No', 'No', 40, 'Positive'),\n",
       " ('No', 'No', 'Yes', 40, 'Positive'),\n",
       " ('Yes', 'No', 'No', 40, 'Positive'),\n",
       " ('Yes', 'Yes', 'Yes', 40, 'Positive'),\n",
       " ('Yes', 'Yes', 'Yes', 40, 'Positive'),\n",
       " ('No', 'No', 'No', 42, 'Negative'),\n",
       " ('Yes', 'No', 'Yes', 42, 'Negative'),\n",
       " ('No', 'Yes', 'Yes', 42, 'Negative'),\n",
       " ('Yes', 'No', 'No', 42, 'Negative'),\n",
       " ('No', 'No', 'Yes', 42, 'Negative'),\n",
       " ('No', 'Yes', 'Yes', 42, 'Negative'),\n",
       " ('No', 'Yes', 'Yes', 42, 'Negative'),\n",
       " ('No', 'Yes', 'Yes', 42, 'Negative'),\n",
       " ('Yes', 'No', 'Yes', 42, 'Negative'),\n",
       " ('No', 'No', 'No', 42, 'Negative'),\n",
       " ('No', 'No', 'Yes', 42, 'Negative'),\n",
       " ('Yes', 'Yes', 'No', 42, 'Negative'),\n",
       " ('Yes', 'No', 'Yes', 42, 'Positive'),\n",
       " ('Yes', 'No', 'Yes', 42, 'Positive'),\n",
       " ('Yes', 'No', 'Yes', 42, 'Positive'),\n",
       " ('No', 'No', 'Yes', 42, 'Positive'),\n",
       " ('Yes', 'Yes', 'No', 43, 'Positive'),\n",
       " ('Yes', 'No', 'No', 45, 'Negative'),\n",
       " ('No', 'No', 'No', 45, 'Negative'),\n",
       " ('No', 'No', 'Yes', 45, 'Negative'),\n",
       " ('No', 'No', 'Yes', 45, 'Negative'),\n",
       " ('No', 'No', 'Yes', 45, 'Negative'),\n",
       " ('No', 'No', 'No', 45, 'Negative'),\n",
       " ('Yes', 'Yes', 'No', 45, 'Negative'),\n",
       " ('Yes', 'No', 'Yes', 45, 'Negative'),\n",
       " ('No', 'No', 'Yes', 45, 'Negative'),\n",
       " ('No', 'No', 'No', 45, 'Negative'),\n",
       " ('No', 'No', 'No', 45, 'Negative'),\n",
       " ('Yes', 'Yes', 'No', 45, 'Negative'),\n",
       " ('No', 'No', 'Yes', 45, 'Negative'),\n",
       " ('No', 'No', 'No', 45, 'Negative'),\n",
       " ('No', 'No', 'No', 45, 'Negative'),\n",
       " ('No', 'No', 'No', 45, 'Negative'),\n",
       " ('No', 'No', 'No', 45, 'Negative'),\n",
       " ('Yes', 'No', 'No', 45, 'Negative'),\n",
       " ('Yes', 'No', 'No', 45, 'Negative'),\n",
       " ('Yes', 'No', 'Yes', 45, 'Positive'),\n",
       " ('Yes', 'No', 'Yes', 45, 'Positive'),\n",
       " ('Yes', 'Yes', 'Yes', 45, 'Positive'),\n",
       " ('Yes', 'Yes', 'Yes', 45, 'Positive'),\n",
       " ('No', 'No', 'No', 45, 'Positive'),\n",
       " ('No', 'No', 'No', 45, 'Positive'),\n",
       " ('Yes', 'No', 'Yes', 45, 'Positive'),\n",
       " ('No', 'No', 'No', 45, 'Positive'),\n",
       " ('No', 'No', 'Yes', 45, 'Positive'),\n",
       " ('Yes', 'No', 'No', 45, 'Positive'),\n",
       " ('No', 'No', 'Yes', 45, 'Positive'),\n",
       " ('No', 'No', 'No', 45, 'Positive'),\n",
       " ('Yes', 'No', 'Yes', 45, 'Positive'),\n",
       " ('No', 'No', 'Yes', 45, 'Positive'),\n",
       " ('No', 'No', 'Yes', 45, 'Positive'),\n",
       " ('No', 'Yes', 'Yes', 45, 'Positive'),\n",
       " ('Yes', 'No', 'Yes', 45, 'Positive'),\n",
       " ('Yes', 'No', 'Yes', 45, 'Positive'),\n",
       " ('Yes', 'Yes', 'Yes', 45, 'Positive'),\n",
       " ('No', 'No', 'No', 45, 'Positive'),\n",
       " ('No', 'No', 'No', 45, 'Positive'),\n",
       " ('No', 'No', 'No', 45, 'Positive'),\n",
       " ('No', 'No', 'No', 45, 'Positive'),\n",
       " ('No', 'No', 'No', 48, 'Negative'),\n",
       " ('No', 'No', 'No', 48, 'Negative'),\n",
       " ('No', 'No', 'No', 48, 'Negative'),\n",
       " ('No', 'No', 'Yes', 50, 'Negative'),\n",
       " ('No', 'No', 'No', 50, 'Negative'),\n",
       " ('No', 'No', 'No', 50, 'Negative'),\n",
       " ('No', 'Yes', 'Yes', 50, 'Negative'),\n",
       " ('No', 'Yes', 'Yes', 50, 'Negative'),\n",
       " ('Yes', 'No', 'Yes', 50, 'Negative'),\n",
       " ('No', 'No', 'No', 50, 'Negative'),\n",
       " ('Yes', 'No', 'No', 50, 'Negative'),\n",
       " ('Yes', 'No', 'No', 50, 'Negative'),\n",
       " ('No', 'No', 'Yes', 50, 'Negative'),\n",
       " ('Yes', 'No', 'No', 50, 'Negative'),\n",
       " ('Yes', 'No', 'Yes', 50, 'Negative'),\n",
       " ('Yes', 'No', 'No', 50, 'Negative'),\n",
       " ('Yes', 'Yes', 'No', 50, 'Negative'),\n",
       " ('Yes', 'No', 'No', 50, 'Negative'),\n",
       " ('Yes', 'No', 'No', 50, 'Negative'),\n",
       " ('Yes', 'No', 'Yes', 50, 'Negative'),\n",
       " ('No', 'Yes', 'Yes', 50, 'Negative'),\n",
       " ('Yes', 'Yes', 'Yes', 50, 'Negative'),\n",
       " ('Yes', 'Yes', 'Yes', 50, 'Positive'),\n",
       " ('Yes', 'Yes', 'Yes', 50, 'Positive'),\n",
       " ('No', 'No', 'No', 50, 'Positive'),\n",
       " ('Yes', 'Yes', 'Yes', 50, 'Positive'),\n",
       " ('Yes', 'Yes', 'Yes', 50, 'Positive'),\n",
       " ('Yes', 'No', 'No', 50, 'Positive'),\n",
       " ('Yes', 'Yes', 'Yes', 50, 'Positive'),\n",
       " ('No', 'No', 'No', 50, 'Positive'),\n",
       " ('Yes', 'Yes', 'No', 50, 'Positive'),\n",
       " ('No', 'No', 'Yes', 50, 'Positive'),\n",
       " ('No', 'No', 'Yes', 50, 'Positive'),\n",
       " ('No', 'No', 'No', 50, 'Positive'),\n",
       " ('No', 'Yes', 'No', 50, 'Positive'),\n",
       " ('Yes', 'Yes', 'No', 50, 'Positive'),\n",
       " ('Yes', 'No', 'No', 50, 'Positive'),\n",
       " ('Yes', 'No', 'Yes', 52, 'Negative'),\n",
       " ('Yes', 'No', 'No', 52, 'Negative'),\n",
       " ('Yes', 'No', 'No', 52, 'Negative'),\n",
       " ('No', 'No', 'Yes', 55, 'Negative'),\n",
       " ('No', 'Yes', 'No', 55, 'Negative'),\n",
       " ('Yes', 'Yes', 'Yes', 55, 'Negative'),\n",
       " ('No', 'Yes', 'Yes', 55, 'Negative'),\n",
       " ('Yes', 'No', 'No', 55, 'Negative'),\n",
       " ('No', 'No', 'No', 55, 'Negative'),\n",
       " ('No', 'No', 'Yes', 55, 'Negative'),\n",
       " ('No', 'No', 'Yes', 55, 'Negative'),\n",
       " ('Yes', 'No', 'No', 55, 'Negative'),\n",
       " ('Yes', 'No', 'No', 55, 'Negative'),\n",
       " ('No', 'No', 'No', 55, 'Negative'),\n",
       " ('Yes', 'Yes', 'No', 55, 'Negative'),\n",
       " ('No', 'No', 'No', 55, 'Negative'),\n",
       " ('No', 'No', 'No', 55, 'Negative'),\n",
       " ('No', 'No', 'No', 55, 'Negative'),\n",
       " ('Yes', 'No', 'Yes', 55, 'Positive'),\n",
       " ('No', 'No', 'No', 55, 'Positive'),\n",
       " ('No', 'No', 'No', 55, 'Positive'),\n",
       " ('No', 'No', 'No', 55, 'Positive'),\n",
       " ('No', 'No', 'Yes', 55, 'Positive'),\n",
       " ('No', 'No', 'No', 55, 'Positive'),\n",
       " ('Yes', 'No', 'Yes', 55, 'Positive'),\n",
       " ('No', 'Yes', 'Yes', 55, 'Positive'),\n",
       " ('Yes', 'No', 'No', 55, 'Positive'),\n",
       " ('No', 'No', 'Yes', 55, 'Positive'),\n",
       " ('No', 'No', 'Yes', 55, 'Positive'),\n",
       " ('Yes', 'No', 'Yes', 55, 'Positive'),\n",
       " ('Yes', 'No', 'No', 55, 'Positive'),\n",
       " ('Yes', 'No', 'No', 55, 'Positive'),\n",
       " ('Yes', 'No', 'No', 55, 'Positive'),\n",
       " ('Yes', 'Yes', 'Yes', 56, 'Positive'),\n",
       " ('Yes', 'Yes', 'Yes', 57, 'Negative'),\n",
       " ('No', 'No', 'No', 60, 'Negative'),\n",
       " ('Yes', 'No', 'Yes', 60, 'Negative'),\n",
       " ('Yes', 'No', 'Yes', 60, 'Negative'),\n",
       " ('No', 'No', 'No', 60, 'Negative'),\n",
       " ('Yes', 'No', 'Yes', 60, 'Negative'),\n",
       " ('Yes', 'No', 'Yes', 60, 'Negative'),\n",
       " ('Yes', 'Yes', 'No', 60, 'Negative'),\n",
       " ('No', 'No', 'No', 60, 'Negative'),\n",
       " ('No', 'No', 'Yes', 60, 'Negative'),\n",
       " ('Yes', 'No', 'No', 60, 'Negative'),\n",
       " ('Yes', 'No', 'No', 60, 'Negative'),\n",
       " ('Yes', 'No', 'Yes', 60, 'Negative'),\n",
       " ('Yes', 'Yes', 'Yes', 60, 'Positive'),\n",
       " ('No', 'No', 'No', 60, 'Positive'),\n",
       " ('No', 'No', 'No', 60, 'Positive'),\n",
       " ('Yes', 'No', 'No', 60, 'Positive'),\n",
       " ('Yes', 'No', 'No', 60, 'Positive'),\n",
       " ('No', 'No', 'No', 60, 'Positive'),\n",
       " ('No', 'No', 'Yes', 60, 'Positive'),\n",
       " ('No', 'No', 'No', 60, 'Positive'),\n",
       " ('Yes', 'No', 'Yes', 60, 'Positive'),\n",
       " ('Yes', 'Yes', 'Yes', 60, 'Positive'),\n",
       " ('No', 'No', 'Yes', 60, 'Positive'),\n",
       " ('Yes', 'No', 'Yes', 60, 'Positive'),\n",
       " ('Yes', 'No', 'Yes', 60, 'Positive'),\n",
       " ('Yes', 'No', 'Yes', 60, 'Positive'),\n",
       " ('No', 'No', 'No', 60, 'Positive'),\n",
       " ('No', 'No', 'No', 60, 'Positive'),\n",
       " ('No', 'No', 'No', 60, 'Positive'),\n",
       " ('Yes', 'No', 'Yes', 60, 'Positive'),\n",
       " ('No', 'No', 'No', 65, 'Negative'),\n",
       " ('No', 'No', 'No', 65, 'Negative'),\n",
       " ('Yes', 'No', 'Yes', 65, 'Negative'),\n",
       " ('No', 'No', 'Yes', 65, 'Negative'),\n",
       " ('No', 'No', 'Yes', 65, 'Negative'),\n",
       " ('No', 'No', 'No', 65, 'Negative'),\n",
       " ('No', 'No', 'Yes', 65, 'Negative'),\n",
       " ('Yes', 'No', 'No', 65, 'Positive'),\n",
       " ('Yes', 'No', 'No', 65, 'Positive'),\n",
       " ('No', 'No', 'No', 65, 'Positive'),\n",
       " ('No', 'Yes', 'Yes', 65, 'Positive'),\n",
       " ('No', 'Yes', 'Yes', 65, 'Positive'),\n",
       " ('No', 'Yes', 'Yes', 65, 'Positive'),\n",
       " ('No', 'No', 'No', 65, 'Positive'),\n",
       " ('Yes', 'No', 'Yes', 65, 'Positive'),\n",
       " ('No', 'No', 'No', 65, 'Positive'),\n",
       " ('Yes', 'No', 'Yes', 65, 'Positive'),\n",
       " ('Yes', 'No', 'Yes', 65, 'Positive'),\n",
       " ('No', 'No', 'Yes', 65, 'Positive'),\n",
       " ('No', 'No', 'No', 65, 'Positive'),\n",
       " ('No', 'No', 'No', 65, 'Positive'),\n",
       " ('Yes', 'No', 'No', 65, 'Positive'),\n",
       " ('Yes', 'No', 'Yes', 65, 'Positive'),\n",
       " ('No', 'No', 'Yes', 70, 'Negative'),\n",
       " ('No', 'No', 'Yes', 70, 'Negative'),\n",
       " ('No', 'No', 'No', 70, 'Negative'),\n",
       " ('Yes', 'Yes', 'No', 70, 'Negative'),\n",
       " ('Yes', 'Yes', 'No', 70, 'Negative'),\n",
       " ('No', 'No', 'Yes', 70, 'Negative'),\n",
       " ('No', 'No', 'No', 70, 'Negative'),\n",
       " ('Yes', 'No', 'Yes', 70, 'Negative'),\n",
       " ('Yes', 'No', 'No', 70, 'Negative'),\n",
       " ('No', 'No', 'Yes', 70, 'Positive'),\n",
       " ('No', 'No', 'No', 70, 'Positive'),\n",
       " ('Yes', 'No', 'No', 70, 'Positive'),\n",
       " ('Yes', 'No', 'No', 70, 'Positive'),\n",
       " ('No', 'No', 'No', 70, 'Positive'),\n",
       " ('Yes', 'No', 'Yes', 70, 'Positive'),\n",
       " ('No', 'No', 'No', 70, 'Positive'),\n",
       " ('No', 'No', 'Yes', 80, 'Positive'),\n",
       " ('No', 'No', 'Yes', 80, 'Positive'),\n",
       " ('No', 'No', 'Yes', 85, 'Positive'),\n",
       " ('No', 'No', 'Yes', 85, 'Positive'),\n",
       " ('No', 'No', 'Yes', 90, 'Positive'),\n",
       " ('No', 'No', 'Yes', 90, 'Positive')]"
      ]
     },
     "execution_count": 32,
     "metadata": {},
     "output_type": "execute_result"
    }
   ],
   "source": [
    "sql_data_select = \"\"\" select ps.Cough, ps.Difficulty,ps.Fever, pi.Age, pi.Outcome_Variable\n",
    "                        from patientsymp as ps\n",
    "                        inner join patientinfo as pi on pi.PatientId =  ps.PatientId\"\"\"\n",
    "mycursor.execute(sql_data_select)\n",
    "mydata2 = mycursor.fetchall()\n",
    "mydata2"
   ]
  },
  {
   "cell_type": "code",
   "execution_count": 33,
   "metadata": {},
   "outputs": [
    {
     "data": {
      "text/html": [
       "<div>\n",
       "<style scoped>\n",
       "    .dataframe tbody tr th:only-of-type {\n",
       "        vertical-align: middle;\n",
       "    }\n",
       "\n",
       "    .dataframe tbody tr th {\n",
       "        vertical-align: top;\n",
       "    }\n",
       "\n",
       "    .dataframe thead th {\n",
       "        text-align: right;\n",
       "    }\n",
       "</style>\n",
       "<table border=\"1\" class=\"dataframe\">\n",
       "  <thead>\n",
       "    <tr style=\"text-align: right;\">\n",
       "      <th></th>\n",
       "      <th>Cough</th>\n",
       "      <th>Difficulty</th>\n",
       "      <th>Fever</th>\n",
       "      <th>Age</th>\n",
       "      <th>Outcome_Variable</th>\n",
       "    </tr>\n",
       "  </thead>\n",
       "  <tbody>\n",
       "    <tr>\n",
       "      <th>0</th>\n",
       "      <td>No</td>\n",
       "      <td>Yes</td>\n",
       "      <td>Yes</td>\n",
       "      <td>19</td>\n",
       "      <td>Positive</td>\n",
       "    </tr>\n",
       "    <tr>\n",
       "      <th>1</th>\n",
       "      <td>Yes</td>\n",
       "      <td>No</td>\n",
       "      <td>No</td>\n",
       "      <td>25</td>\n",
       "      <td>Negative</td>\n",
       "    </tr>\n",
       "    <tr>\n",
       "      <th>2</th>\n",
       "      <td>Yes</td>\n",
       "      <td>No</td>\n",
       "      <td>No</td>\n",
       "      <td>25</td>\n",
       "      <td>Negative</td>\n",
       "    </tr>\n",
       "    <tr>\n",
       "      <th>3</th>\n",
       "      <td>Yes</td>\n",
       "      <td>Yes</td>\n",
       "      <td>Yes</td>\n",
       "      <td>25</td>\n",
       "      <td>Positive</td>\n",
       "    </tr>\n",
       "    <tr>\n",
       "      <th>4</th>\n",
       "      <td>Yes</td>\n",
       "      <td>Yes</td>\n",
       "      <td>Yes</td>\n",
       "      <td>25</td>\n",
       "      <td>Positive</td>\n",
       "    </tr>\n",
       "  </tbody>\n",
       "</table>\n",
       "</div>"
      ],
      "text/plain": [
       "  Cough Difficulty Fever  Age Outcome_Variable\n",
       "0    No        Yes   Yes   19         Positive\n",
       "1   Yes         No    No   25         Negative\n",
       "2   Yes         No    No   25         Negative\n",
       "3   Yes        Yes   Yes   25         Positive\n",
       "4   Yes        Yes   Yes   25         Positive"
      ]
     },
     "execution_count": 33,
     "metadata": {},
     "output_type": "execute_result"
    }
   ],
   "source": [
    "df = pd.DataFrame(mydata2, columns=['Cough', 'Difficulty','Fever', 'Age', 'Outcome_Variable'])\n",
    "df.head()"
   ]
  },
  {
   "cell_type": "code",
   "execution_count": 34,
   "metadata": {},
   "outputs": [
    {
     "name": "stdout",
     "output_type": "stream",
     "text": [
      "<class 'pandas.core.frame.DataFrame'>\n",
      "RangeIndex: 349 entries, 0 to 348\n",
      "Data columns (total 5 columns):\n",
      " #   Column            Non-Null Count  Dtype \n",
      "---  ------            --------------  ----- \n",
      " 0   Cough             349 non-null    object\n",
      " 1   Difficulty        349 non-null    object\n",
      " 2   Fever             349 non-null    object\n",
      " 3   Age               349 non-null    int64 \n",
      " 4   Outcome_Variable  349 non-null    object\n",
      "dtypes: int64(1), object(4)\n",
      "memory usage: 13.8+ KB\n"
     ]
    }
   ],
   "source": [
    "df.info()"
   ]
  },
  {
   "cell_type": "code",
   "execution_count": 35,
   "metadata": {},
   "outputs": [],
   "source": [
    "df['Outcome_Variable']=df['Outcome_Variable'].astype('category')\n",
    "df['Outcome_Variable']=df['Outcome_Variable'].cat.codes"
   ]
  },
  {
   "cell_type": "code",
   "execution_count": 36,
   "metadata": {},
   "outputs": [],
   "source": [
    "df['Cough']=df['Cough'].astype('category')\n",
    "df['Cough']=df['Cough'].cat.codes\n",
    "\n",
    "df['Fever']=df['Fever'].astype('category')\n",
    "df['Fever']=df['Fever'].cat.codes\n",
    "\n",
    "df['Difficulty']=df['Difficulty'].astype('category')\n",
    "df['Difficulty']=df['Difficulty'].cat.codes"
   ]
  },
  {
   "cell_type": "code",
   "execution_count": 37,
   "metadata": {},
   "outputs": [
    {
     "data": {
      "text/html": [
       "<div>\n",
       "<style scoped>\n",
       "    .dataframe tbody tr th:only-of-type {\n",
       "        vertical-align: middle;\n",
       "    }\n",
       "\n",
       "    .dataframe tbody tr th {\n",
       "        vertical-align: top;\n",
       "    }\n",
       "\n",
       "    .dataframe thead th {\n",
       "        text-align: right;\n",
       "    }\n",
       "</style>\n",
       "<table border=\"1\" class=\"dataframe\">\n",
       "  <thead>\n",
       "    <tr style=\"text-align: right;\">\n",
       "      <th></th>\n",
       "      <th>Cough</th>\n",
       "      <th>Difficulty</th>\n",
       "      <th>Fever</th>\n",
       "      <th>Age</th>\n",
       "      <th>Outcome_Variable</th>\n",
       "    </tr>\n",
       "  </thead>\n",
       "  <tbody>\n",
       "    <tr>\n",
       "      <th>0</th>\n",
       "      <td>0</td>\n",
       "      <td>1</td>\n",
       "      <td>1</td>\n",
       "      <td>19</td>\n",
       "      <td>1</td>\n",
       "    </tr>\n",
       "    <tr>\n",
       "      <th>1</th>\n",
       "      <td>1</td>\n",
       "      <td>0</td>\n",
       "      <td>0</td>\n",
       "      <td>25</td>\n",
       "      <td>0</td>\n",
       "    </tr>\n",
       "    <tr>\n",
       "      <th>2</th>\n",
       "      <td>1</td>\n",
       "      <td>0</td>\n",
       "      <td>0</td>\n",
       "      <td>25</td>\n",
       "      <td>0</td>\n",
       "    </tr>\n",
       "    <tr>\n",
       "      <th>3</th>\n",
       "      <td>1</td>\n",
       "      <td>1</td>\n",
       "      <td>1</td>\n",
       "      <td>25</td>\n",
       "      <td>1</td>\n",
       "    </tr>\n",
       "    <tr>\n",
       "      <th>4</th>\n",
       "      <td>1</td>\n",
       "      <td>1</td>\n",
       "      <td>1</td>\n",
       "      <td>25</td>\n",
       "      <td>1</td>\n",
       "    </tr>\n",
       "  </tbody>\n",
       "</table>\n",
       "</div>"
      ],
      "text/plain": [
       "   Cough  Difficulty  Fever  Age  Outcome_Variable\n",
       "0      0           1      1   19                 1\n",
       "1      1           0      0   25                 0\n",
       "2      1           0      0   25                 0\n",
       "3      1           1      1   25                 1\n",
       "4      1           1      1   25                 1"
      ]
     },
     "execution_count": 37,
     "metadata": {},
     "output_type": "execute_result"
    }
   ],
   "source": [
    "df.head()"
   ]
  },
  {
   "cell_type": "code",
   "execution_count": 38,
   "metadata": {},
   "outputs": [
    {
     "data": {
      "text/html": [
       "<div>\n",
       "<style scoped>\n",
       "    .dataframe tbody tr th:only-of-type {\n",
       "        vertical-align: middle;\n",
       "    }\n",
       "\n",
       "    .dataframe tbody tr th {\n",
       "        vertical-align: top;\n",
       "    }\n",
       "\n",
       "    .dataframe thead th {\n",
       "        text-align: right;\n",
       "    }\n",
       "</style>\n",
       "<table border=\"1\" class=\"dataframe\">\n",
       "  <thead>\n",
       "    <tr style=\"text-align: right;\">\n",
       "      <th></th>\n",
       "      <th>Cough</th>\n",
       "      <th>Difficulty</th>\n",
       "      <th>Fever</th>\n",
       "      <th>Age</th>\n",
       "      <th>Outcome_Variable</th>\n",
       "    </tr>\n",
       "  </thead>\n",
       "  <tbody>\n",
       "    <tr>\n",
       "      <th>Cough</th>\n",
       "      <td>1.000000</td>\n",
       "      <td>0.223115</td>\n",
       "      <td>0.129183</td>\n",
       "      <td>-0.104511</td>\n",
       "      <td>-0.011530</td>\n",
       "    </tr>\n",
       "    <tr>\n",
       "      <th>Difficulty</th>\n",
       "      <td>0.223115</td>\n",
       "      <td>1.000000</td>\n",
       "      <td>0.262273</td>\n",
       "      <td>-0.207296</td>\n",
       "      <td>0.093905</td>\n",
       "    </tr>\n",
       "    <tr>\n",
       "      <th>Fever</th>\n",
       "      <td>0.129183</td>\n",
       "      <td>0.262273</td>\n",
       "      <td>1.000000</td>\n",
       "      <td>-0.011255</td>\n",
       "      <td>0.180721</td>\n",
       "    </tr>\n",
       "    <tr>\n",
       "      <th>Age</th>\n",
       "      <td>-0.104511</td>\n",
       "      <td>-0.207296</td>\n",
       "      <td>-0.011255</td>\n",
       "      <td>1.000000</td>\n",
       "      <td>0.053525</td>\n",
       "    </tr>\n",
       "    <tr>\n",
       "      <th>Outcome_Variable</th>\n",
       "      <td>-0.011530</td>\n",
       "      <td>0.093905</td>\n",
       "      <td>0.180721</td>\n",
       "      <td>0.053525</td>\n",
       "      <td>1.000000</td>\n",
       "    </tr>\n",
       "  </tbody>\n",
       "</table>\n",
       "</div>"
      ],
      "text/plain": [
       "                     Cough  Difficulty     Fever       Age  Outcome_Variable\n",
       "Cough             1.000000    0.223115  0.129183 -0.104511         -0.011530\n",
       "Difficulty        0.223115    1.000000  0.262273 -0.207296          0.093905\n",
       "Fever             0.129183    0.262273  1.000000 -0.011255          0.180721\n",
       "Age              -0.104511   -0.207296 -0.011255  1.000000          0.053525\n",
       "Outcome_Variable -0.011530    0.093905  0.180721  0.053525          1.000000"
      ]
     },
     "execution_count": 38,
     "metadata": {},
     "output_type": "execute_result"
    }
   ],
   "source": [
    "df.corr()"
   ]
  },
  {
   "cell_type": "code",
   "execution_count": 39,
   "metadata": {},
   "outputs": [
    {
     "data": {
      "text/plain": [
       "<Axes: >"
      ]
     },
     "execution_count": 39,
     "metadata": {},
     "output_type": "execute_result"
    },
    {
     "data": {
      "image/png": "[encoded data removed]",
      "text/plain": [
       "<Figure size 640x480 with 2 Axes>"
      ]
     },
     "metadata": {},
     "output_type": "display_data"
    }
   ],
   "source": [
    "sns.heatmap(df.corr(), annot=True, cmap = 'coolwarm')"
   ]
  },
  {
   "cell_type": "markdown",
   "metadata": {},
   "source": [
    "# # ******************************************** HAPI-5 ************************************************************\n",
    "# fillojme me ndertimin e modelit te regresit te shumfishte llogjik"
   ]
  },
  {
   "cell_type": "code",
   "execution_count": 40,
   "metadata": {},
   "outputs": [],
   "source": [
    "# ndajme variablat\n",
    "X = df.drop(['Outcome_Variable'], axis=1)\n",
    "y=df['Outcome_Variable']"
   ]
  },
  {
   "cell_type": "code",
   "execution_count": 41,
   "metadata": {},
   "outputs": [
    {
     "data": {
      "text/html": [
       "<div>\n",
       "<style scoped>\n",
       "    .dataframe tbody tr th:only-of-type {\n",
       "        vertical-align: middle;\n",
       "    }\n",
       "\n",
       "    .dataframe tbody tr th {\n",
       "        vertical-align: top;\n",
       "    }\n",
       "\n",
       "    .dataframe thead th {\n",
       "        text-align: right;\n",
       "    }\n",
       "</style>\n",
       "<table border=\"1\" class=\"dataframe\">\n",
       "  <thead>\n",
       "    <tr style=\"text-align: right;\">\n",
       "      <th></th>\n",
       "      <th>Cough</th>\n",
       "      <th>Difficulty</th>\n",
       "      <th>Fever</th>\n",
       "      <th>Age</th>\n",
       "    </tr>\n",
       "  </thead>\n",
       "  <tbody>\n",
       "    <tr>\n",
       "      <th>0</th>\n",
       "      <td>0</td>\n",
       "      <td>1</td>\n",
       "      <td>1</td>\n",
       "      <td>19</td>\n",
       "    </tr>\n",
       "    <tr>\n",
       "      <th>1</th>\n",
       "      <td>1</td>\n",
       "      <td>0</td>\n",
       "      <td>0</td>\n",
       "      <td>25</td>\n",
       "    </tr>\n",
       "    <tr>\n",
       "      <th>2</th>\n",
       "      <td>1</td>\n",
       "      <td>0</td>\n",
       "      <td>0</td>\n",
       "      <td>25</td>\n",
       "    </tr>\n",
       "    <tr>\n",
       "      <th>3</th>\n",
       "      <td>1</td>\n",
       "      <td>1</td>\n",
       "      <td>1</td>\n",
       "      <td>25</td>\n",
       "    </tr>\n",
       "    <tr>\n",
       "      <th>4</th>\n",
       "      <td>1</td>\n",
       "      <td>1</td>\n",
       "      <td>1</td>\n",
       "      <td>25</td>\n",
       "    </tr>\n",
       "  </tbody>\n",
       "</table>\n",
       "</div>"
      ],
      "text/plain": [
       "   Cough  Difficulty  Fever  Age\n",
       "0      0           1      1   19\n",
       "1      1           0      0   25\n",
       "2      1           0      0   25\n",
       "3      1           1      1   25\n",
       "4      1           1      1   25"
      ]
     },
     "execution_count": 41,
     "metadata": {},
     "output_type": "execute_result"
    }
   ],
   "source": [
    "X.head()"
   ]
  },
  {
   "cell_type": "code",
   "execution_count": 42,
   "metadata": {},
   "outputs": [
    {
     "data": {
      "text/plain": [
       "array([[0.        , 1.        , 1.        , 0.        ],\n",
       "       [1.        , 0.        , 0.        , 0.08450704],\n",
       "       [1.        , 0.        , 0.        , 0.08450704],\n",
       "       ...,\n",
       "       [0.        , 0.        , 1.        , 0.92957746],\n",
       "       [0.        , 0.        , 1.        , 1.        ],\n",
       "       [0.        , 0.        , 1.        , 1.        ]])"
      ]
     },
     "execution_count": 42,
     "metadata": {},
     "output_type": "execute_result"
    }
   ],
   "source": [
    "# scaling data\n",
    "from sklearn.preprocessing import MinMaxScaler\n",
    "scaler = MinMaxScaler()\n",
    "scaler.fit(X)\n",
    "scaled_features = scaler.transform(X)\n",
    "scaled_features"
   ]
  },
  {
   "cell_type": "code",
   "execution_count": 43,
   "metadata": {},
   "outputs": [],
   "source": [
    "from sklearn.model_selection import train_test_split\n",
    "scaled_features_train, scaled_features_test, y_train, y_test = train_test_split(scaled_features, y, test_size=0.2, random_state=39)"
   ]
  },
  {
   "cell_type": "code",
   "execution_count": 44,
   "metadata": {},
   "outputs": [],
   "source": [
    "from sklearn.linear_model import LogisticRegression\n",
    "from sklearn.metrics import accuracy_score"
   ]
  },
  {
   "cell_type": "code",
   "execution_count": 45,
   "metadata": {},
   "outputs": [
    {
     "data": {
      "text/html": [
       "<style>#sk-container-id-2 {color: black;}#sk-container-id-2 pre{padding: 0;}#sk-container-id-2 div.sk-toggleable {background-color: white;}#sk-container-id-2 label.sk-toggleable__label {cursor: pointer;display: block;width: 100%;margin-bottom: 0;padding: 0.3em;box-sizing: border-box;text-align: center;}#sk-container-id-2 label.sk-toggleable__label-arrow:before {content: \"▸\";float: left;margin-right: 0.25em;color: #696969;}#sk-container-id-2 label.sk-toggleable__label-arrow:hover:before {color: black;}#sk-container-id-2 div.sk-estimator:hover label.sk-toggleable__label-arrow:before {color: black;}#sk-container-id-2 div.sk-toggleable__content {max-height: 0;max-width: 0;overflow: hidden;text-align: left;background-color: #f0f8ff;}#sk-container-id-2 div.sk-toggleable__content pre {margin: 0.2em;color: black;border-radius: 0.25em;background-color: #f0f8ff;}#sk-container-id-2 input.sk-toggleable__control:checked~div.sk-toggleable__content {max-height: 200px;max-width: 100%;overflow: auto;}#sk-container-id-2 input.sk-toggleable__control:checked~label.sk-toggleable__label-arrow:before {content: \"▾\";}#sk-container-id-2 div.sk-estimator input.sk-toggleable__control:checked~label.sk-toggleable__label {background-color: #d4ebff;}#sk-container-id-2 div.sk-label input.sk-toggleable__control:checked~label.sk-toggleable__label {background-color: #d4ebff;}#sk-container-id-2 input.sk-hidden--visually {border: 0;clip: rect(1px 1px 1px 1px);clip: rect(1px, 1px, 1px, 1px);height: 1px;margin: -1px;overflow: hidden;padding: 0;position: absolute;width: 1px;}#sk-container-id-2 div.sk-estimator {font-family: monospace;background-color: #f0f8ff;border: 1px dotted black;border-radius: 0.25em;box-sizing: border-box;margin-bottom: 0.5em;}#sk-container-id-2 div.sk-estimator:hover {background-color: #d4ebff;}#sk-container-id-2 div.sk-parallel-item::after {content: \"\";width: 100%;border-bottom: 1px solid gray;flex-grow: 1;}#sk-container-id-2 div.sk-label:hover label.sk-toggleable__label {background-color: #d4ebff;}#sk-container-id-2 div.sk-serial::before {content: \"\";position: absolute;border-left: 1px solid gray;box-sizing: border-box;top: 0;bottom: 0;left: 50%;z-index: 0;}#sk-container-id-2 div.sk-serial {display: flex;flex-direction: column;align-items: center;background-color: white;padding-right: 0.2em;padding-left: 0.2em;position: relative;}#sk-container-id-2 div.sk-item {position: relative;z-index: 1;}#sk-container-id-2 div.sk-parallel {display: flex;align-items: stretch;justify-content: center;background-color: white;position: relative;}#sk-container-id-2 div.sk-item::before, #sk-container-id-2 div.sk-parallel-item::before {content: \"\";position: absolute;border-left: 1px solid gray;box-sizing: border-box;top: 0;bottom: 0;left: 50%;z-index: -1;}#sk-container-id-2 div.sk-parallel-item {display: flex;flex-direction: column;z-index: 1;position: relative;background-color: white;}#sk-container-id-2 div.sk-parallel-item:first-child::after {align-self: flex-end;width: 50%;}#sk-container-id-2 div.sk-parallel-item:last-child::after {align-self: flex-start;width: 50%;}#sk-container-id-2 div.sk-parallel-item:only-child::after {width: 0;}#sk-container-id-2 div.sk-dashed-wrapped {border: 1px dashed gray;margin: 0 0.4em 0.5em 0.4em;box-sizing: border-box;padding-bottom: 0.4em;background-color: white;}#sk-container-id-2 div.sk-label label {font-family: monospace;font-weight: bold;display: inline-block;line-height: 1.2em;}#sk-container-id-2 div.sk-label-container {text-align: center;}#sk-container-id-2 div.sk-container {/* jupyter's `normalize.less` sets `[hidden] { display: none; }` but bootstrap.min.css set `[hidden] { display: none !important; }` so we also need the `!important` here to be able to override the default hidden behavior on the sphinx rendered scikit-learn.org. See: https://github.com/scikit-learn/scikit-learn/issues/21755 */display: inline-block !important;position: relative;}#sk-container-id-2 div.sk-text-repr-fallback {display: none;}</style><div id=\"sk-container-id-2\" class=\"sk-top-container\"><div class=\"sk-text-repr-fallback\"><pre>LogisticRegression()</pre><b>In a Jupyter environment, please rerun this cell to show the HTML representation or trust the notebook. <br />On GitHub, the HTML representation is unable to render, please try loading this page with nbviewer.org.</b></div><div class=\"sk-container\" hidden><div class=\"sk-item\"><div class=\"sk-estimator sk-toggleable\"><input class=\"sk-toggleable__control sk-hidden--visually\" id=\"sk-estimator-id-2\" type=\"checkbox\" checked><label for=\"sk-estimator-id-2\" class=\"sk-toggleable__label sk-toggleable__label-arrow\">LogisticRegression</label><div class=\"sk-toggleable__content\"><pre>LogisticRegression()</pre></div></div></div></div></div>"
      ],
      "text/plain": [
       "LogisticRegression()"
      ]
     },
     "execution_count": 45,
     "metadata": {},
     "output_type": "execute_result"
    }
   ],
   "source": [
    "log_regr = LogisticRegression()\n",
    "log_regr.fit(scaled_features_train, y_train)"
   ]
  },
  {
   "cell_type": "code",
   "execution_count": 46,
   "metadata": {},
   "outputs": [],
   "source": [
    "ypred = log_regr.predict(scaled_features_train)"
   ]
  },
  {
   "cell_type": "code",
   "execution_count": 47,
   "metadata": {},
   "outputs": [
    {
     "data": {
      "text/plain": [
       "array([0, 0, 0, 1, 1, 0, 1, 1, 0, 1, 0, 0, 1, 0, 1, 1, 1, 1, 1, 0, 1, 0,\n",
       "       1, 1, 1, 1, 0, 1, 0, 1, 0, 0, 1, 0, 0, 1, 1, 0, 0, 0, 1, 1, 0, 0,\n",
       "       0, 0, 1, 0, 0, 1, 0, 1, 1, 1, 1, 1, 0, 1, 1, 0, 1, 0, 0, 1, 1, 1,\n",
       "       1, 0, 1, 1, 0, 0, 1, 0, 1, 0, 1, 0, 0, 0, 1, 1, 0, 1, 0, 1, 1, 1,\n",
       "       1, 1, 0, 1, 0, 1, 1, 0, 0, 1, 1, 1, 0, 1, 1, 1, 1, 1, 1, 0, 0, 0,\n",
       "       1, 1, 1, 1, 1, 0, 0, 0, 0, 1, 1, 1, 0, 1, 1, 1, 1, 1, 0, 1, 0, 0,\n",
       "       1, 0, 1, 0, 1, 0, 1, 0, 0, 0, 0, 0, 1, 1, 1, 1, 1, 0, 0, 0, 1, 0,\n",
       "       1, 0, 0, 0, 0, 1, 1, 1, 0, 0, 0, 1, 1, 1, 1, 1, 0, 1, 1, 0, 0, 1,\n",
       "       0, 0, 0, 0, 1, 0, 0, 0, 1, 0, 0, 0, 1, 1, 0, 0, 1, 1, 1, 1, 1, 1,\n",
       "       0, 1, 0, 0, 1, 0, 1, 0, 0, 1, 0, 1, 1, 0, 0, 0, 1, 0, 1, 1, 1, 1,\n",
       "       0, 0, 1, 1, 1, 1, 1, 1, 1, 0, 0, 1, 1, 1, 1, 1, 1, 1, 0, 1, 1, 0,\n",
       "       0, 1, 1, 0, 0, 1, 1, 0, 1, 1, 1, 0, 1, 1, 1, 1, 0, 1, 1, 0, 0, 1,\n",
       "       1, 1, 1, 1, 1, 0, 1, 1, 1, 1, 1, 1, 0, 1, 1], dtype=int8)"
      ]
     },
     "execution_count": 47,
     "metadata": {},
     "output_type": "execute_result"
    }
   ],
   "source": [
    "ypred"
   ]
  },
  {
   "cell_type": "code",
   "execution_count": 48,
   "metadata": {},
   "outputs": [
    {
     "data": {
      "text/plain": [
       "0.5842293906810035"
      ]
     },
     "execution_count": 48,
     "metadata": {},
     "output_type": "execute_result"
    }
   ],
   "source": [
    "accsc=accuracy_score(y_train, ypred)\n",
    "accsc"
   ]
  },
  {
   "cell_type": "code",
   "execution_count": 49,
   "metadata": {},
   "outputs": [],
   "source": [
    "ypred_test = log_regr.predict(scaled_features_test)"
   ]
  },
  {
   "cell_type": "code",
   "execution_count": 50,
   "metadata": {},
   "outputs": [
    {
     "data": {
      "text/plain": [
       "0.44285714285714284"
      ]
     },
     "execution_count": 50,
     "metadata": {},
     "output_type": "execute_result"
    }
   ],
   "source": [
    "accsc_test=accuracy_score(y_test, ypred_test)\n",
    "accsc_test"
   ]
  }
 ],
 "metadata": {
  "kernelspec": {
   "display_name": "Python 3",
   "language": "python",
   "name": "python3"
  },
  "language_info": {
   "codemirror_mode": {
    "name": "ipython",
    "version": 3
   },
   "file_extension": ".py",
   "mimetype": "text/x-python",
   "name": "python",
   "nbconvert_exporter": "python",
   "pygments_lexer": "ipython3",
   "version": "3.11.9"
  }
 },
 "nbformat": 4,
 "nbformat_minor": 2
}
