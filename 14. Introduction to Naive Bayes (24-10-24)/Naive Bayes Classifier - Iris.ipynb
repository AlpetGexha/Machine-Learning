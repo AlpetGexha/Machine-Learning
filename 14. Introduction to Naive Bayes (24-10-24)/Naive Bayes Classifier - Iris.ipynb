{
 "cells": [
  {
   "metadata": {},
   "cell_type": "markdown",
   "source": [
    "### Naive Bayes classifier\n",
    "\n",
    "The Naive Bayes classifier is a popular algorithm in machine learning, especially for tasks involving classification. It’s based on Bayes' Theorem, which describes the probability of an event, based on prior knowledge of conditions that might be related to the event. Despite its simplicity, it's widely used for tasks like spam detection, sentiment analysis, and document classification due to its efficiency and effectiveness.\n",
    "\n",
    "#### Bernoulli Naive Bayes\n",
    " It assumes that all our features are binary such that they take only two values. For example, means 0s can represent “word does not occur in the document” and 1s as \"word occurs in the document\".\n",
    "\n",
    " \n",
    "#### Multinomial Naive Bayes \n",
    "Its is used when we have discrete data (e.g. movie ratings ranging 1 and 5 as each rating will have certain frequency to represent). In text learning we have the count of each word to predict the class or label.\n",
    "\n",
    "#### Gaussian Naive Bayes\n",
    " Because of the assumption of the normal distribution, Gaussian Naive Bayes is used in cases when all our features are continuous. For example in Iris dataset features are sepal width, petal width, sepal length, petal length. So its features can have different values in data set as width and length can vary. We can’t represent features in terms of their occurrences. This means data is continuous. Hence we use Gaussian Naive Bayes here.\n",
    " \n",
    "#### Naive Bayes classifier \n",
    "The categorical Naive Bayes classifier is suitable for classification with discrete features that are categorically distributed. The categories of each feature are drawn from a categorical distribution."
   ],
   "id": "47afb216a67d8d7e"
  },
  {
   "cell_type": "code",
   "id": "initial_id",
   "metadata": {
    "collapsed": true,
    "ExecuteTime": {
     "end_time": "2024-11-08T00:51:50.299032Z",
     "start_time": "2024-11-08T00:51:50.283565Z"
    }
   },
   "source": [
    "import matplotlib.pyplot as plt\n",
    "import numpy as np\n",
    "import pandas as pd\n",
    "import seaborn as sns"
   ],
   "outputs": [],
   "execution_count": 173
  },
  {
   "metadata": {
    "ExecuteTime": {
     "end_time": "2024-11-08T00:51:50.362031Z",
     "start_time": "2024-11-08T00:51:50.330280Z"
    }
   },
   "cell_type": "code",
   "source": [
    "# Assign colum names to the dataset\n",
    "colnames = ['sepal-length', 'sepal-width', 'petal-length', 'petal-width', 'Class']\n",
    "\n",
    "# Read dataset to pandas dataframe\n",
    "dataset = pd.read_csv('iris.data', names=colnames)\n",
    "dataset.head()"
   ],
   "id": "b5b109b11b06d196",
   "outputs": [
    {
     "data": {
      "text/plain": [
       "   sepal-length  sepal-width  petal-length  petal-width        Class\n",
       "0           5.1          3.5           1.4          0.2  Iris-setosa\n",
       "1           4.9          3.0           1.4          0.2  Iris-setosa\n",
       "2           4.7          3.2           1.3          0.2  Iris-setosa\n",
       "3           4.6          3.1           1.5          0.2  Iris-setosa\n",
       "4           5.0          3.6           1.4          0.2  Iris-setosa"
      ],
      "text/html": [
       "<div>\n",
       "<style scoped>\n",
       "    .dataframe tbody tr th:only-of-type {\n",
       "        vertical-align: middle;\n",
       "    }\n",
       "\n",
       "    .dataframe tbody tr th {\n",
       "        vertical-align: top;\n",
       "    }\n",
       "\n",
       "    .dataframe thead th {\n",
       "        text-align: right;\n",
       "    }\n",
       "</style>\n",
       "<table border=\"1\" class=\"dataframe\">\n",
       "  <thead>\n",
       "    <tr style=\"text-align: right;\">\n",
       "      <th></th>\n",
       "      <th>sepal-length</th>\n",
       "      <th>sepal-width</th>\n",
       "      <th>petal-length</th>\n",
       "      <th>petal-width</th>\n",
       "      <th>Class</th>\n",
       "    </tr>\n",
       "  </thead>\n",
       "  <tbody>\n",
       "    <tr>\n",
       "      <th>0</th>\n",
       "      <td>5.1</td>\n",
       "      <td>3.5</td>\n",
       "      <td>1.4</td>\n",
       "      <td>0.2</td>\n",
       "      <td>Iris-setosa</td>\n",
       "    </tr>\n",
       "    <tr>\n",
       "      <th>1</th>\n",
       "      <td>4.9</td>\n",
       "      <td>3.0</td>\n",
       "      <td>1.4</td>\n",
       "      <td>0.2</td>\n",
       "      <td>Iris-setosa</td>\n",
       "    </tr>\n",
       "    <tr>\n",
       "      <th>2</th>\n",
       "      <td>4.7</td>\n",
       "      <td>3.2</td>\n",
       "      <td>1.3</td>\n",
       "      <td>0.2</td>\n",
       "      <td>Iris-setosa</td>\n",
       "    </tr>\n",
       "    <tr>\n",
       "      <th>3</th>\n",
       "      <td>4.6</td>\n",
       "      <td>3.1</td>\n",
       "      <td>1.5</td>\n",
       "      <td>0.2</td>\n",
       "      <td>Iris-setosa</td>\n",
       "    </tr>\n",
       "    <tr>\n",
       "      <th>4</th>\n",
       "      <td>5.0</td>\n",
       "      <td>3.6</td>\n",
       "      <td>1.4</td>\n",
       "      <td>0.2</td>\n",
       "      <td>Iris-setosa</td>\n",
       "    </tr>\n",
       "  </tbody>\n",
       "</table>\n",
       "</div>"
      ]
     },
     "execution_count": 174,
     "metadata": {},
     "output_type": "execute_result"
    }
   ],
   "execution_count": 174
  },
  {
   "metadata": {
    "ExecuteTime": {
     "end_time": "2024-11-08T00:51:50.534344Z",
     "start_time": "2024-11-08T00:51:50.518740Z"
    }
   },
   "cell_type": "code",
   "source": [
    "# split our dataset into its attributes and labels\n",
    "X = dataset.iloc[:, :-1].values\n",
    "y = dataset.iloc[:, 4].values"
   ],
   "id": "6297ecda413c3206",
   "outputs": [],
   "execution_count": 175
  },
  {
   "metadata": {
    "ExecuteTime": {
     "end_time": "2024-11-08T00:51:50.675886Z",
     "start_time": "2024-11-08T00:51:50.660235Z"
    }
   },
   "cell_type": "code",
   "source": [
    "# Splitting the dataset into the Training set and Test set\n",
    "from sklearn.model_selection import train_test_split\n",
    "\n",
    "X_train, X_test, y_train, y_test = train_test_split(X, y, test_size=0.2, random_state=42)\n"
   ],
   "id": "b5ba7818fedda1db",
   "outputs": [],
   "execution_count": 176
  },
  {
   "metadata": {
    "ExecuteTime": {
     "end_time": "2024-11-08T00:51:50.828075Z",
     "start_time": "2024-11-08T00:51:50.812407Z"
    }
   },
   "cell_type": "code",
   "source": [
    "# Feature Scaling\n",
    "from sklearn.preprocessing import StandardScaler\n",
    "\n",
    "sc = StandardScaler()\n",
    "X_train = sc.fit_transform(X_train)\n",
    "X_test = sc.transform(X_test)"
   ],
   "id": "6c094de3875bd997",
   "outputs": [],
   "execution_count": 177
  },
  {
   "metadata": {
    "ExecuteTime": {
     "end_time": "2024-11-08T00:51:50.884288Z",
     "start_time": "2024-11-08T00:51:50.868660Z"
    }
   },
   "cell_type": "code",
   "source": [
    "# Training the Naive Bayes Classification model on the Training Set\n",
    "from sklearn.naive_bayes import GaussianNB\n",
    "\n",
    "classifier = GaussianNB()\n",
    "classifier.fit(X_train, y_train)"
   ],
   "id": "3b2d2387eb676135",
   "outputs": [
    {
     "data": {
      "text/plain": [
       "GaussianNB()"
      ]
     },
     "execution_count": 178,
     "metadata": {},
     "output_type": "execute_result"
    }
   ],
   "execution_count": 178
  },
  {
   "metadata": {
    "ExecuteTime": {
     "end_time": "2024-11-08T00:51:50.963823Z",
     "start_time": "2024-11-08T00:51:50.948179Z"
    }
   },
   "cell_type": "code",
   "source": [
    "# Predicting the Test set results\n",
    "y_pred = classifier.predict(X_test)"
   ],
   "id": "9e584f47b73dfd74",
   "outputs": [],
   "execution_count": 179
  },
  {
   "metadata": {
    "ExecuteTime": {
     "end_time": "2024-11-08T00:51:51.101450Z",
     "start_time": "2024-11-08T00:51:51.085837Z"
    }
   },
   "cell_type": "code",
   "source": [
    "# Confusion Matrix and Accuracy\n",
    "from sklearn.metrics import confusion_matrix\n",
    "\n",
    "cm = confusion_matrix(y_test, y_pred)\n",
    "from sklearn.metrics import accuracy_score\n",
    "\n",
    "print(\"Accuracy : \", accuracy_score(y_test, y_pred))"
   ],
   "id": "b8a80ed63bbf5d85",
   "outputs": [
    {
     "name": "stdout",
     "output_type": "stream",
     "text": [
      "Accuracy :  1.0\n"
     ]
    }
   ],
   "execution_count": 180
  },
  {
   "metadata": {
    "ExecuteTime": {
     "end_time": "2024-11-08T00:51:51.588019Z",
     "start_time": "2024-11-08T00:51:51.180054Z"
    }
   },
   "cell_type": "code",
   "source": [
    "# Comparing the Real Values with Predicted Values\n",
    "# a Pandas DataFrame is created to compare the classified values of both \n",
    "# the original Test set (y_test) and the predicted results (y_pred)\n",
    "\n",
    "df = pd.DataFrame({'Real Values': y_test, 'Predicted Values': y_pred})\n",
    "\n",
    "# import the metrics class\n",
    "from sklearn import metrics\n",
    "\n",
    "cnf_matrix1 = metrics.confusion_matrix(y_test, y_pred)\n",
    "\n",
    "# Visualizing Confusion Matrix using Heatmap\n",
    "# Define the 3 classes \n",
    "class_names = [0, 1, 2]\n",
    "\n",
    "fig, ax = plt.subplots()\n",
    "tick_marks = np.arange(len(class_names))\n",
    "plt.xticks(tick_marks, class_names)\n",
    "plt.yticks(tick_marks, class_names)\n",
    "\n",
    "# create heatmap \n",
    "sns.heatmap(pd.DataFrame(cnf_matrix1), annot=True, cmap=\"YlGnBu\", fmt='g')\n",
    "ax.xaxis.set_label_position(\"top\")\n",
    "\n",
    "plt.tight_layout()\n",
    "plt.title('Confusion matrix Naive Bayes Classification')\n",
    "plt.ylabel('Actual label')\n",
    "plt.xlabel('Predicted label')"
   ],
   "id": "34b4b3e8d7ce18db",
   "outputs": [
    {
     "data": {
      "text/plain": [
       "Text(0.5, 427.9555555555555, 'Predicted label')"
      ]
     },
     "execution_count": 181,
     "metadata": {},
     "output_type": "execute_result"
    },
    {
     "data": {
      "text/plain": [
       "<Figure size 640x480 with 2 Axes>"
      ],
      "image/png": "[encoded data removed]"
     },
     "metadata": {},
     "output_type": "display_data"
    }
   ],
   "execution_count": 181
  },
  {
   "metadata": {},
   "cell_type": "markdown",
   "source": [
    "### Bernoulli Naive Bayes\n",
    "Bernoulli Naive Bayes is one of the variants of the Naive Bayes algorithm in machine learning. It is very useful to be used when the dataset is in a binary distribution where the output label is present or absent. The main advantage of this algorithm is that it only accepts features in the form of binary values such as:\n",
    "- True or False\n",
    "- Spam or Ham\n",
    "- Yes or No\n",
    "- 0 or 1\n",
    "\n",
    "Here are some other advantages of using this algorithm for binary classification:\n",
    "- It is very fast compared to other classification algorithms.\n",
    "- Sometimes machine learning algorithms do not work well if the dataset is small, but this is not the case with this algorithm because it gives more accurate results compared to other classification algorithms in the case of a small dataset.\n",
    "- It’s fast and can also handle irrelevant features easily."
   ],
   "id": "f217c762e6bc8f42"
  },
  {
   "metadata": {
    "ExecuteTime": {
     "end_time": "2024-11-08T00:51:51.682205Z",
     "start_time": "2024-11-08T00:51:51.650883Z"
    }
   },
   "cell_type": "code",
   "source": [
    "# importing the dataset\n",
    "dataset = pd.read_csv('NaiveBayes.csv')\n",
    "dataset.head(10)\n"
   ],
   "id": "2841a7ed9cc98629",
   "outputs": [
    {
     "data": {
      "text/plain": [
       "   Age  Salary  Purchased\n",
       "0   19   19000          0\n",
       "1   35   20000          0\n",
       "2   26   43000          0\n",
       "3   27   57000          0\n",
       "4   19   76000          0\n",
       "5   27   58000          0\n",
       "6   27   84000          0\n",
       "7   32  150000          1\n",
       "8   25   33000          0\n",
       "9   35   65000          0"
      ],
      "text/html": [
       "<div>\n",
       "<style scoped>\n",
       "    .dataframe tbody tr th:only-of-type {\n",
       "        vertical-align: middle;\n",
       "    }\n",
       "\n",
       "    .dataframe tbody tr th {\n",
       "        vertical-align: top;\n",
       "    }\n",
       "\n",
       "    .dataframe thead th {\n",
       "        text-align: right;\n",
       "    }\n",
       "</style>\n",
       "<table border=\"1\" class=\"dataframe\">\n",
       "  <thead>\n",
       "    <tr style=\"text-align: right;\">\n",
       "      <th></th>\n",
       "      <th>Age</th>\n",
       "      <th>Salary</th>\n",
       "      <th>Purchased</th>\n",
       "    </tr>\n",
       "  </thead>\n",
       "  <tbody>\n",
       "    <tr>\n",
       "      <th>0</th>\n",
       "      <td>19</td>\n",
       "      <td>19000</td>\n",
       "      <td>0</td>\n",
       "    </tr>\n",
       "    <tr>\n",
       "      <th>1</th>\n",
       "      <td>35</td>\n",
       "      <td>20000</td>\n",
       "      <td>0</td>\n",
       "    </tr>\n",
       "    <tr>\n",
       "      <th>2</th>\n",
       "      <td>26</td>\n",
       "      <td>43000</td>\n",
       "      <td>0</td>\n",
       "    </tr>\n",
       "    <tr>\n",
       "      <th>3</th>\n",
       "      <td>27</td>\n",
       "      <td>57000</td>\n",
       "      <td>0</td>\n",
       "    </tr>\n",
       "    <tr>\n",
       "      <th>4</th>\n",
       "      <td>19</td>\n",
       "      <td>76000</td>\n",
       "      <td>0</td>\n",
       "    </tr>\n",
       "    <tr>\n",
       "      <th>5</th>\n",
       "      <td>27</td>\n",
       "      <td>58000</td>\n",
       "      <td>0</td>\n",
       "    </tr>\n",
       "    <tr>\n",
       "      <th>6</th>\n",
       "      <td>27</td>\n",
       "      <td>84000</td>\n",
       "      <td>0</td>\n",
       "    </tr>\n",
       "    <tr>\n",
       "      <th>7</th>\n",
       "      <td>32</td>\n",
       "      <td>150000</td>\n",
       "      <td>1</td>\n",
       "    </tr>\n",
       "    <tr>\n",
       "      <th>8</th>\n",
       "      <td>25</td>\n",
       "      <td>33000</td>\n",
       "      <td>0</td>\n",
       "    </tr>\n",
       "    <tr>\n",
       "      <th>9</th>\n",
       "      <td>35</td>\n",
       "      <td>65000</td>\n",
       "      <td>0</td>\n",
       "    </tr>\n",
       "  </tbody>\n",
       "</table>\n",
       "</div>"
      ]
     },
     "execution_count": 182,
     "metadata": {},
     "output_type": "execute_result"
    }
   ],
   "execution_count": 182
  },
  {
   "metadata": {
    "ExecuteTime": {
     "end_time": "2024-11-08T00:51:51.838884Z",
     "start_time": "2024-11-08T00:51:51.823418Z"
    }
   },
   "cell_type": "code",
   "source": [
    "# split the data into inputs and outputs\n",
    "X = dataset.iloc[:, [0, 1]].values\n",
    "y = dataset.iloc[:, 2].values"
   ],
   "id": "8f029aeb0a3c92b2",
   "outputs": [],
   "execution_count": 183
  },
  {
   "metadata": {
    "ExecuteTime": {
     "end_time": "2024-11-08T00:51:51.980495Z",
     "start_time": "2024-11-08T00:51:51.949201Z"
    }
   },
   "cell_type": "code",
   "source": [
    "# training and testing data\n",
    "from sklearn.model_selection import train_test_split\n",
    "\n",
    "# assign test data size 25%\n",
    "X_train, X_test, y_train, y_test = train_test_split(X, y, test_size=0.25, random_state=42)\n"
   ],
   "id": "ecdc6062ef9b852c",
   "outputs": [],
   "execution_count": 184
  },
  {
   "metadata": {
    "ExecuteTime": {
     "end_time": "2024-11-08T00:51:52.121600Z",
     "start_time": "2024-11-08T00:51:52.090334Z"
    }
   },
   "cell_type": "code",
   "source": [
    "# importing standard scaler\n",
    "from sklearn.preprocessing import StandardScaler\n",
    "\n",
    "# scalling the input data\n",
    "sc_X = StandardScaler()\n",
    "X_train = sc_X.fit_transform(X_train)\n",
    "X_test = sc_X.fit_transform(X_test)\n"
   ],
   "id": "731acfb78ecdd364",
   "outputs": [],
   "execution_count": 185
  },
  {
   "metadata": {
    "ExecuteTime": {
     "end_time": "2024-11-08T00:51:52.215817Z",
     "start_time": "2024-11-08T00:51:52.184565Z"
    }
   },
   "cell_type": "code",
   "source": [
    "# importing classifier\n",
    "from sklearn.naive_bayes import BernoulliNB\n",
    "\n",
    "classifer = BernoulliNB()\n",
    "classifer.fit(X_train, y_train)"
   ],
   "id": "60e9457b8ccb7946",
   "outputs": [
    {
     "data": {
      "text/plain": [
       "BernoulliNB()"
      ]
     },
     "execution_count": 186,
     "metadata": {},
     "output_type": "execute_result"
    }
   ],
   "execution_count": 186
  },
  {
   "metadata": {
    "ExecuteTime": {
     "end_time": "2024-11-08T00:51:52.310014Z",
     "start_time": "2024-11-08T00:51:52.278762Z"
    }
   },
   "cell_type": "code",
   "source": [
    "# testing the model\n",
    "y_pred = classifer.predict(X_test)\n"
   ],
   "id": "709ff418546dff58",
   "outputs": [],
   "execution_count": 187
  },
  {
   "metadata": {
    "ExecuteTime": {
     "end_time": "2024-11-08T00:51:52.449743Z",
     "start_time": "2024-11-08T00:51:52.433754Z"
    }
   },
   "cell_type": "code",
   "source": [
    "# importing accuracy score\n",
    "from sklearn.metrics import accuracy_score\n",
    "\n",
    "# printing the accuracy of the model\n",
    "print('Accuracy = ', accuracy_score(y_pred, y_test))\n"
   ],
   "id": "23b46b7dc7516d64",
   "outputs": [
    {
     "name": "stdout",
     "output_type": "stream",
     "text": [
      "Accuracy =  0.77\n"
     ]
    }
   ],
   "execution_count": 188
  },
  {
   "metadata": {
    "ExecuteTime": {
     "end_time": "2024-11-08T00:51:52.527136Z",
     "start_time": "2024-11-08T00:51:52.501685Z"
    }
   },
   "cell_type": "code",
   "source": [
    "# import the metrics class\n",
    "from sklearn import metrics\n",
    "\n",
    "cnf_matrix1 = metrics.confusion_matrix(y_test, y_pred)\n",
    "cnf_matrix1"
   ],
   "id": "e601285f6fdc5606",
   "outputs": [
    {
     "data": {
      "text/plain": [
       "array([[58,  5],\n",
       "       [18, 19]], dtype=int64)"
      ]
     },
     "execution_count": 189,
     "metadata": {},
     "output_type": "execute_result"
    }
   ],
   "execution_count": 189
  },
  {
   "metadata": {
    "ExecuteTime": {
     "end_time": "2024-11-08T00:51:53.109194Z",
     "start_time": "2024-11-08T00:51:52.687452Z"
    }
   },
   "cell_type": "code",
   "source": [
    "# Visualizing Confusion Matrix using Heatmap\n",
    "# Define the 3 classes \n",
    "class_names = [0, 1]\n",
    "\n",
    "fig, ax = plt.subplots()\n",
    "tick_marks = np.arange(len(class_names))\n",
    "plt.xticks(tick_marks, class_names)\n",
    "plt.yticks(tick_marks, class_names)\n",
    "\n",
    "# create heatmap \n",
    "sns.heatmap(pd.DataFrame(cnf_matrix1), annot=True, cmap=\"YlGnBu\", fmt='g')\n",
    "ax.xaxis.set_label_position(\"top\")\n",
    "\n",
    "plt.tight_layout()\n",
    "plt.title('Confusion matrix Naive Bayes Classification')\n",
    "plt.ylabel('Actual label')\n",
    "plt.xlabel('Predicted label')\n"
   ],
   "id": "c7f4f91f8e66d915",
   "outputs": [
    {
     "data": {
      "text/plain": [
       "Text(0.5, 427.9555555555555, 'Predicted label')"
      ]
     },
     "execution_count": 190,
     "metadata": {},
     "output_type": "execute_result"
    },
    {
     "data": {
      "text/plain": [
       "<Figure size 640x480 with 2 Axes>"
      ],
      "image/png": "[encoded data removed]"
     },
     "metadata": {},
     "output_type": "display_data"
    }
   ],
   "execution_count": 190
  },
  {
   "metadata": {
    "ExecuteTime": {
     "end_time": "2024-11-08T00:51:53.234610Z",
     "start_time": "2024-11-08T00:51:53.203365Z"
    }
   },
   "cell_type": "code",
   "source": [
    "# importing classification report\n",
    "from sklearn.metrics import classification_report\n",
    "\n",
    "# printing the report\n",
    "print(classification_report(y_test, y_pred))"
   ],
   "id": "39ca0d367d5c16eb",
   "outputs": [
    {
     "name": "stdout",
     "output_type": "stream",
     "text": [
      "              precision    recall  f1-score   support\n",
      "\n",
      "           0       0.76      0.92      0.83        63\n",
      "           1       0.79      0.51      0.62        37\n",
      "\n",
      "    accuracy                           0.77       100\n",
      "   macro avg       0.78      0.72      0.73       100\n",
      "weighted avg       0.77      0.77      0.76       100\n",
      "\n"
     ]
    }
   ],
   "execution_count": 191
  },
  {
   "metadata": {},
   "cell_type": "markdown",
   "source": "### Gaussian Naive Bayes",
   "id": "f5ee0e9006af654c"
  },
  {
   "metadata": {
    "ExecuteTime": {
     "end_time": "2024-11-08T00:51:53.361679Z",
     "start_time": "2024-11-08T00:51:53.348658Z"
    }
   },
   "cell_type": "code",
   "source": [
    "\n",
    "# Sample data set\n",
    "# assigning features and label variables\n",
    "weather = ['Sunny', 'Sunny', 'Overcast', 'Rainy', 'Rainy', 'Rainy', 'Overcast', 'Sunny', 'Sunny', 'Rainy', 'Sunny',\n",
    "           'Overcast', 'Overcast', 'Rainy']\n",
    "\n",
    "# output class\n",
    "play = ['No', 'No', 'Yes', 'Yes', 'Yes', 'No', 'Yes', 'No', 'Yes', 'Yes', 'Yes', 'Yes', 'Yes', 'No']\n"
   ],
   "id": "ea48b29e8fac2b9e",
   "outputs": [],
   "execution_count": 192
  },
  {
   "metadata": {
    "ExecuteTime": {
     "end_time": "2024-11-08T00:51:53.429951Z",
     "start_time": "2024-11-08T00:51:53.410342Z"
    }
   },
   "cell_type": "code",
   "source": [
    "# the input and output both are not numeric values. \n",
    "# Before feeding this data to our model, we have to encode the non-numeric values into numeric ones\n",
    "# Overcast = 0, Rainy = 1, Sunny = 2. This is called label encoding\n",
    "\n",
    "\n",
    "# Encoding\n",
    "# Import LabelEncoder\n",
    "from sklearn import preprocessing\n",
    "\n",
    "# creating LabelEncoder\n",
    "labelCode = preprocessing.LabelEncoder()\n",
    "\n",
    "# Converting string labels into numbers.\n",
    "weather_encoded = labelCode.fit_transform(weather)\n",
    "\n",
    "# The LabelEncoder will convert the string values to numeric values. \n",
    "# For example, if we print the encoded weather, it will no longer contain numeric values.\n",
    "# Printing the encoded values\n",
    "\n",
    "print(weather_encoded)\n"
   ],
   "id": "7f6b38716a8e3e47",
   "outputs": [
    {
     "name": "stdout",
     "output_type": "stream",
     "text": [
      "[2 2 0 1 1 1 0 2 2 1 2 0 0 1]\n"
     ]
    }
   ],
   "execution_count": 193
  },
  {
   "metadata": {
    "ExecuteTime": {
     "end_time": "2024-11-08T00:51:53.505017Z",
     "start_time": "2024-11-08T00:51:53.473736Z"
    }
   },
   "cell_type": "code",
   "source": [
    "# we can also encode the play class.\n",
    "# import LabelEncoder\n",
    "from sklearn import preprocessing\n",
    "\n",
    "# creating LabelEncoder\n",
    "labelCode = preprocessing.LabelEncoder()\n",
    "\n",
    "# converting string labels into numbers.\n",
    "label = labelCode.fit_transform(play)\n",
    "print(label)\n"
   ],
   "id": "ed2f4f56205b6523",
   "outputs": [
    {
     "name": "stdout",
     "output_type": "stream",
     "text": [
      "[0 0 1 1 1 0 1 0 1 1 1 1 1 0]\n"
     ]
    }
   ],
   "execution_count": 194
  },
  {
   "metadata": {
    "ExecuteTime": {
     "end_time": "2024-11-08T00:51:53.567972Z",
     "start_time": "2024-11-08T00:51:53.552297Z"
    }
   },
   "cell_type": "code",
   "source": [
    "# Generating model. We have already seen that our input values are in a single-dimensional array. \n",
    "# By default, the model training takes values in multi-dimensional arrays\n",
    "\n",
    "\n",
    "# Converting array\n",
    "# importing numpy module\n",
    "# import numpy as np\n",
    "\n",
    "# converting 1D array to 2D\n",
    "weather_2d = np.array(weather_encoded).reshape(-1, 1)\n",
    "print(weather_2d)"
   ],
   "id": "c7499918ff7618c7",
   "outputs": [
    {
     "name": "stdout",
     "output_type": "stream",
     "text": [
      "[[2]\n",
      " [2]\n",
      " [0]\n",
      " [1]\n",
      " [1]\n",
      " [1]\n",
      " [0]\n",
      " [2]\n",
      " [2]\n",
      " [1]\n",
      " [2]\n",
      " [0]\n",
      " [0]\n",
      " [1]]\n"
     ]
    }
   ],
   "execution_count": 195
  },
  {
   "metadata": {
    "ExecuteTime": {
     "end_time": "2024-11-08T00:51:53.865571Z",
     "start_time": "2024-11-08T00:51:53.818725Z"
    }
   },
   "cell_type": "code",
   "source": [
    "# Training the model\n",
    "# import Gaussian Naive Bayes model\n",
    "from sklearn.naive_bayes import GaussianNB\n",
    "\n",
    "# create a Gaussian Classifier\n",
    "model = GaussianNB()\n",
    "\n",
    "# train the model using the training sets\n",
    "model.fit(weather_2d, label)\n"
   ],
   "id": "2b15ebe532f4bbe7",
   "outputs": [
    {
     "data": {
      "text/plain": [
       "GaussianNB()"
      ]
     },
     "execution_count": 196,
     "metadata": {},
     "output_type": "execute_result"
    }
   ],
   "execution_count": 196
  },
  {
   "metadata": {
    "ExecuteTime": {
     "end_time": "2024-11-08T00:51:54.260335Z",
     "start_time": "2024-11-08T00:51:54.228647Z"
    }
   },
   "cell_type": "code",
   "source": [
    "# predicting the Model\n",
    "predicted= model.predict([[0]]) # 0:Overcast\n",
    "\n",
    "# printing predicted value\n",
    "print(predicted)\n"
   ],
   "id": "4f4d41b92a95436b",
   "outputs": [
    {
     "name": "stdout",
     "output_type": "stream",
     "text": [
      "[1]\n"
     ]
    }
   ],
   "execution_count": 197
  }
 ],
 "metadata": {
  "kernelspec": {
   "display_name": "Python 3",
   "language": "python",
   "name": "python3"
  },
  "language_info": {
   "codemirror_mode": {
    "name": "ipython",
    "version": 2
   },
   "file_extension": ".py",
   "mimetype": "text/x-python",
   "name": "python",
   "nbconvert_exporter": "python",
   "pygments_lexer": "ipython2",
   "version": "2.7.6"
  }
 },
 "nbformat": 4,
 "nbformat_minor": 5
}
