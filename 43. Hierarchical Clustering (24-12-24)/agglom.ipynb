{
 "cells": [
  {
   "cell_type": "code",
   "execution_count": 4,
   "metadata": {},
   "outputs": [],
   "source": [
    "from sklearn.cluster import AgglomerativeClustering \n",
    "import numpy as np \n"
   ]
  },
  {
   "cell_type": "code",
   "execution_count": 5,
   "metadata": {},
   "outputs": [],
   "source": [
    "\n",
    "# randomly chosen dataset \n",
    "X = np.array([[1, 2], [1, 4], [1, 0], \n",
    "\t\t\t[4, 2], [4, 4], [4, 0]]) \n",
    "\n",
    "\n"
   ]
  },
  {
   "cell_type": "code",
   "execution_count": 7,
   "metadata": {},
   "outputs": [
    {
     "name": "stdout",
     "output_type": "stream",
     "text": [
      "[0 0 0 1 2 1]\n"
     ]
    }
   ],
   "source": [
    "# here we need to mention the number of clusters \n",
    "# otherwise the result will be a single cluster \n",
    "# containing all the data \n",
    "clustering = AgglomerativeClustering(n_clusters=3).fit(X) \n",
    "\n",
    "# print the class labels \n",
    "print(clustering.labels_) "
   ]
  }
 ],
 "metadata": {
  "kernelspec": {
   "display_name": "Python 3",
   "language": "python",
   "name": "python3"
  },
  "language_info": {
   "codemirror_mode": {
    "name": "ipython",
    "version": 3
   },
   "file_extension": ".py",
   "mimetype": "text/x-python",
   "name": "python",
   "nbconvert_exporter": "python",
   "pygments_lexer": "ipython3",
   "version": "3.11.9"
  }
 },
 "nbformat": 4,
 "nbformat_minor": 2
}
