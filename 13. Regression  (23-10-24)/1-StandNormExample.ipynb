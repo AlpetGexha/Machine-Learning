{
 "cells": [
  {
   "metadata": {},
   "cell_type": "markdown",
   "source": [
    "### StandardScaler\n",
    "Qëllimi: Standardizon veçoritë duke hequr mesataren dhe duke e shkallëzuar variancën në njësi.\n",
    "\n",
    "Si funksionon: Çdo veçori do të ketë një mesatare prej zero dhe një devijim standard prej një pas shkallëzimit. Kjo do të thotë se përqendron shpërndarjen e çdo veçori në 0 dhe e shkallëzon atë me devijimin standard.\n",
    "\n",
    "Kur të përdoret:\n",
    "- Funksionon më së miri me algoritmet që supozojnë të dhëna të shpërndara normalisht, si regresioni linear, regresioni logjistik dhe makinat vektoriale mbështetëse (SVM).\n",
    "- I dobishëm për algoritmet e bazuara në distancë (p.sh., K-Fqinjët më të afërt, Analiza e Komponentit Kryesor) pasi siguron që çdo veçori të kontribuojë në mënyrë të barabartë në llogaritjet e distancës.\n",
    "\n",
    "Përdoreni atë kur veçoritë kanë shkallë të ndryshme dhe ju duhet që ato të jenë në një shkallë të krahasueshme.\n",
    "\n",
    "\n",
    "### Normalizues\n",
    "\n",
    "Qëllimi: Normalizon mostrat individualisht që të kenë normë njësi.\n",
    "\n",
    "Si funksionon: Në vend që të rregullojë shpërndarjen e vlerave për çdo veçori, ai shkallëzon çdo mostër individuale që të ketë një gjatësi prej 1. Kjo do të thotë se çdo rresht (kampion) do të shkallëzohet në një normë njësi, zakonisht duke përdorur normën L2.\n",
    "\n",
    "Kur të përdoret:\n",
    "E dobishme kur doni të trajtoni veçoritë në mënyrë të barabartë pa i shkallëzuar ato bazuar në variancën ose mesataren.\n",
    "- Përdoret shpesh në përpunimin e tekstit (p.sh., vektorët TF-IDF) ose kur punoni me të dhëna të pakta, ku shkalla e veçorive nëpër mostra të ndryshme ndryshon ndjeshëm, por duhet të jetë e krahasueshme.\n",
    "- I përshtatshëm për grupimin e algoritmeve (si K-means) ku dëshironi të siguroheni që secila pikë e të dhënave të ketë peshë të barabartë.\n",
    "\n",
    "\n",
    "\n",
    "Use StandardScaler when features need to be standardized for machine learning algorithms that assume normal distribution.\n",
    "Use Normalizer when each sample’s feature vector should be normalized individually, especially in clustering or when dealing with sparse or text data."
   ]
  },
  {
   "cell_type": "code",
   "execution_count": 1,
   "metadata": {},
   "outputs": [
    {
     "data": {
      "text/plain": [
       "array([[ 2,  3,  7, 30],\n",
       "       [ 9,  4,  6,  1],\n",
       "       [ 8, 15,  2, 40],\n",
       "       [20, 10,  2,  6]])"
      ]
     },
     "execution_count": 1,
     "metadata": {},
     "output_type": "execute_result"
    }
   ],
   "source": [
    "import numpy as np\n",
    "df = np.array([[2,3,7, 30],\n",
    "             [9,4,6,1],\n",
    "             [8,15,2,40],\n",
    "             [20,10,2,6]])\n",
    "df"
   ]
  },
  {
   "cell_type": "code",
   "execution_count": 2,
   "metadata": {},
   "outputs": [
    {
     "data": {
      "text/plain": [
       "{'whiskers': [<matplotlib.lines.Line2D at 0x214fd4c98d0>,\n",
       "  <matplotlib.lines.Line2D at 0x214fd4ca590>,\n",
       "  <matplotlib.lines.Line2D at 0x214fd4da890>,\n",
       "  <matplotlib.lines.Line2D at 0x214fd4db410>,\n",
       "  <matplotlib.lines.Line2D at 0x214fd4e7910>,\n",
       "  <matplotlib.lines.Line2D at 0x214fd4f0550>,\n",
       "  <matplotlib.lines.Line2D at 0x214fd4fc990>,\n",
       "  <matplotlib.lines.Line2D at 0x214fd4fd550>],\n",
       " 'caps': [<matplotlib.lines.Line2D at 0x214fd4cb290>,\n",
       "  <matplotlib.lines.Line2D at 0x214fd4cbd10>,\n",
       "  <matplotlib.lines.Line2D at 0x214fd4dbfd0>,\n",
       "  <matplotlib.lines.Line2D at 0x214fd4e4b50>,\n",
       "  <matplotlib.lines.Line2D at 0x214fd4f10d0>,\n",
       "  <matplotlib.lines.Line2D at 0x214fd4f1c50>,\n",
       "  <matplotlib.lines.Line2D at 0x214fd4fe090>,\n",
       "  <matplotlib.lines.Line2D at 0x214fd4fec90>],\n",
       " 'boxes': [<matplotlib.lines.Line2D at 0x214fd4c8a10>,\n",
       "  <matplotlib.lines.Line2D at 0x214fd4d9dd0>,\n",
       "  <matplotlib.lines.Line2D at 0x214fd4e6d90>,\n",
       "  <matplotlib.lines.Line2D at 0x214fd4f3e50>],\n",
       " 'medians': [<matplotlib.lines.Line2D at 0x214fd4d87d0>,\n",
       "  <matplotlib.lines.Line2D at 0x214fd4e5690>,\n",
       "  <matplotlib.lines.Line2D at 0x214fd4f2750>,\n",
       "  <matplotlib.lines.Line2D at 0x214fd4ff7d0>],\n",
       " 'fliers': [<matplotlib.lines.Line2D at 0x214fd4d9210>,\n",
       "  <matplotlib.lines.Line2D at 0x214fd4e6250>,\n",
       "  <matplotlib.lines.Line2D at 0x214fd4f32d0>,\n",
       "  <matplotlib.lines.Line2D at 0x214fd510410>],\n",
       " 'means': []}"
      ]
     },
     "execution_count": 2,
     "metadata": {},
     "output_type": "execute_result"
    },
    {
     "data": {
      "image/png": "[encoded data removed]",
      "text/plain": [
       "<Figure size 640x480 with 1 Axes>"
      ]
     },
     "metadata": {},
     "output_type": "display_data"
    }
   ],
   "source": [
    "import matplotlib.pyplot as plt\n",
    "plt.boxplot(df)"
   ]
  },
  {
   "cell_type": "code",
   "execution_count": 3,
   "metadata": {},
   "outputs": [
    {
     "data": {
      "text/html": [
       "<style>#sk-container-id-1 {color: black;}#sk-container-id-1 pre{padding: 0;}#sk-container-id-1 div.sk-toggleable {background-color: white;}#sk-container-id-1 label.sk-toggleable__label {cursor: pointer;display: block;width: 100%;margin-bottom: 0;padding: 0.3em;box-sizing: border-box;text-align: center;}#sk-container-id-1 label.sk-toggleable__label-arrow:before {content: \"▸\";float: left;margin-right: 0.25em;color: #696969;}#sk-container-id-1 label.sk-toggleable__label-arrow:hover:before {color: black;}#sk-container-id-1 div.sk-estimator:hover label.sk-toggleable__label-arrow:before {color: black;}#sk-container-id-1 div.sk-toggleable__content {max-height: 0;max-width: 0;overflow: hidden;text-align: left;background-color: #f0f8ff;}#sk-container-id-1 div.sk-toggleable__content pre {margin: 0.2em;color: black;border-radius: 0.25em;background-color: #f0f8ff;}#sk-container-id-1 input.sk-toggleable__control:checked~div.sk-toggleable__content {max-height: 200px;max-width: 100%;overflow: auto;}#sk-container-id-1 input.sk-toggleable__control:checked~label.sk-toggleable__label-arrow:before {content: \"▾\";}#sk-container-id-1 div.sk-estimator input.sk-toggleable__control:checked~label.sk-toggleable__label {background-color: #d4ebff;}#sk-container-id-1 div.sk-label input.sk-toggleable__control:checked~label.sk-toggleable__label {background-color: #d4ebff;}#sk-container-id-1 input.sk-hidden--visually {border: 0;clip: rect(1px 1px 1px 1px);clip: rect(1px, 1px, 1px, 1px);height: 1px;margin: -1px;overflow: hidden;padding: 0;position: absolute;width: 1px;}#sk-container-id-1 div.sk-estimator {font-family: monospace;background-color: #f0f8ff;border: 1px dotted black;border-radius: 0.25em;box-sizing: border-box;margin-bottom: 0.5em;}#sk-container-id-1 div.sk-estimator:hover {background-color: #d4ebff;}#sk-container-id-1 div.sk-parallel-item::after {content: \"\";width: 100%;border-bottom: 1px solid gray;flex-grow: 1;}#sk-container-id-1 div.sk-label:hover label.sk-toggleable__label {background-color: #d4ebff;}#sk-container-id-1 div.sk-serial::before {content: \"\";position: absolute;border-left: 1px solid gray;box-sizing: border-box;top: 0;bottom: 0;left: 50%;z-index: 0;}#sk-container-id-1 div.sk-serial {display: flex;flex-direction: column;align-items: center;background-color: white;padding-right: 0.2em;padding-left: 0.2em;position: relative;}#sk-container-id-1 div.sk-item {position: relative;z-index: 1;}#sk-container-id-1 div.sk-parallel {display: flex;align-items: stretch;justify-content: center;background-color: white;position: relative;}#sk-container-id-1 div.sk-item::before, #sk-container-id-1 div.sk-parallel-item::before {content: \"\";position: absolute;border-left: 1px solid gray;box-sizing: border-box;top: 0;bottom: 0;left: 50%;z-index: -1;}#sk-container-id-1 div.sk-parallel-item {display: flex;flex-direction: column;z-index: 1;position: relative;background-color: white;}#sk-container-id-1 div.sk-parallel-item:first-child::after {align-self: flex-end;width: 50%;}#sk-container-id-1 div.sk-parallel-item:last-child::after {align-self: flex-start;width: 50%;}#sk-container-id-1 div.sk-parallel-item:only-child::after {width: 0;}#sk-container-id-1 div.sk-dashed-wrapped {border: 1px dashed gray;margin: 0 0.4em 0.5em 0.4em;box-sizing: border-box;padding-bottom: 0.4em;background-color: white;}#sk-container-id-1 div.sk-label label {font-family: monospace;font-weight: bold;display: inline-block;line-height: 1.2em;}#sk-container-id-1 div.sk-label-container {text-align: center;}#sk-container-id-1 div.sk-container {/* jupyter's `normalize.less` sets `[hidden] { display: none; }` but bootstrap.min.css set `[hidden] { display: none !important; }` so we also need the `!important` here to be able to override the default hidden behavior on the sphinx rendered scikit-learn.org. See: https://github.com/scikit-learn/scikit-learn/issues/21755 */display: inline-block !important;position: relative;}#sk-container-id-1 div.sk-text-repr-fallback {display: none;}</style><div id=\"sk-container-id-1\" class=\"sk-top-container\"><div class=\"sk-text-repr-fallback\"><pre>MinMaxScaler()</pre><b>In a Jupyter environment, please rerun this cell to show the HTML representation or trust the notebook. <br />On GitHub, the HTML representation is unable to render, please try loading this page with nbviewer.org.</b></div><div class=\"sk-container\" hidden><div class=\"sk-item\"><div class=\"sk-estimator sk-toggleable\"><input class=\"sk-toggleable__control sk-hidden--visually\" id=\"sk-estimator-id-1\" type=\"checkbox\" checked><label for=\"sk-estimator-id-1\" class=\"sk-toggleable__label sk-toggleable__label-arrow\">MinMaxScaler</label><div class=\"sk-toggleable__content\"><pre>MinMaxScaler()</pre></div></div></div></div></div>"
      ],
      "text/plain": [
       "MinMaxScaler()"
      ]
     },
     "execution_count": 3,
     "metadata": {},
     "output_type": "execute_result"
    }
   ],
   "source": [
    "# normalization\n",
    "\n",
    "from sklearn.preprocessing import MinMaxScaler\n",
    "scaler_norm = MinMaxScaler()\n",
    "scaler_norm.fit(df)"
   ]
  },
  {
   "cell_type": "code",
   "execution_count": 4,
   "metadata": {},
   "outputs": [
    {
     "data": {
      "text/plain": [
       "array([[0.        , 0.        , 1.        , 0.74358974],\n",
       "       [0.38888889, 0.08333333, 0.8       , 0.        ],\n",
       "       [0.33333333, 1.        , 0.        , 1.        ],\n",
       "       [1.        , 0.58333333, 0.        , 0.12820513]])"
      ]
     },
     "execution_count": 4,
     "metadata": {},
     "output_type": "execute_result"
    }
   ],
   "source": [
    "scaled_features_norm = scaler_norm.transform(df)\n",
    "scaled_features_norm"
   ]
  },
  {
   "cell_type": "code",
   "execution_count": 5,
   "metadata": {},
   "outputs": [
    {
     "data": {
      "text/plain": [
       "{'whiskers': [<matplotlib.lines.Line2D at 0x215012821d0>,\n",
       "  <matplotlib.lines.Line2D at 0x215012c14d0>,\n",
       "  <matplotlib.lines.Line2D at 0x215012c8c90>,\n",
       "  <matplotlib.lines.Line2D at 0x215012c9810>,\n",
       "  <matplotlib.lines.Line2D at 0x215012d9c10>,\n",
       "  <matplotlib.lines.Line2D at 0x215012da750>,\n",
       "  <matplotlib.lines.Line2D at 0x215012e68d0>,\n",
       "  <matplotlib.lines.Line2D at 0x215012e7410>],\n",
       " 'caps': [<matplotlib.lines.Line2D at 0x215012c1fd0>,\n",
       "  <matplotlib.lines.Line2D at 0x215012c2890>,\n",
       "  <matplotlib.lines.Line2D at 0x215012ca390>,\n",
       "  <matplotlib.lines.Line2D at 0x215012caf90>,\n",
       "  <matplotlib.lines.Line2D at 0x215012db290>,\n",
       "  <matplotlib.lines.Line2D at 0x215012dbe10>,\n",
       "  <matplotlib.lines.Line2D at 0x215012e7f50>,\n",
       "  <matplotlib.lines.Line2D at 0x215012f0a10>],\n",
       " 'boxes': [<matplotlib.lines.Line2D at 0x215011632d0>,\n",
       "  <matplotlib.lines.Line2D at 0x215012c83d0>,\n",
       "  <matplotlib.lines.Line2D at 0x215012d9090>,\n",
       "  <matplotlib.lines.Line2D at 0x215012e5e90>],\n",
       " 'medians': [<matplotlib.lines.Line2D at 0x215012c3150>,\n",
       "  <matplotlib.lines.Line2D at 0x215012cba10>,\n",
       "  <matplotlib.lines.Line2D at 0x215012e4910>,\n",
       "  <matplotlib.lines.Line2D at 0x215012f14d0>],\n",
       " 'fliers': [<matplotlib.lines.Line2D at 0x215012c3990>,\n",
       "  <matplotlib.lines.Line2D at 0x215012d8590>,\n",
       "  <matplotlib.lines.Line2D at 0x215012e5450>,\n",
       "  <matplotlib.lines.Line2D at 0x215012f1fd0>],\n",
       " 'means': []}"
      ]
     },
     "execution_count": 5,
     "metadata": {},
     "output_type": "execute_result"
    },
    {
     "data": {
      "image/png": "[encoded data removed]",
      "text/plain": [
       "<Figure size 640x480 with 1 Axes>"
      ]
     },
     "metadata": {},
     "output_type": "display_data"
    }
   ],
   "source": [
    "plt.boxplot(scaled_features_norm)"
   ]
  },
  {
   "cell_type": "code",
   "execution_count": 7,
   "metadata": {},
   "outputs": [
    {
     "data": {
      "text/plain": [
       "array([[-1.19319056, -1.03142125,  1.20740686,  0.66200869],\n",
       "       [-0.11547005, -0.825137  ,  0.76834982, -1.12387522],\n",
       "       [-0.26943013,  1.44398974, -0.98787834,  1.27783073],\n",
       "       [ 1.57809074,  0.4125685 , -0.98787834, -0.8159642 ]])"
      ]
     },
     "execution_count": 7,
     "metadata": {},
     "output_type": "execute_result"
    }
   ],
   "source": [
    "# standartizimi ose Z-score\n",
    "\n",
    "from sklearn.preprocessing import StandardScaler\n",
    "\n",
    "stand_scaler = StandardScaler()\n",
    "stand_scaler = stand_scaler.fit_transform(df)\n",
    "stand_scaler"
   ]
  },
  {
   "cell_type": "code",
   "execution_count": 8,
   "metadata": {},
   "outputs": [
    {
     "data": {
      "text/plain": [
       "{'whiskers': [<matplotlib.lines.Line2D at 0x2150180e350>,\n",
       "  <matplotlib.lines.Line2D at 0x2150180ec90>,\n",
       "  <matplotlib.lines.Line2D at 0x21501825f10>,\n",
       "  <matplotlib.lines.Line2D at 0x21501826810>,\n",
       "  <matplotlib.lines.Line2D at 0x215018368d0>,\n",
       "  <matplotlib.lines.Line2D at 0x21501837350>,\n",
       "  <matplotlib.lines.Line2D at 0x2150183b490>,\n",
       "  <matplotlib.lines.Line2D at 0x2150183bfd0>],\n",
       " 'caps': [<matplotlib.lines.Line2D at 0x2150180f390>,\n",
       "  <matplotlib.lines.Line2D at 0x2150180fcd0>,\n",
       "  <matplotlib.lines.Line2D at 0x21501827350>,\n",
       "  <matplotlib.lines.Line2D at 0x21501827e50>,\n",
       "  <matplotlib.lines.Line2D at 0x21501837dd0>,\n",
       "  <matplotlib.lines.Line2D at 0x21501838850>,\n",
       "  <matplotlib.lines.Line2D at 0x21501844ad0>,\n",
       "  <matplotlib.lines.Line2D at 0x21501845590>],\n",
       " 'boxes': [<matplotlib.lines.Line2D at 0x2150180dad0>,\n",
       "  <matplotlib.lines.Line2D at 0x215018255d0>,\n",
       "  <matplotlib.lines.Line2D at 0x21501835e10>,\n",
       "  <matplotlib.lines.Line2D at 0x2150183a910>],\n",
       " 'medians': [<matplotlib.lines.Line2D at 0x21501824510>,\n",
       "  <matplotlib.lines.Line2D at 0x215018348d0>,\n",
       "  <matplotlib.lines.Line2D at 0x21501839290>,\n",
       "  <matplotlib.lines.Line2D at 0x21501846010>],\n",
       " 'fliers': [<matplotlib.lines.Line2D at 0x21501824d10>,\n",
       "  <matplotlib.lines.Line2D at 0x21501835350>,\n",
       "  <matplotlib.lines.Line2D at 0x21501839d50>,\n",
       "  <matplotlib.lines.Line2D at 0x21501846a10>],\n",
       " 'means': []}"
      ]
     },
     "execution_count": 8,
     "metadata": {},
     "output_type": "execute_result"
    },
    {
     "data": {
      "image/png": "[encoded data removed]",
      "text/plain": [
       "<Figure size 640x480 with 1 Axes>"
      ]
     },
     "metadata": {},
     "output_type": "display_data"
    }
   ],
   "source": [
    "plt.boxplot(stand_scaler)"
   ]
  }
 ],
 "metadata": {
  "kernelspec": {
   "display_name": "Python 3",
   "language": "python",
   "name": "python3"
  },
  "language_info": {
   "codemirror_mode": {
    "name": "ipython",
    "version": 3
   },
   "file_extension": ".py",
   "mimetype": "text/x-python",
   "name": "python",
   "nbconvert_exporter": "python",
   "pygments_lexer": "ipython3",
   "version": "3.11.9"
  }
 },
 "nbformat": 4,
 "nbformat_minor": 2
}
