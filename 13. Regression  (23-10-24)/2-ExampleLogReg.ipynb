{
 "cells": [
  {
   "cell_type": "code",
   "metadata": {
    "ExecuteTime": {
     "end_time": "2024-11-04T16:43:56.523472Z",
     "start_time": "2024-11-04T16:43:56.226531Z"
    }
   },
   "source": [
    "import numpy as np\n",
    "from sklearn import linear_model\n",
    "from sklearn.linear_model import LogisticRegression\n",
    "\n",
    "# eshte matur madhesia e tumorit ne cm -Variabli X\n",
    "# eshte ky tumor malinj apo jo 1-Yes, 0-No, variabli Y\n",
    "x = np.array([3.69, 2.40, 1.09, 0.11, 1.72, 2.65, 4.92, 3.87, 5.00, 4.55, 2.78, 6.01])\n",
    "y = np.array([0, 0, 0, 0, 0, 0, 1, 1, 1, 1, 1, 1])"
   ],
   "outputs": [],
   "execution_count": 1
  },
  {
   "cell_type": "code",
   "metadata": {
    "ExecuteTime": {
     "end_time": "2024-11-04T16:43:56.554702Z",
     "start_time": "2024-11-04T16:43:56.523472Z"
    }
   },
   "source": [
    "X = x.reshape(-1,1)"
   ],
   "outputs": [],
   "execution_count": 2
  },
  {
   "cell_type": "code",
   "metadata": {
    "ExecuteTime": {
     "end_time": "2024-11-04T16:43:56.733774Z",
     "start_time": "2024-11-04T16:43:56.718332Z"
    }
   },
   "source": [
    "log_regrs = linear_model.LogisticRegression()"
   ],
   "outputs": [],
   "execution_count": 3
  },
  {
   "cell_type": "code",
   "metadata": {
    "ExecuteTime": {
     "end_time": "2024-11-04T16:43:56.790960Z",
     "start_time": "2024-11-04T16:43:56.759321Z"
    }
   },
   "source": [
    "log_regrs.fit(X, y)"
   ],
   "outputs": [
    {
     "data": {
      "text/plain": [
       "LogisticRegression()"
      ]
     },
     "execution_count": 4,
     "metadata": {},
     "output_type": "execute_result"
    }
   ],
   "execution_count": 4
  },
  {
   "cell_type": "code",
   "metadata": {
    "ExecuteTime": {
     "end_time": "2024-11-04T16:43:57.151970Z",
     "start_time": "2024-11-04T16:43:56.815047Z"
    }
   },
   "source": [
    "y_predc = log_regrs.predict(X)\n",
    "import matplotlib.pyplot as plt\n",
    "plt.scatter(X, y)\n",
    "plt.scatter(X, y_predc, color = 'red')\n"
   ],
   "outputs": [
    {
     "data": {
      "text/plain": [
       "<matplotlib.collections.PathCollection at 0x1f559218e48>"
      ]
     },
     "execution_count": 5,
     "metadata": {},
     "output_type": "execute_result"
    },
    {
     "data": {
      "text/plain": [
       "<Figure size 640x480 with 1 Axes>"
      ],
      "image/png": "[encoded data removed]"
     },
     "metadata": {},
     "output_type": "display_data"
    }
   ],
   "execution_count": 5
  },
  {
   "cell_type": "code",
   "metadata": {
    "ExecuteTime": {
     "end_time": "2024-11-04T16:43:57.245742Z",
     "start_time": "2024-11-04T16:43:57.214465Z"
    }
   },
   "source": [
    "x_test = np.array([5.45]).reshape(-1,1)\n",
    "y_pred_test = log_regrs.predict(x_test)\n",
    "y_pred_test"
   ],
   "outputs": [
    {
     "data": {
      "text/plain": [
       "array([1])"
      ]
     },
     "execution_count": 6,
     "metadata": {},
     "output_type": "execute_result"
    }
   ],
   "execution_count": 6
  }
 ],
 "metadata": {
  "kernelspec": {
   "display_name": "Python 3",
   "language": "python",
   "name": "python3"
  },
  "language_info": {
   "codemirror_mode": {
    "name": "ipython",
    "version": 3
   },
   "file_extension": ".py",
   "mimetype": "text/x-python",
   "name": "python",
   "nbconvert_exporter": "python",
   "pygments_lexer": "ipython3",
   "version": "3.11.9"
  }
 },
 "nbformat": 4,
 "nbformat_minor": 2
}
