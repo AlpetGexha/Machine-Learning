{
 "cells": [
  {
   "metadata": {},
   "cell_type": "markdown",
   "source": [
    "#### Regularization\n",
    "**Overfitting**  is one of the most serious kinds of problems related to machine learning. It occurs when a model learns the training data too well. The model then learns not only the relationships among data but also the noise in the dataset. Overfitted models tend to have good performance with the data used to fit them (the training data), but they behave poorly with unseen data (or test data, which is data not used to fit the model)."
   ]
  },
  {
   "cell_type": "code",
   "metadata": {
    "ExecuteTime": {
     "end_time": "2024-11-05T23:06:48.242745Z",
     "start_time": "2024-11-05T23:06:48.162714Z"
    }
   },
   "source": [
    "import pandas as pd\n",
    "\n",
    "df = pd.read_csv('Heart.csv')\n",
    "df.head()"
   ],
   "outputs": [
    {
     "data": {
      "text/plain": [
       "   Id  Age  Sex     ChestPain  RestBP  Chol  Fbs  RestECG  MaxHR  ExAng  \\\n",
       "0   1   63    1       typical     145   233    1        2    150      0   \n",
       "1   2   67    1  asymptomatic     160   286    0        2    108      1   \n",
       "2   3   67    1  asymptomatic     120   229    0        2    129      1   \n",
       "3   4   37    1    nonanginal     130   250    0        0    187      0   \n",
       "4   5   41    0    nontypical     130   204    0        2    172      0   \n",
       "\n",
       "   Oldpeak  Slope   Ca        Thal  AHD  \n",
       "0      2.3      3  0.0       fixed   No  \n",
       "1      1.5      2  3.0      normal  Yes  \n",
       "2      2.6      2  2.0  reversable  Yes  \n",
       "3      3.5      3  0.0      normal   No  \n",
       "4      1.4      1  0.0      normal   No  "
      ],
      "text/html": [
       "<div>\n",
       "<style scoped>\n",
       "    .dataframe tbody tr th:only-of-type {\n",
       "        vertical-align: middle;\n",
       "    }\n",
       "\n",
       "    .dataframe tbody tr th {\n",
       "        vertical-align: top;\n",
       "    }\n",
       "\n",
       "    .dataframe thead th {\n",
       "        text-align: right;\n",
       "    }\n",
       "</style>\n",
       "<table border=\"1\" class=\"dataframe\">\n",
       "  <thead>\n",
       "    <tr style=\"text-align: right;\">\n",
       "      <th></th>\n",
       "      <th>Id</th>\n",
       "      <th>Age</th>\n",
       "      <th>Sex</th>\n",
       "      <th>ChestPain</th>\n",
       "      <th>RestBP</th>\n",
       "      <th>Chol</th>\n",
       "      <th>Fbs</th>\n",
       "      <th>RestECG</th>\n",
       "      <th>MaxHR</th>\n",
       "      <th>ExAng</th>\n",
       "      <th>Oldpeak</th>\n",
       "      <th>Slope</th>\n",
       "      <th>Ca</th>\n",
       "      <th>Thal</th>\n",
       "      <th>AHD</th>\n",
       "    </tr>\n",
       "  </thead>\n",
       "  <tbody>\n",
       "    <tr>\n",
       "      <th>0</th>\n",
       "      <td>1</td>\n",
       "      <td>63</td>\n",
       "      <td>1</td>\n",
       "      <td>typical</td>\n",
       "      <td>145</td>\n",
       "      <td>233</td>\n",
       "      <td>1</td>\n",
       "      <td>2</td>\n",
       "      <td>150</td>\n",
       "      <td>0</td>\n",
       "      <td>2.3</td>\n",
       "      <td>3</td>\n",
       "      <td>0.0</td>\n",
       "      <td>fixed</td>\n",
       "      <td>No</td>\n",
       "    </tr>\n",
       "    <tr>\n",
       "      <th>1</th>\n",
       "      <td>2</td>\n",
       "      <td>67</td>\n",
       "      <td>1</td>\n",
       "      <td>asymptomatic</td>\n",
       "      <td>160</td>\n",
       "      <td>286</td>\n",
       "      <td>0</td>\n",
       "      <td>2</td>\n",
       "      <td>108</td>\n",
       "      <td>1</td>\n",
       "      <td>1.5</td>\n",
       "      <td>2</td>\n",
       "      <td>3.0</td>\n",
       "      <td>normal</td>\n",
       "      <td>Yes</td>\n",
       "    </tr>\n",
       "    <tr>\n",
       "      <th>2</th>\n",
       "      <td>3</td>\n",
       "      <td>67</td>\n",
       "      <td>1</td>\n",
       "      <td>asymptomatic</td>\n",
       "      <td>120</td>\n",
       "      <td>229</td>\n",
       "      <td>0</td>\n",
       "      <td>2</td>\n",
       "      <td>129</td>\n",
       "      <td>1</td>\n",
       "      <td>2.6</td>\n",
       "      <td>2</td>\n",
       "      <td>2.0</td>\n",
       "      <td>reversable</td>\n",
       "      <td>Yes</td>\n",
       "    </tr>\n",
       "    <tr>\n",
       "      <th>3</th>\n",
       "      <td>4</td>\n",
       "      <td>37</td>\n",
       "      <td>1</td>\n",
       "      <td>nonanginal</td>\n",
       "      <td>130</td>\n",
       "      <td>250</td>\n",
       "      <td>0</td>\n",
       "      <td>0</td>\n",
       "      <td>187</td>\n",
       "      <td>0</td>\n",
       "      <td>3.5</td>\n",
       "      <td>3</td>\n",
       "      <td>0.0</td>\n",
       "      <td>normal</td>\n",
       "      <td>No</td>\n",
       "    </tr>\n",
       "    <tr>\n",
       "      <th>4</th>\n",
       "      <td>5</td>\n",
       "      <td>41</td>\n",
       "      <td>0</td>\n",
       "      <td>nontypical</td>\n",
       "      <td>130</td>\n",
       "      <td>204</td>\n",
       "      <td>0</td>\n",
       "      <td>2</td>\n",
       "      <td>172</td>\n",
       "      <td>0</td>\n",
       "      <td>1.4</td>\n",
       "      <td>1</td>\n",
       "      <td>0.0</td>\n",
       "      <td>normal</td>\n",
       "      <td>No</td>\n",
       "    </tr>\n",
       "  </tbody>\n",
       "</table>\n",
       "</div>"
      ]
     },
     "execution_count": 1,
     "metadata": {},
     "output_type": "execute_result"
    }
   ],
   "execution_count": 1
  },
  {
   "cell_type": "code",
   "metadata": {
    "ExecuteTime": {
     "end_time": "2024-11-05T23:06:48.493454Z",
     "start_time": "2024-11-05T23:06:48.461985Z"
    }
   },
   "source": [
    "df.info()"
   ],
   "outputs": [
    {
     "name": "stdout",
     "output_type": "stream",
     "text": [
      "<class 'pandas.core.frame.DataFrame'>\n",
      "RangeIndex: 303 entries, 0 to 302\n",
      "Data columns (total 15 columns):\n",
      " #   Column     Non-Null Count  Dtype  \n",
      "---  ------     --------------  -----  \n",
      " 0   Id         303 non-null    int64  \n",
      " 1   Age        303 non-null    int64  \n",
      " 2   Sex        303 non-null    int64  \n",
      " 3   ChestPain  303 non-null    object \n",
      " 4   RestBP     303 non-null    int64  \n",
      " 5   Chol       303 non-null    int64  \n",
      " 6   Fbs        303 non-null    int64  \n",
      " 7   RestECG    303 non-null    int64  \n",
      " 8   MaxHR      303 non-null    int64  \n",
      " 9   ExAng      303 non-null    int64  \n",
      " 10  Oldpeak    303 non-null    float64\n",
      " 11  Slope      303 non-null    int64  \n",
      " 12  Ca         299 non-null    float64\n",
      " 13  Thal       301 non-null    object \n",
      " 14  AHD        303 non-null    object \n",
      "dtypes: float64(2), int64(10), object(3)\n",
      "memory usage: 35.6+ KB\n"
     ]
    }
   ],
   "execution_count": 2
  },
  {
   "cell_type": "code",
   "metadata": {
    "ExecuteTime": {
     "end_time": "2024-11-05T23:06:48.688392Z",
     "start_time": "2024-11-05T23:06:48.656175Z"
    }
   },
   "source": [
    "df = df.dropna()\n",
    "df.info()"
   ],
   "outputs": [
    {
     "name": "stdout",
     "output_type": "stream",
     "text": [
      "<class 'pandas.core.frame.DataFrame'>\n",
      "Int64Index: 297 entries, 0 to 301\n",
      "Data columns (total 15 columns):\n",
      " #   Column     Non-Null Count  Dtype  \n",
      "---  ------     --------------  -----  \n",
      " 0   Id         297 non-null    int64  \n",
      " 1   Age        297 non-null    int64  \n",
      " 2   Sex        297 non-null    int64  \n",
      " 3   ChestPain  297 non-null    object \n",
      " 4   RestBP     297 non-null    int64  \n",
      " 5   Chol       297 non-null    int64  \n",
      " 6   Fbs        297 non-null    int64  \n",
      " 7   RestECG    297 non-null    int64  \n",
      " 8   MaxHR      297 non-null    int64  \n",
      " 9   ExAng      297 non-null    int64  \n",
      " 10  Oldpeak    297 non-null    float64\n",
      " 11  Slope      297 non-null    int64  \n",
      " 12  Ca         297 non-null    float64\n",
      " 13  Thal       297 non-null    object \n",
      " 14  AHD        297 non-null    object \n",
      "dtypes: float64(2), int64(10), object(3)\n",
      "memory usage: 37.1+ KB\n"
     ]
    }
   ],
   "execution_count": 3
  },
  {
   "cell_type": "code",
   "metadata": {
    "ExecuteTime": {
     "end_time": "2024-11-05T23:06:48.877924Z",
     "start_time": "2024-11-05T23:06:48.862200Z"
    }
   },
   "source": [
    "# le ti shohim ndarjen e te dhenve kategorike apo grupimet e tyre\n",
    "print(df['ChestPain'].unique())\n",
    "print(df['AHD'].unique())\n",
    "print(df['Thal'].unique())"
   ],
   "outputs": [
    {
     "name": "stdout",
     "output_type": "stream",
     "text": [
      "['typical' 'asymptomatic' 'nonanginal' 'nontypical']\n",
      "['No' 'Yes']\n",
      "['fixed' 'normal' 'reversable']\n"
     ]
    }
   ],
   "execution_count": 4
  },
  {
   "cell_type": "code",
   "metadata": {
    "ExecuteTime": {
     "end_time": "2024-11-05T23:06:49.064292Z",
     "start_time": "2024-11-05T23:06:49.030116Z"
    }
   },
   "source": [
    "df_part = df[['ChestPain', 'AHD', 'Thal']]\n",
    "for column3 in df_part:\n",
    "    df[column3] = df[column3].astype('category')\n",
    "    df[column3] = df[column3].cat.codes\n",
    "\n",
    "df.info()"
   ],
   "outputs": [
    {
     "name": "stdout",
     "output_type": "stream",
     "text": [
      "<class 'pandas.core.frame.DataFrame'>\n",
      "Int64Index: 297 entries, 0 to 301\n",
      "Data columns (total 15 columns):\n",
      " #   Column     Non-Null Count  Dtype  \n",
      "---  ------     --------------  -----  \n",
      " 0   Id         297 non-null    int64  \n",
      " 1   Age        297 non-null    int64  \n",
      " 2   Sex        297 non-null    int64  \n",
      " 3   ChestPain  297 non-null    int8   \n",
      " 4   RestBP     297 non-null    int64  \n",
      " 5   Chol       297 non-null    int64  \n",
      " 6   Fbs        297 non-null    int64  \n",
      " 7   RestECG    297 non-null    int64  \n",
      " 8   MaxHR      297 non-null    int64  \n",
      " 9   ExAng      297 non-null    int64  \n",
      " 10  Oldpeak    297 non-null    float64\n",
      " 11  Slope      297 non-null    int64  \n",
      " 12  Ca         297 non-null    float64\n",
      " 13  Thal       297 non-null    int8   \n",
      " 14  AHD        297 non-null    int8   \n",
      "dtypes: float64(2), int64(10), int8(3)\n",
      "memory usage: 31.0 KB\n"
     ]
    }
   ],
   "execution_count": 5
  },
  {
   "cell_type": "code",
   "metadata": {
    "ExecuteTime": {
     "end_time": "2024-11-05T23:06:49.224094Z",
     "start_time": "2024-11-05T23:06:49.167184Z"
    }
   },
   "source": [
    "df.drop_duplicates()\n",
    "df.info()"
   ],
   "outputs": [
    {
     "name": "stdout",
     "output_type": "stream",
     "text": [
      "<class 'pandas.core.frame.DataFrame'>\n",
      "Int64Index: 297 entries, 0 to 301\n",
      "Data columns (total 15 columns):\n",
      " #   Column     Non-Null Count  Dtype  \n",
      "---  ------     --------------  -----  \n",
      " 0   Id         297 non-null    int64  \n",
      " 1   Age        297 non-null    int64  \n",
      " 2   Sex        297 non-null    int64  \n",
      " 3   ChestPain  297 non-null    int8   \n",
      " 4   RestBP     297 non-null    int64  \n",
      " 5   Chol       297 non-null    int64  \n",
      " 6   Fbs        297 non-null    int64  \n",
      " 7   RestECG    297 non-null    int64  \n",
      " 8   MaxHR      297 non-null    int64  \n",
      " 9   ExAng      297 non-null    int64  \n",
      " 10  Oldpeak    297 non-null    float64\n",
      " 11  Slope      297 non-null    int64  \n",
      " 12  Ca         297 non-null    float64\n",
      " 13  Thal       297 non-null    int8   \n",
      " 14  AHD        297 non-null    int8   \n",
      "dtypes: float64(2), int64(10), int8(3)\n",
      "memory usage: 31.0 KB\n"
     ]
    }
   ],
   "execution_count": 6
  },
  {
   "cell_type": "code",
   "metadata": {
    "ExecuteTime": {
     "end_time": "2024-11-05T23:06:49.492537Z",
     "start_time": "2024-11-05T23:06:49.476990Z"
    }
   },
   "source": [
    "X = df.drop(columns='AHD')\n",
    "y = df['AHD']"
   ],
   "outputs": [],
   "execution_count": 7
  },
  {
   "cell_type": "code",
   "metadata": {
    "ExecuteTime": {
     "end_time": "2024-11-05T23:06:49.747583Z",
     "start_time": "2024-11-05T23:06:49.542819Z"
    }
   },
   "source": [
    "# standartizimi ose Z-score\n",
    "\n",
    "from sklearn.preprocessing import StandardScaler\n",
    "\n",
    "stand_scaler = StandardScaler()\n",
    "X_scaler = stand_scaler.fit_transform(X)\n",
    "X_scaler"
   ],
   "outputs": [
    {
     "data": {
      "text/plain": [
       "array([[-1.71690766,  0.93618065,  0.69109474, ...,  2.26414539,\n",
       "        -0.72197605, -2.2712801 ],\n",
       "       [-1.70543663,  1.3789285 ,  0.69109474, ...,  0.6437811 ,\n",
       "         2.47842525, -0.55917302],\n",
       "       [-1.69396561,  1.3789285 ,  0.69109474, ...,  0.6437811 ,\n",
       "         1.41162482,  1.15293406],\n",
       "       ...,\n",
       "       [ 1.71292949,  1.48961547,  0.69109474, ...,  0.6437811 ,\n",
       "         1.41162482,  1.15293406],\n",
       "       [ 1.72440052,  0.27205887,  0.69109474, ...,  0.6437811 ,\n",
       "         0.34482438,  1.15293406],\n",
       "       [ 1.73587155,  0.27205887, -1.44697961, ...,  0.6437811 ,\n",
       "         0.34482438, -0.55917302]])"
      ]
     },
     "execution_count": 8,
     "metadata": {},
     "output_type": "execute_result"
    }
   ],
   "execution_count": 8
  },
  {
   "cell_type": "code",
   "metadata": {
    "ExecuteTime": {
     "end_time": "2024-11-05T23:06:49.936201Z",
     "start_time": "2024-11-05T23:06:49.871650Z"
    }
   },
   "source": [
    "from sklearn.model_selection import train_test_split\n",
    "\n",
    "X_scaler_train, X_scaler_test, y_train, y_test = train_test_split(X_scaler, y, test_size=0.2, random_state=34)"
   ],
   "outputs": [],
   "execution_count": 9
  },
  {
   "cell_type": "code",
   "metadata": {
    "ExecuteTime": {
     "end_time": "2024-11-05T23:06:50.126674Z",
     "start_time": "2024-11-05T23:06:50.030474Z"
    }
   },
   "source": [
    "from sklearn.linear_model import LogisticRegression\n",
    "\n",
    "log_reg = LogisticRegression()\n",
    "log_reg.fit(X_scaler_train, y_train)"
   ],
   "outputs": [
    {
     "data": {
      "text/plain": [
       "LogisticRegression()"
      ]
     },
     "execution_count": 10,
     "metadata": {},
     "output_type": "execute_result"
    }
   ],
   "execution_count": 10
  },
  {
   "cell_type": "code",
   "metadata": {
    "ExecuteTime": {
     "end_time": "2024-11-05T23:06:50.189907Z",
     "start_time": "2024-11-05T23:06:50.165764Z"
    }
   },
   "source": [
    "y_predc_train = log_reg.predict(X_scaler_train)\n",
    "y_predc_train"
   ],
   "outputs": [
    {
     "data": {
      "text/plain": [
       "array([0, 0, 0, 0, 1, 1, 0, 1, 0, 0, 1, 0, 1, 0, 0, 0, 0, 1, 1, 0, 1, 1,\n",
       "       1, 1, 1, 0, 0, 1, 0, 0, 1, 0, 1, 1, 0, 0, 1, 0, 1, 0, 0, 0, 1, 1,\n",
       "       1, 0, 0, 1, 0, 1, 0, 1, 0, 1, 0, 1, 1, 1, 0, 0, 0, 0, 0, 1, 0, 0,\n",
       "       1, 0, 0, 0, 1, 0, 1, 1, 0, 0, 1, 0, 0, 0, 1, 0, 1, 1, 0, 0, 1, 1,\n",
       "       0, 1, 0, 0, 0, 1, 1, 0, 1, 0, 0, 1, 1, 0, 0, 1, 1, 1, 0, 0, 0, 0,\n",
       "       0, 1, 1, 0, 0, 1, 0, 1, 1, 1, 1, 0, 1, 0, 0, 0, 1, 1, 0, 0, 0, 0,\n",
       "       0, 1, 1, 1, 1, 0, 0, 1, 0, 1, 1, 0, 1, 0, 0, 0, 1, 0, 0, 0, 0, 0,\n",
       "       0, 1, 0, 1, 0, 0, 0, 0, 0, 1, 0, 0, 0, 0, 0, 0, 1, 0, 1, 0, 0, 1,\n",
       "       0, 0, 1, 1, 1, 0, 0, 1, 1, 1, 0, 1, 0, 0, 0, 1, 0, 1, 1, 0, 1, 1,\n",
       "       0, 0, 1, 0, 0, 0, 0, 1, 1, 1, 1, 1, 1, 0, 1, 0, 1, 0, 1, 0, 0, 0,\n",
       "       1, 1, 1, 1, 0, 1, 1, 0, 1, 0, 1, 0, 0, 0, 0, 0, 1], dtype=int8)"
      ]
     },
     "execution_count": 11,
     "metadata": {},
     "output_type": "execute_result"
    }
   ],
   "execution_count": 11
  },
  {
   "cell_type": "code",
   "metadata": {
    "ExecuteTime": {
     "end_time": "2024-11-05T23:06:50.270935Z",
     "start_time": "2024-11-05T23:06:50.255395Z"
    }
   },
   "source": [
    "from sklearn.metrics import accuracy_score\n",
    "\n",
    "coef_acc = accuracy_score(y_train, y_predc_train)\n",
    "coef_acc"
   ],
   "outputs": [
    {
     "data": {
      "text/plain": [
       "0.869198312236287"
      ]
     },
     "execution_count": 12,
     "metadata": {},
     "output_type": "execute_result"
    }
   ],
   "execution_count": 12
  }
 ],
 "metadata": {
  "kernelspec": {
   "display_name": "Python 3",
   "language": "python",
   "name": "python3"
  },
  "language_info": {
   "codemirror_mode": {
    "name": "ipython",
    "version": 3
   },
   "file_extension": ".py",
   "mimetype": "text/x-python",
   "name": "python",
   "nbconvert_exporter": "python",
   "pygments_lexer": "ipython3",
   "version": "3.11.9"
  }
 },
 "nbformat": 4,
 "nbformat_minor": 2
}
