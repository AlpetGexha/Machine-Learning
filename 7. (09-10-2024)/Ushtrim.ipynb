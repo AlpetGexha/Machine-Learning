{
 "cells": [
  {
   "cell_type": "code",
   "execution_count": 7,
   "metadata": {},
   "outputs": [],
   "source": [
    "students_dict = {\n",
    "    'Emri': ['Ardit', 'Besa', 'Ilir', 'Sara'],\n",
    "    'Mbiemri': ['Hoxha', 'Shala', 'Berisha', 'Dervishi'],\n",
    "    'Email': ['ardit.hoxha@hotmail.com', 'besa.shala@hotmail.com', 'ilir.berisha@hotmail.com', 'sara.dervishi@hotmail.com'],\n",
    "    'Mosha': [24, 22, 23, 21]\n",
    "}"
   ]
  },
  {
   "cell_type": "code",
   "execution_count": 8,
   "metadata": {},
   "outputs": [],
   "source": [
    "import pandas as pd\n",
    "df = pd.DataFrame(students_dict)"
   ]
  },
  {
   "cell_type": "code",
   "execution_count": 9,
   "metadata": {},
   "outputs": [],
   "source": [
    "# ne kete funksion ne kontrollojme vetem kolonat qe na sjellin velra tekst\n",
    "def email_me_emer(df):\n",
    "    df_column = input(\"Vendos Kolonen\")\n",
    "    vlera = input(\"Vendos vleren\")\n",
    "    if vlera.isnumeric:\n",
    "        vlera = float(vlera)\n",
    "    df_column1 = input(\"Vendos Kolonen\")\n",
    "    rezultat = df[df[df_column] == vlera][df_column1]\n",
    "    print(rezultat)\n",
    "    if not rezultat.empty:\n",
    "        return rezultat.values[0]\n",
    "    else:\n",
    "        return \"Vlera nuk u gjet\""
   ]
  },
  {
   "cell_type": "code",
   "execution_count": 11,
   "metadata": {},
   "outputs": [
    {
     "name": "stdout",
     "output_type": "stream",
     "text": [
      "0    Ardit\n",
      "Name: Emri, dtype: object\n",
      "Ardit\n"
     ]
    }
   ],
   "source": [
    "print(email_me_emer(df))"
   ]
  }
 ],
 "metadata": {
  "kernelspec": {
   "display_name": "Python 3",
   "language": "python",
   "name": "python3"
  },
  "language_info": {
   "codemirror_mode": {
    "name": "ipython",
    "version": 3
   },
   "file_extension": ".py",
   "mimetype": "text/x-python",
   "name": "python",
   "nbconvert_exporter": "python",
   "pygments_lexer": "ipython3",
   "version": "3.11.9"
  }
 },
 "nbformat": 4,
 "nbformat_minor": 2
}
