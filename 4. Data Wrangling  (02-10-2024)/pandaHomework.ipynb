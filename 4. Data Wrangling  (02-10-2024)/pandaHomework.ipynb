{
 "cells": [
  {
   "cell_type": "code",
   "id": "4e901e112004d0a9",
   "metadata": {
    "ExecuteTime": {
     "end_time": "2024-10-07T08:20:22.412641Z",
     "start_time": "2024-10-07T08:20:22.392036Z"
    }
   },
   "source": [
    "students = {\n",
    "    \"emri\": [\"Alpet\", \"Teuta\", \"Altin\", \"Blerina\", \"Donat\", \"Alban\", \"Erisa\", \"Genti\", \"Flutura\", \"Jona\", \"Valon\",\n",
    "             \"Arta\",\n",
    "             \"Dritan\", \"Linda\", \"Ilir\"],\n",
    "    \"mbiemri\": [\"Gexha\", \"Shala\", \"Nimani\", \"Tahiraj\", \"Imeri\", \"Gashi\", \"Krasniqi\", \"Berisha\", \"Hoxha\", \"Lika\",\n",
    "                \"Demiri\",\n",
    "                \"Kelmendi\", \"Hasani\", \"Bardhi\", \"Rama\"],\n",
    "    \"kursi\": [\"ML\", \"Big Data\", \"Python\", \"ML\", \"AI\", \"Web Development\", \"Cyber Security\", \"Blockchain\", \"Data Science\",\n",
    "              \"Game Development\", \"Cloud Computing\", \"Networking\", \"Digital Marketing\", \"IoT\", \"DevOps\"],\n",
    "    \"mosha\": [20, 22, 24, 26, 28, 23, 25, 27, 29, 21, 30, 24, 28, 22, 26],\n",
    "    \"email\": [\n",
    "        \"agexha@gmail.com\", \"teuta@gmail.com\", \"altin@gmail.com\", \"blerina@gmail.com\", \"donat@gmail.com\",\n",
    "        \"alban@gmail.com\", \"erisa@gmail.com\", \"genti@gmail.com\", \"flutura@gmail.com\",\n",
    "        \"jona@gmail.com\", \"valon@gmail.com\", \"arta@gmail.com\", \"dritan@gmail.com\",\n",
    "        \"linda@gmail.com\", \"ilir@gmail.com\"\n",
    "    ],\n",
    "    \"nota\": [10, 8, 9, 5, 6, 10, 7, 9, 8, 6, 10, 9, 7, 8, 10]\n",
    "}"
   ],
   "outputs": [],
   "execution_count": 7
  },
  {
   "cell_type": "code",
   "id": "41c2617b839c0e33",
   "metadata": {
    "ExecuteTime": {
     "end_time": "2024-10-07T08:20:22.443595Z",
     "start_time": "2024-10-07T08:20:22.431258Z"
    }
   },
   "source": [
    "print(students['emri'])"
   ],
   "outputs": [
    {
     "name": "stdout",
     "output_type": "stream",
     "text": [
      "['Alpet', 'Teuta', 'Altin', 'Blerina', 'Donat', 'Alban', 'Erisa', 'Genti', 'Flutura', 'Jona', 'Valon', 'Arta', 'Dritan', 'Linda', 'Ilir']\n"
     ]
    }
   ],
   "execution_count": 8
  },
  {
   "cell_type": "code",
   "id": "57dd22009fea4bbe",
   "metadata": {
    "ExecuteTime": {
     "end_time": "2024-10-07T08:20:23.339247Z",
     "start_time": "2024-10-07T08:20:22.499608Z"
    }
   },
   "source": [
    "import pandas as pd\n",
    "\n",
    "dataframe = pd.DataFrame(students)\n",
    "dataframe.columns = dataframe.columns.str.capitalize()\n",
    "print(dataframe)"
   ],
   "outputs": [
    {
     "name": "stdout",
     "output_type": "stream",
     "text": [
      "       Emri   Mbiemri              Kursi  Mosha              Email  Nota\n",
      "0     Alpet     Gexha                 ML     20   agexha@gmail.com    10\n",
      "1     Teuta     Shala           Big Data     22    teuta@gmail.com     8\n",
      "2     Altin    Nimani             Python     24    altin@gmail.com     9\n",
      "3   Blerina   Tahiraj                 ML     26  blerina@gmail.com     5\n",
      "4     Donat     Imeri                 AI     28    donat@gmail.com     6\n",
      "5     Alban     Gashi    Web Development     23    alban@gmail.com    10\n",
      "6     Erisa  Krasniqi     Cyber Security     25    erisa@gmail.com     7\n",
      "7     Genti   Berisha         Blockchain     27    genti@gmail.com     9\n",
      "8   Flutura     Hoxha       Data Science     29  flutura@gmail.com     8\n",
      "9      Jona      Lika   Game Development     21     jona@gmail.com     6\n",
      "10    Valon    Demiri    Cloud Computing     30    valon@gmail.com    10\n",
      "11     Arta  Kelmendi         Networking     24     arta@gmail.com     9\n",
      "12   Dritan    Hasani  Digital Marketing     28   dritan@gmail.com     7\n",
      "13    Linda    Bardhi                IoT     22    linda@gmail.com     8\n",
      "14     Ilir      Rama             DevOps     26     ilir@gmail.com    10\n"
     ]
    }
   ],
   "execution_count": 9
  },
  {
   "cell_type": "code",
   "id": "bcac6b152ce65c75",
   "metadata": {
    "ExecuteTime": {
     "end_time": "2024-10-07T08:20:23.431657Z",
     "start_time": "2024-10-07T08:20:23.404943Z"
    }
   },
   "source": [
    "email = dataframe['Email']\n",
    "name = dataframe['Emri']\n",
    "print(email)\n",
    "print(name)"
   ],
   "outputs": [
    {
     "name": "stdout",
     "output_type": "stream",
     "text": [
      "0      agexha@gmail.com\n",
      "1       teuta@gmail.com\n",
      "2       altin@gmail.com\n",
      "3     blerina@gmail.com\n",
      "4       donat@gmail.com\n",
      "5       alban@gmail.com\n",
      "6       erisa@gmail.com\n",
      "7       genti@gmail.com\n",
      "8     flutura@gmail.com\n",
      "9        jona@gmail.com\n",
      "10      valon@gmail.com\n",
      "11       arta@gmail.com\n",
      "12     dritan@gmail.com\n",
      "13      linda@gmail.com\n",
      "14       ilir@gmail.com\n",
      "Name: Email, dtype: object\n",
      "0       Alpet\n",
      "1       Teuta\n",
      "2       Altin\n",
      "3     Blerina\n",
      "4       Donat\n",
      "5       Alban\n",
      "6       Erisa\n",
      "7       Genti\n",
      "8     Flutura\n",
      "9        Jona\n",
      "10      Valon\n",
      "11       Arta\n",
      "12     Dritan\n",
      "13      Linda\n",
      "14       Ilir\n",
      "Name: Emri, dtype: object\n"
     ]
    }
   ],
   "execution_count": 10
  },
  {
   "cell_type": "code",
   "id": "d9eaa30d74d90fe4",
   "metadata": {
    "ExecuteTime": {
     "end_time": "2024-10-07T08:20:23.539871Z",
     "start_time": "2024-10-07T08:20:23.528577Z"
    }
   },
   "source": [
    "for i in range(len(email)):\n",
    "    print(f\"Emaili i studentit {name[i]} eshte {email[i]}\")"
   ],
   "outputs": [
    {
     "name": "stdout",
     "output_type": "stream",
     "text": [
      "Emaili i studentit Alpet eshte agexha@gmail.com\n",
      "Emaili i studentit Teuta eshte teuta@gmail.com\n",
      "Emaili i studentit Altin eshte altin@gmail.com\n",
      "Emaili i studentit Blerina eshte blerina@gmail.com\n",
      "Emaili i studentit Donat eshte donat@gmail.com\n",
      "Emaili i studentit Alban eshte alban@gmail.com\n",
      "Emaili i studentit Erisa eshte erisa@gmail.com\n",
      "Emaili i studentit Genti eshte genti@gmail.com\n",
      "Emaili i studentit Flutura eshte flutura@gmail.com\n",
      "Emaili i studentit Jona eshte jona@gmail.com\n",
      "Emaili i studentit Valon eshte valon@gmail.com\n",
      "Emaili i studentit Arta eshte arta@gmail.com\n",
      "Emaili i studentit Dritan eshte dritan@gmail.com\n",
      "Emaili i studentit Linda eshte linda@gmail.com\n",
      "Emaili i studentit Ilir eshte ilir@gmail.com\n"
     ]
    }
   ],
   "execution_count": 11
  },
  {
   "cell_type": "code",
   "id": "36ec7bf062d6db5",
   "metadata": {
    "ExecuteTime": {
     "end_time": "2024-10-07T08:20:23.833346Z",
     "start_time": "2024-10-07T08:20:23.795048Z"
    }
   },
   "source": [
    "filter = dataframe['Nota'] > 8\n",
    "dataframe.loc[filter, ['Emri', 'Email', 'Nota']]"
   ],
   "outputs": [
    {
     "data": {
      "text/plain": [
       "     Emri             Email  Nota\n",
       "0   Alpet  agexha@gmail.com    10\n",
       "2   Altin   altin@gmail.com     9\n",
       "5   Alban   alban@gmail.com    10\n",
       "7   Genti   genti@gmail.com     9\n",
       "10  Valon   valon@gmail.com    10\n",
       "11   Arta    arta@gmail.com     9\n",
       "14   Ilir    ilir@gmail.com    10"
      ],
      "text/html": [
       "<div>\n",
       "<style scoped>\n",
       "    .dataframe tbody tr th:only-of-type {\n",
       "        vertical-align: middle;\n",
       "    }\n",
       "\n",
       "    .dataframe tbody tr th {\n",
       "        vertical-align: top;\n",
       "    }\n",
       "\n",
       "    .dataframe thead th {\n",
       "        text-align: right;\n",
       "    }\n",
       "</style>\n",
       "<table border=\"1\" class=\"dataframe\">\n",
       "  <thead>\n",
       "    <tr style=\"text-align: right;\">\n",
       "      <th></th>\n",
       "      <th>Emri</th>\n",
       "      <th>Email</th>\n",
       "      <th>Nota</th>\n",
       "    </tr>\n",
       "  </thead>\n",
       "  <tbody>\n",
       "    <tr>\n",
       "      <th>0</th>\n",
       "      <td>Alpet</td>\n",
       "      <td>agexha@gmail.com</td>\n",
       "      <td>10</td>\n",
       "    </tr>\n",
       "    <tr>\n",
       "      <th>2</th>\n",
       "      <td>Altin</td>\n",
       "      <td>altin@gmail.com</td>\n",
       "      <td>9</td>\n",
       "    </tr>\n",
       "    <tr>\n",
       "      <th>5</th>\n",
       "      <td>Alban</td>\n",
       "      <td>alban@gmail.com</td>\n",
       "      <td>10</td>\n",
       "    </tr>\n",
       "    <tr>\n",
       "      <th>7</th>\n",
       "      <td>Genti</td>\n",
       "      <td>genti@gmail.com</td>\n",
       "      <td>9</td>\n",
       "    </tr>\n",
       "    <tr>\n",
       "      <th>10</th>\n",
       "      <td>Valon</td>\n",
       "      <td>valon@gmail.com</td>\n",
       "      <td>10</td>\n",
       "    </tr>\n",
       "    <tr>\n",
       "      <th>11</th>\n",
       "      <td>Arta</td>\n",
       "      <td>arta@gmail.com</td>\n",
       "      <td>9</td>\n",
       "    </tr>\n",
       "    <tr>\n",
       "      <th>14</th>\n",
       "      <td>Ilir</td>\n",
       "      <td>ilir@gmail.com</td>\n",
       "      <td>10</td>\n",
       "    </tr>\n",
       "  </tbody>\n",
       "</table>\n",
       "</div>"
      ]
     },
     "execution_count": 12,
     "metadata": {},
     "output_type": "execute_result"
    }
   ],
   "execution_count": 12
  },
  {
   "cell_type": "code",
   "id": "cdbf46d445591555",
   "metadata": {
    "ExecuteTime": {
     "end_time": "2024-10-07T08:20:24.065321Z",
     "start_time": "2024-10-07T08:20:24.039643Z"
    }
   },
   "source": [
    "dataframe.set_index('Email', inplace=True)\n",
    "dataframe.loc[['agexha@gmail.com'], ['Emri', 'Nota']]"
   ],
   "outputs": [
    {
     "data": {
      "text/plain": [
       "                   Emri  Nota\n",
       "Email                        \n",
       "agexha@gmail.com  Alpet    10"
      ],
      "text/html": [
       "<div>\n",
       "<style scoped>\n",
       "    .dataframe tbody tr th:only-of-type {\n",
       "        vertical-align: middle;\n",
       "    }\n",
       "\n",
       "    .dataframe tbody tr th {\n",
       "        vertical-align: top;\n",
       "    }\n",
       "\n",
       "    .dataframe thead th {\n",
       "        text-align: right;\n",
       "    }\n",
       "</style>\n",
       "<table border=\"1\" class=\"dataframe\">\n",
       "  <thead>\n",
       "    <tr style=\"text-align: right;\">\n",
       "      <th></th>\n",
       "      <th>Emri</th>\n",
       "      <th>Nota</th>\n",
       "    </tr>\n",
       "    <tr>\n",
       "      <th>Email</th>\n",
       "      <th></th>\n",
       "      <th></th>\n",
       "    </tr>\n",
       "  </thead>\n",
       "  <tbody>\n",
       "    <tr>\n",
       "      <th>agexha@gmail.com</th>\n",
       "      <td>Alpet</td>\n",
       "      <td>10</td>\n",
       "    </tr>\n",
       "  </tbody>\n",
       "</table>\n",
       "</div>"
      ]
     },
     "execution_count": 13,
     "metadata": {},
     "output_type": "execute_result"
    }
   ],
   "execution_count": 13
  },
  {
   "metadata": {
    "ExecuteTime": {
     "end_time": "2024-10-07T08:20:31.681323Z",
     "start_time": "2024-10-07T08:20:31.664880Z"
    }
   },
   "cell_type": "code",
   "source": "dataframe.info",
   "id": "54f659af92ed51c1",
   "outputs": [
    {
     "data": {
      "text/plain": [
       "<bound method DataFrame.info of                       Emri   Mbiemri              Kursi  Mosha  Nota\n",
       "Email                                                               \n",
       "agexha@gmail.com     Alpet     Gexha                 ML     20    10\n",
       "teuta@gmail.com      Teuta     Shala           Big Data     22     8\n",
       "altin@gmail.com      Altin    Nimani             Python     24     9\n",
       "blerina@gmail.com  Blerina   Tahiraj                 ML     26     5\n",
       "donat@gmail.com      Donat     Imeri                 AI     28     6\n",
       "alban@gmail.com      Alban     Gashi    Web Development     23    10\n",
       "erisa@gmail.com      Erisa  Krasniqi     Cyber Security     25     7\n",
       "genti@gmail.com      Genti   Berisha         Blockchain     27     9\n",
       "flutura@gmail.com  Flutura     Hoxha       Data Science     29     8\n",
       "jona@gmail.com        Jona      Lika   Game Development     21     6\n",
       "valon@gmail.com      Valon    Demiri    Cloud Computing     30    10\n",
       "arta@gmail.com        Arta  Kelmendi         Networking     24     9\n",
       "dritan@gmail.com    Dritan    Hasani  Digital Marketing     28     7\n",
       "linda@gmail.com      Linda    Bardhi                IoT     22     8\n",
       "ilir@gmail.com        Ilir      Rama             DevOps     26    10>"
      ]
     },
     "execution_count": 15,
     "metadata": {},
     "output_type": "execute_result"
    }
   ],
   "execution_count": 15
  }
 ],
 "metadata": {
  "kernelspec": {
   "display_name": "Python 3 (ipykernel)",
   "language": "python",
   "name": "python3"
  },
  "language_info": {
   "codemirror_mode": {
    "name": "ipython",
    "version": 3
   },
   "file_extension": ".py",
   "mimetype": "text/x-python",
   "name": "python",
   "nbconvert_exporter": "python",
   "pygments_lexer": "ipython3",
   "version": "3.7.9"
  }
 },
 "nbformat": 4,
 "nbformat_minor": 5
}
