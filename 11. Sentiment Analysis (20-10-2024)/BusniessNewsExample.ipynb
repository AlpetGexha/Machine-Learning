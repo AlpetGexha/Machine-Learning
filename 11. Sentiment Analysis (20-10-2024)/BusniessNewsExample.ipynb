{
 "cells": [
  {
   "cell_type": "code",
   "id": "initial_id",
   "metadata": {
    "collapsed": true,
    "ExecuteTime": {
     "end_time": "2024-11-07T18:52:35.401794Z",
     "start_time": "2024-11-07T18:52:35.370057Z"
    }
   },
   "source": [
    "X_train = [\n",
    "    \"The inflation rate increase\",\n",
    "    \"Victims of covid increase\",\n",
    "    \"The war in Ukraine escalates\",\n",
    "    \"Public debt increases\",\n",
    "    \"Tourism this year is expected to increase\",\n",
    "    \"Businesses are hiring workers for different types of jobs\",\n",
    "    \"Interest rates rises\",\n",
    "    \"Sales go down\",\n",
    "    \"Trade between business going up\",\n",
    "    \"Raises interest rates\"\n",
    "]\n",
    "y_train = [0, 0, 0, 0, 1, 1, 0, 0, 1, 0]  #1-Positive, 0 -Negative   \n",
    "X_train"
   ],
   "outputs": [
    {
     "data": {
      "text/plain": [
       "['The inflation rate increase',\n",
       " 'Victims of covid increase',\n",
       " 'The war in Ukraine escalates',\n",
       " 'Public debt increases',\n",
       " 'Tourism this year is expected to increase',\n",
       " 'Businesses are hiring workers for different types of jobs',\n",
       " 'Interest rates rises',\n",
       " 'Sales go down',\n",
       " 'Trade between business going up',\n",
       " 'Raises interest rates']"
      ]
     },
     "execution_count": 2,
     "metadata": {},
     "output_type": "execute_result"
    }
   ],
   "execution_count": 2
  },
  {
   "metadata": {
    "ExecuteTime": {
     "end_time": "2024-11-07T18:53:21.364931Z",
     "start_time": "2024-11-07T18:53:19.184360Z"
    }
   },
   "cell_type": "code",
   "source": [
    "from nltk.corpus import stopwords\n",
    "from nltk.stem.porter import PorterStemmer\n",
    "from nltk.tokenize import RegexpTokenizer\n",
    "\n",
    "tokenizer = RegexpTokenizer(r'\\w+')\n",
    "en_stopwords = set(stopwords.words('english'))\n",
    "ps = PorterStemmer()"
   ],
   "id": "2080b115c9a9e2d9",
   "outputs": [],
   "execution_count": 4
  },
  {
   "metadata": {
    "ExecuteTime": {
     "end_time": "2024-11-07T18:54:08.665045Z",
     "start_time": "2024-11-07T18:54:08.633741Z"
    }
   },
   "cell_type": "code",
   "source": [
    "def getCleanedText(text):\n",
    "    tokens = tokenizer.tokenize(text.lower())\n",
    "    new_tokens = [token for token in tokens if token not in en_stopwords]\n",
    "    stemmed_tokens = [ps.stem(tokens) for tokens in new_tokens]\n",
    "    clean_text = \" \".join(stemmed_tokens)\n",
    "\n",
    "    return clean_text"
   ],
   "id": "39e1027b1a0d22a5",
   "outputs": [],
   "execution_count": 6
  },
  {
   "metadata": {
    "ExecuteTime": {
     "end_time": "2024-11-07T18:54:39.286395Z",
     "start_time": "2024-11-07T18:54:39.255160Z"
    }
   },
   "cell_type": "code",
   "source": [
    "\n",
    "X_test = [\"Unemployment rate increases\", \"inflation and deficit going up\",\n",
    "          \"Unemployment rate is getting higher and also interest rates are high this will make harder for people to re pay their mortgages\"]\n",
    "\n",
    "X_test"
   ],
   "id": "db4856fc04693146",
   "outputs": [
    {
     "data": {
      "text/plain": [
       "['Unemployment rate increases',\n",
       " 'inflation and deficit going up',\n",
       " 'Unemployment rate is getting higher and also interest rates are high this will make harder for people to re pay their mortgages']"
      ]
     },
     "execution_count": 8,
     "metadata": {},
     "output_type": "execute_result"
    }
   ],
   "execution_count": 8
  },
  {
   "metadata": {
    "ExecuteTime": {
     "end_time": "2024-11-07T18:54:54.479631Z",
     "start_time": "2024-11-07T18:54:54.448380Z"
    }
   },
   "cell_type": "code",
   "source": [
    "X_clean = [getCleanedText(j) for j in X_train]\n",
    "X_clean"
   ],
   "id": "2afc336effa8e16e",
   "outputs": [
    {
     "data": {
      "text/plain": [
       "['inflat rate increas',\n",
       " 'victim covid increas',\n",
       " 'war ukrain escal',\n",
       " 'public debt increas',\n",
       " 'tourism year expect increas',\n",
       " 'busi hire worker differ type job',\n",
       " 'interest rate rise',\n",
       " 'sale go',\n",
       " 'trade busi go',\n",
       " 'rais interest rate']"
      ]
     },
     "execution_count": 10,
     "metadata": {},
     "output_type": "execute_result"
    }
   ],
   "execution_count": 10
  },
  {
   "metadata": {
    "ExecuteTime": {
     "end_time": "2024-11-07T18:55:02.482334Z",
     "start_time": "2024-11-07T18:55:02.451038Z"
    }
   },
   "cell_type": "code",
   "source": [
    "Xt_clean = [getCleanedText(j) for j in X_test]\n",
    "Xt_clean"
   ],
   "id": "116a2ca48120287f",
   "outputs": [
    {
     "data": {
      "text/plain": [
       "['unemploy rate increas',\n",
       " 'inflat deficit go',\n",
       " 'unemploy rate get higher also interest rate high make harder peopl pay mortgag']"
      ]
     },
     "execution_count": 13,
     "metadata": {},
     "output_type": "execute_result"
    }
   ],
   "execution_count": 13
  },
  {
   "metadata": {
    "ExecuteTime": {
     "end_time": "2024-11-07T18:59:17.349188Z",
     "start_time": "2024-11-07T18:59:17.317448Z"
    }
   },
   "cell_type": "code",
   "source": [
    "from sklearn.feature_extraction.text import CountVectorizer\n",
    "\n",
    "cv = CountVectorizer(ngram_range=(1, 2))\n",
    "X_vect = cv.fit_transform(X_clean).toarray()\n",
    "X_vect\n",
    "# print(cv.get_feature_names()) "
   ],
   "id": "3eca0205a603c784",
   "outputs": [
    {
     "data": {
      "text/plain": [
       "array([[0, 0, 0, 0, 0, 0, 0, 0, 0, 0, 0, 0, 0, 0, 0, 1, 1, 1, 0, 0, 0, 0,\n",
       "        0, 0, 0, 1, 1, 0, 0, 0, 0, 0, 0, 0, 0, 0, 0, 0, 0, 0, 0, 0, 0, 0,\n",
       "        0, 0, 0],\n",
       "       [0, 0, 0, 1, 1, 0, 0, 0, 0, 0, 0, 0, 0, 0, 0, 1, 0, 0, 0, 0, 0, 0,\n",
       "        0, 0, 0, 0, 0, 0, 0, 0, 0, 0, 0, 0, 0, 0, 0, 0, 0, 1, 1, 0, 0, 0,\n",
       "        0, 0, 0],\n",
       "       [0, 0, 0, 0, 0, 0, 0, 0, 0, 1, 0, 0, 0, 0, 0, 0, 0, 0, 0, 0, 0, 0,\n",
       "        0, 0, 0, 0, 0, 0, 0, 0, 0, 0, 0, 0, 0, 0, 0, 1, 1, 0, 0, 1, 1, 0,\n",
       "        0, 0, 0],\n",
       "       [0, 0, 0, 0, 0, 1, 1, 0, 0, 0, 0, 0, 0, 0, 0, 1, 0, 0, 0, 0, 0, 1,\n",
       "        1, 0, 0, 0, 0, 0, 0, 0, 0, 0, 0, 0, 0, 0, 0, 0, 0, 0, 0, 0, 0, 0,\n",
       "        0, 0, 0],\n",
       "       [0, 0, 0, 0, 0, 0, 0, 0, 0, 0, 1, 1, 0, 0, 0, 1, 0, 0, 0, 0, 0, 0,\n",
       "        0, 0, 0, 0, 0, 0, 0, 0, 0, 1, 1, 0, 0, 0, 0, 0, 0, 0, 0, 0, 0, 0,\n",
       "        0, 1, 1],\n",
       "       [1, 0, 1, 0, 0, 0, 0, 1, 1, 0, 0, 0, 0, 1, 1, 0, 0, 0, 0, 0, 1, 0,\n",
       "        0, 0, 0, 0, 0, 0, 0, 0, 0, 0, 0, 0, 0, 1, 1, 0, 0, 0, 0, 0, 0, 1,\n",
       "        1, 0, 0],\n",
       "       [0, 0, 0, 0, 0, 0, 0, 0, 0, 0, 0, 0, 0, 0, 0, 0, 0, 0, 1, 1, 0, 0,\n",
       "        0, 0, 0, 1, 0, 1, 1, 0, 0, 0, 0, 0, 0, 0, 0, 0, 0, 0, 0, 0, 0, 0,\n",
       "        0, 0, 0],\n",
       "       [0, 0, 0, 0, 0, 0, 0, 0, 0, 0, 0, 0, 1, 0, 0, 0, 0, 0, 0, 0, 0, 0,\n",
       "        0, 0, 0, 0, 0, 0, 0, 1, 1, 0, 0, 0, 0, 0, 0, 0, 0, 0, 0, 0, 0, 0,\n",
       "        0, 0, 0],\n",
       "       [1, 1, 0, 0, 0, 0, 0, 0, 0, 0, 0, 0, 1, 0, 0, 0, 0, 0, 0, 0, 0, 0,\n",
       "        0, 0, 0, 0, 0, 0, 0, 0, 0, 0, 0, 1, 1, 0, 0, 0, 0, 0, 0, 0, 0, 0,\n",
       "        0, 0, 0],\n",
       "       [0, 0, 0, 0, 0, 0, 0, 0, 0, 0, 0, 0, 0, 0, 0, 0, 0, 0, 1, 1, 0, 0,\n",
       "        0, 1, 1, 1, 0, 0, 0, 0, 0, 0, 0, 0, 0, 0, 0, 0, 0, 0, 0, 0, 0, 0,\n",
       "        0, 0, 0]], dtype=int64)"
      ]
     },
     "execution_count": 15,
     "metadata": {},
     "output_type": "execute_result"
    }
   ],
   "execution_count": 15
  },
  {
   "metadata": {
    "ExecuteTime": {
     "end_time": "2024-11-07T18:59:27.962588Z",
     "start_time": "2024-11-07T18:59:27.946916Z"
    }
   },
   "cell_type": "code",
   "source": "Xt_vect = cv.transform(Xt_clean).toarray()",
   "id": "6e42b5b567ee3dc3",
   "outputs": [],
   "execution_count": 17
  },
  {
   "metadata": {
    "ExecuteTime": {
     "end_time": "2024-11-07T19:04:33.615024Z",
     "start_time": "2024-11-07T19:04:33.583760Z"
    }
   },
   "cell_type": "code",
   "source": [
    "from sklearn.naive_bayes import MultinomialNB\n",
    "\n",
    "mlb = MultinomialNB()\n",
    "mlb.fit(X_vect, y_train)\n",
    "y_pred = mlb.predict(Xt_vect)\n",
    "y_pred"
   ],
   "id": "c83c14d34f189e45",
   "outputs": [
    {
     "data": {
      "text/plain": [
       "array([0, 0, 0])"
      ]
     },
     "execution_count": 21,
     "metadata": {},
     "output_type": "execute_result"
    }
   ],
   "execution_count": 21
  }
 ],
 "metadata": {
  "kernelspec": {
   "display_name": "Python 3",
   "language": "python",
   "name": "python3"
  },
  "language_info": {
   "codemirror_mode": {
    "name": "ipython",
    "version": 2
   },
   "file_extension": ".py",
   "mimetype": "text/x-python",
   "name": "python",
   "nbconvert_exporter": "python",
   "pygments_lexer": "ipython2",
   "version": "2.7.6"
  }
 },
 "nbformat": 4,
 "nbformat_minor": 5
}
