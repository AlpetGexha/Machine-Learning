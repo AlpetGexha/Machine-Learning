{
 "cells": [
  {
   "metadata": {},
   "cell_type": "markdown",
   "source": [
    "### Multi-Class Sentiment Analysis\n",
    "\n",
    "Sentiment classifiers are used for binary classification (just positive or negative sentiment), and for good reason: Multi-class sentiment classification is a **_significantly_** **_more challenging_** task. A fine-grained sentiment can uses up to _five_ discrete classes. As one might imagine, models very easily err on either side of the strong/weak sentiment.\n",
    "\n",
    "![https://miro.medium.com/v2/resize:fit:875/1*ug8kyqUlnqEuo3LhHfNypg.png](data:image/png;base64,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)\n",
    "\n"
   ],
   "id": "4f1a9220d569f537"
  },
  {
   "metadata": {},
   "cell_type": "markdown",
   "source": "**Sentiment Analysis – tripadvisor Ratings**",
   "id": "fddc57a865f812bf"
  },
  {
   "metadata": {
    "ExecuteTime": {
     "end_time": "2024-11-07T17:55:45.846676Z",
     "start_time": "2024-11-07T17:55:44.474052Z"
    }
   },
   "cell_type": "code",
   "source": [
    "import pandas as pd\n",
    "\n",
    "df = pd.read_csv('tripadvisor.csv')\n",
    "df.head()\n",
    "\n",
    "df.shape"
   ],
   "id": "e802b54b292f13a2",
   "outputs": [
    {
     "data": {
      "text/plain": [
       "(20491, 2)"
      ]
     },
     "execution_count": 1,
     "metadata": {},
     "output_type": "execute_result"
    }
   ],
   "execution_count": 1
  },
  {
   "metadata": {
    "ExecuteTime": {
     "end_time": "2024-11-07T17:57:35.211934Z",
     "start_time": "2024-11-07T17:57:35.133312Z"
    }
   },
   "cell_type": "code",
   "source": [
    "# Classify the movies based on the rating\n",
    "\n",
    "def create_sentiment(rating):\n",
    "    if rating == 1 or rating == 2:\n",
    "        return -1  # negative sentiment\n",
    "    elif rating == 4 or rating == 5:\n",
    "        return 1  # positive sentiment\n",
    "    else:\n",
    "        return 0  # neutral sentiment\n",
    "\n",
    "\n",
    "df['Sentiment'] = df['Rating'].apply(create_sentiment)\n",
    "\n",
    "df.head()"
   ],
   "id": "647049502e2cab52",
   "outputs": [
    {
     "data": {
      "text/plain": [
       "                                              Review  Rating  Sentiment\n",
       "0  nice hotel expensive parking got good deal sta...       4          1\n",
       "1  ok nothing special charge diamond member hilto...       2         -1\n",
       "2  nice rooms not 4* experience hotel monaco seat...       3          0\n",
       "3  unique, great stay, wonderful time hotel monac...       5          1\n",
       "4  great stay great stay, went seahawk game aweso...       5          1"
      ],
      "text/html": [
       "<div>\n",
       "<style scoped>\n",
       "    .dataframe tbody tr th:only-of-type {\n",
       "        vertical-align: middle;\n",
       "    }\n",
       "\n",
       "    .dataframe tbody tr th {\n",
       "        vertical-align: top;\n",
       "    }\n",
       "\n",
       "    .dataframe thead th {\n",
       "        text-align: right;\n",
       "    }\n",
       "</style>\n",
       "<table border=\"1\" class=\"dataframe\">\n",
       "  <thead>\n",
       "    <tr style=\"text-align: right;\">\n",
       "      <th></th>\n",
       "      <th>Review</th>\n",
       "      <th>Rating</th>\n",
       "      <th>Sentiment</th>\n",
       "    </tr>\n",
       "  </thead>\n",
       "  <tbody>\n",
       "    <tr>\n",
       "      <th>0</th>\n",
       "      <td>nice hotel expensive parking got good deal sta...</td>\n",
       "      <td>4</td>\n",
       "      <td>1</td>\n",
       "    </tr>\n",
       "    <tr>\n",
       "      <th>1</th>\n",
       "      <td>ok nothing special charge diamond member hilto...</td>\n",
       "      <td>2</td>\n",
       "      <td>-1</td>\n",
       "    </tr>\n",
       "    <tr>\n",
       "      <th>2</th>\n",
       "      <td>nice rooms not 4* experience hotel monaco seat...</td>\n",
       "      <td>3</td>\n",
       "      <td>0</td>\n",
       "    </tr>\n",
       "    <tr>\n",
       "      <th>3</th>\n",
       "      <td>unique, great stay, wonderful time hotel monac...</td>\n",
       "      <td>5</td>\n",
       "      <td>1</td>\n",
       "    </tr>\n",
       "    <tr>\n",
       "      <th>4</th>\n",
       "      <td>great stay great stay, went seahawk game aweso...</td>\n",
       "      <td>5</td>\n",
       "      <td>1</td>\n",
       "    </tr>\n",
       "  </tbody>\n",
       "</table>\n",
       "</div>"
      ]
     },
     "execution_count": 6,
     "metadata": {},
     "output_type": "execute_result"
    }
   ],
   "execution_count": 6
  },
  {
   "metadata": {
    "ExecuteTime": {
     "end_time": "2024-11-07T17:57:40.397569Z",
     "start_time": "2024-11-07T17:57:40.350714Z"
    }
   },
   "cell_type": "code",
   "source": "df['Review'][0]",
   "id": "b28149a48d718cb5",
   "outputs": [
    {
     "data": {
      "text/plain": [
       "'nice hotel expensive parking got good deal stay hotel anniversary, arrived late evening took advice previous reviews did valet parking, check quick easy, little disappointed non-existent view room room clean nice size, bed comfortable woke stiff neck high pillows, not soundproof like heard music room night morning loud bangs doors opening closing hear people talking hallway, maybe just noisy neighbors, aveda bath products nice, did not goldfish stay nice touch taken advantage staying longer, location great walking distance shopping, overall nice experience having pay 40 parking night,  '"
      ]
     },
     "execution_count": 9,
     "metadata": {},
     "output_type": "execute_result"
    }
   ],
   "execution_count": 9
  },
  {
   "metadata": {
    "ExecuteTime": {
     "end_time": "2024-11-07T17:58:07.446503Z",
     "start_time": "2024-11-07T17:58:07.415252Z"
    }
   },
   "cell_type": "code",
   "source": [
    "from sklearn.feature_extraction.text import re\n",
    "\n",
    "\n",
    "def clean_data(review):\n",
    "    no_punc = re.sub(r'[^\\w\\s]', '', review)\n",
    "    no_digits = ''.join([i for i in no_punc if not i.isdigit()])\n",
    "\n",
    "    return no_digits"
   ],
   "id": "e3982f48817fd629",
   "outputs": [],
   "execution_count": 11
  },
  {
   "metadata": {
    "ExecuteTime": {
     "end_time": "2024-11-07T17:58:38.371135Z",
     "start_time": "2024-11-07T17:58:35.981466Z"
    }
   },
   "cell_type": "code",
   "source": [
    "df['Review'] = df['Review'].apply(clean_data)\n",
    "df['Review'][0]"
   ],
   "id": "33cb49d3d2f7c392",
   "outputs": [
    {
     "data": {
      "text/plain": [
       "'nice hotel expensive parking got good deal stay hotel anniversary arrived late evening took advice previous reviews did valet parking check quick easy little disappointed nonexistent view room room clean nice size bed comfortable woke stiff neck high pillows not soundproof like heard music room night morning loud bangs doors opening closing hear people talking hallway maybe just noisy neighbors aveda bath products nice did not goldfish stay nice touch taken advantage staying longer location great walking distance shopping overall nice experience having pay  parking night  '"
      ]
     },
     "execution_count": 13,
     "metadata": {},
     "output_type": "execute_result"
    }
   ],
   "execution_count": 13
  },
  {
   "metadata": {
    "ExecuteTime": {
     "end_time": "2024-11-07T18:02:36.230534Z",
     "start_time": "2024-11-07T18:02:32.866110Z"
    }
   },
   "cell_type": "code",
   "source": [
    "# TF-IDF Transformation\n",
    "from sklearn.feature_extraction.text import TfidfVectorizer\n",
    "\n",
    "tfidf = TfidfVectorizer(\n",
    "    strip_accents=None,\n",
    "    lowercase=False,\n",
    "    preprocessor=None\n",
    ")\n",
    "\n",
    "X = tfidf.fit_transform(df['Review'])"
   ],
   "id": "1d5a7a382e570c8f",
   "outputs": [],
   "execution_count": 21
  },
  {
   "metadata": {
    "ExecuteTime": {
     "end_time": "2024-11-07T18:03:04.961505Z",
     "start_time": "2024-11-07T18:03:04.879793Z"
    }
   },
   "cell_type": "code",
   "source": [
    "from sklearn.model_selection import train_test_split\n",
    "\n",
    "y = df['Sentiment']  # target variable\n",
    "\n",
    "# Splitting Data\n",
    "X_train, X_test, y_train, y_test = train_test_split(X, y, test_size=0.25, random_state=0)"
   ],
   "id": "47cefeafad296273",
   "outputs": [],
   "execution_count": 25
  },
  {
   "metadata": {
    "ExecuteTime": {
     "end_time": "2024-11-07T18:03:47.239640Z",
     "start_time": "2024-11-07T18:03:45.612717Z"
    }
   },
   "cell_type": "code",
   "source": [
    "from sklearn.linear_model import LogisticRegression\n",
    "\n",
    "model = LogisticRegression(solver='liblinear')\n",
    "model.fit(X_train, y_train)  # fit the model\n",
    "preds = model.predict(X_test)  # make predictions"
   ],
   "id": "8849f04cff365a7b",
   "outputs": [],
   "execution_count": 30
  },
  {
   "metadata": {
    "ExecuteTime": {
     "end_time": "2024-11-07T18:04:52.286321Z",
     "start_time": "2024-11-07T18:04:52.262360Z"
    }
   },
   "cell_type": "code",
   "source": [
    "from sklearn.metrics import accuracy_score\n",
    "\n",
    "accuracy_score(preds, y_test)"
   ],
   "id": "4d0a6bf9b88c9836",
   "outputs": [
    {
     "data": {
      "text/plain": [
       "0.8477454616435682"
      ]
     },
     "execution_count": 38,
     "metadata": {},
     "output_type": "execute_result"
    }
   ],
   "execution_count": 38
  },
  {
   "metadata": {
    "ExecuteTime": {
     "end_time": "2024-11-07T18:06:57.625457Z",
     "start_time": "2024-11-07T18:06:57.270031Z"
    }
   },
   "cell_type": "code",
   "source": [
    "import matplotlib.pyplot as plt\n",
    "\n",
    "from sklearn.metrics import confusion_matrix, ConfusionMatrixDisplay\n",
    "\n",
    "cm = confusion_matrix(y_test, preds, labels=model.classes_)\n",
    "disp = ConfusionMatrixDisplay(confusion_matrix=cm, display_labels=model.classes_)\n",
    "disp.plot(\n",
    "    values_format='d',\n",
    "    cmap='Blues'\n",
    ")\n",
    "plt.tight_layout()\n",
    "plt.title('Confusion matrix', y=1.1)\n",
    "plt.show()\n"
   ],
   "id": "de51f17b98c0afdf",
   "outputs": [
    {
     "data": {
      "text/plain": [
       "<Figure size 640x480 with 2 Axes>"
      ],
      "image/png": "[encoded data removed]"
     },
     "metadata": {},
     "output_type": "display_data"
    }
   ],
   "execution_count": 51
  },
  {
   "metadata": {
    "ExecuteTime": {
     "end_time": "2024-11-07T18:23:40.496788Z",
     "start_time": "2024-11-07T18:23:40.455458Z"
    }
   },
   "cell_type": "code",
   "source": [
    "# Evaluating the Algorithm\n",
    "from sklearn.metrics import classification_report, confusion_matrix\n",
    "\n",
    "print(confusion_matrix(y_test, preds))\n",
    "print(classification_report(y_test, preds))"
   ],
   "id": "18185a84434cb43a",
   "outputs": [
    {
     "name": "stdout",
     "output_type": "stream",
     "text": [
      "[[ 586    9  187]\n",
      " [ 126   48  411]\n",
      " [  25   22 3709]]\n",
      "              precision    recall  f1-score   support\n",
      "\n",
      "          -1       0.80      0.75      0.77       782\n",
      "           0       0.61      0.08      0.14       585\n",
      "           1       0.86      0.99      0.92      3756\n",
      "\n",
      "    accuracy                           0.85      5123\n",
      "   macro avg       0.75      0.61      0.61      5123\n",
      "weighted avg       0.82      0.85      0.81      5123\n",
      "\n"
     ]
    }
   ],
   "execution_count": 53
  }
 ],
 "metadata": {
  "kernelspec": {
   "display_name": "Python 3",
   "language": "python",
   "name": "python3"
  },
  "language_info": {
   "codemirror_mode": {
    "name": "ipython",
    "version": 2
   },
   "file_extension": ".py",
   "mimetype": "text/x-python",
   "name": "python",
   "nbconvert_exporter": "python",
   "pygments_lexer": "ipython2",
   "version": "2.7.6"
  }
 },
 "nbformat": 4,
 "nbformat_minor": 5
}
