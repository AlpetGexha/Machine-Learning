{
 "cells": [
  {
   "cell_type": "code",
   "id": "initial_id",
   "metadata": {
    "collapsed": true,
    "ExecuteTime": {
     "end_time": "2024-11-07T18:39:02.719475Z",
     "start_time": "2024-11-07T18:39:02.695421Z"
    }
   },
   "source": [
    "# Importing TextBlob\n",
    "from textblob import TextBlob\n",
    "\n",
    "# Preparing an input sentence\n",
    "sentence = \"The platform provides universal access to the world's best education, partnering with top universities and organizations to offer courses online.\"\n",
    "\n",
    "# Creating a textblob object and assigning the sentiment property\n",
    "analysis = TextBlob(sentence).sentiment\n",
    "print(analysis)"
   ],
   "outputs": [
    {
     "name": "stdout",
     "output_type": "stream",
     "text": [
      "Sentiment(polarity=0.5, subjectivity=0.26666666666666666)\n"
     ]
    }
   ],
   "execution_count": 2
  },
  {
   "metadata": {
    "ExecuteTime": {
     "end_time": "2024-11-07T18:39:27.424928Z",
     "start_time": "2024-11-07T18:39:27.393251Z"
    }
   },
   "cell_type": "code",
   "source": [
    "# Preparing an input sentence\n",
    "sentence = \"The platform provides universal access to the world's best education, partnering with top universities and organizations to offer courses online.\"\n",
    "\n",
    "analysisPol = TextBlob(sentence).polarity\n",
    "analysisSub = TextBlob(sentence).subjectivity\n",
    "\n",
    "print(analysisPol)\n",
    "print(analysisSub)"
   ],
   "id": "c07b00391f5295be",
   "outputs": [
    {
     "name": "stdout",
     "output_type": "stream",
     "text": [
      "0.5\n",
      "0.26666666666666666\n"
     ]
    }
   ],
   "execution_count": 4
  }
 ],
 "metadata": {
  "kernelspec": {
   "display_name": "Python 3",
   "language": "python",
   "name": "python3"
  },
  "language_info": {
   "codemirror_mode": {
    "name": "ipython",
    "version": 2
   },
   "file_extension": ".py",
   "mimetype": "text/x-python",
   "name": "python",
   "nbconvert_exporter": "python",
   "pygments_lexer": "ipython2",
   "version": "2.7.6"
  }
 },
 "nbformat": 4,
 "nbformat_minor": 5
}
