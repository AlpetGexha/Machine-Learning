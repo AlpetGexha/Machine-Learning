{
 "cells": [
  {
   "cell_type": "code",
   "execution_count": null,
   "metadata": {},
   "outputs": [],
   "source": [
    "# Example: Breusch-Pagan Test in Python\n",
    "# For this example we’ll use the following dataset that describes the attributes of 10 basketball players"
   ]
  },
  {
   "cell_type": "code",
   "execution_count": 3,
   "metadata": {},
   "outputs": [
    {
     "data": {
      "text/html": [
       "<div>\n",
       "<style scoped>\n",
       "    .dataframe tbody tr th:only-of-type {\n",
       "        vertical-align: middle;\n",
       "    }\n",
       "\n",
       "    .dataframe tbody tr th {\n",
       "        vertical-align: top;\n",
       "    }\n",
       "\n",
       "    .dataframe thead th {\n",
       "        text-align: right;\n",
       "    }\n",
       "</style>\n",
       "<table border=\"1\" class=\"dataframe\">\n",
       "  <thead>\n",
       "    <tr style=\"text-align: right;\">\n",
       "      <th></th>\n",
       "      <th>rating</th>\n",
       "      <th>points</th>\n",
       "      <th>assists</th>\n",
       "      <th>rebounds</th>\n",
       "    </tr>\n",
       "  </thead>\n",
       "  <tbody>\n",
       "    <tr>\n",
       "      <th>0</th>\n",
       "      <td>90</td>\n",
       "      <td>25</td>\n",
       "      <td>5</td>\n",
       "      <td>11</td>\n",
       "    </tr>\n",
       "    <tr>\n",
       "      <th>1</th>\n",
       "      <td>85</td>\n",
       "      <td>20</td>\n",
       "      <td>7</td>\n",
       "      <td>8</td>\n",
       "    </tr>\n",
       "    <tr>\n",
       "      <th>2</th>\n",
       "      <td>82</td>\n",
       "      <td>14</td>\n",
       "      <td>7</td>\n",
       "      <td>10</td>\n",
       "    </tr>\n",
       "    <tr>\n",
       "      <th>3</th>\n",
       "      <td>88</td>\n",
       "      <td>16</td>\n",
       "      <td>8</td>\n",
       "      <td>6</td>\n",
       "    </tr>\n",
       "    <tr>\n",
       "      <th>4</th>\n",
       "      <td>94</td>\n",
       "      <td>27</td>\n",
       "      <td>5</td>\n",
       "      <td>6</td>\n",
       "    </tr>\n",
       "    <tr>\n",
       "      <th>5</th>\n",
       "      <td>90</td>\n",
       "      <td>20</td>\n",
       "      <td>7</td>\n",
       "      <td>9</td>\n",
       "    </tr>\n",
       "    <tr>\n",
       "      <th>6</th>\n",
       "      <td>76</td>\n",
       "      <td>12</td>\n",
       "      <td>6</td>\n",
       "      <td>6</td>\n",
       "    </tr>\n",
       "    <tr>\n",
       "      <th>7</th>\n",
       "      <td>75</td>\n",
       "      <td>15</td>\n",
       "      <td>9</td>\n",
       "      <td>10</td>\n",
       "    </tr>\n",
       "    <tr>\n",
       "      <th>8</th>\n",
       "      <td>87</td>\n",
       "      <td>14</td>\n",
       "      <td>9</td>\n",
       "      <td>10</td>\n",
       "    </tr>\n",
       "    <tr>\n",
       "      <th>9</th>\n",
       "      <td>86</td>\n",
       "      <td>19</td>\n",
       "      <td>5</td>\n",
       "      <td>7</td>\n",
       "    </tr>\n",
       "  </tbody>\n",
       "</table>\n",
       "</div>"
      ],
      "text/plain": [
       "   rating  points  assists  rebounds\n",
       "0      90      25        5        11\n",
       "1      85      20        7         8\n",
       "2      82      14        7        10\n",
       "3      88      16        8         6\n",
       "4      94      27        5         6\n",
       "5      90      20        7         9\n",
       "6      76      12        6         6\n",
       "7      75      15        9        10\n",
       "8      87      14        9        10\n",
       "9      86      19        5         7"
      ]
     },
     "execution_count": 3,
     "metadata": {},
     "output_type": "execute_result"
    }
   ],
   "source": [
    "import numpy as np\n",
    "import pandas as pd\n",
    "\n",
    "#create dataset\n",
    "df = pd.DataFrame({'rating': [90, 85, 82, 88, 94, 90, 76, 75, 87, 86],\n",
    "                   'points': [25, 20, 14, 16, 27, 20, 12, 15, 14, 19],\n",
    "                   'assists': [5, 7, 7, 8, 5, 7, 6, 9, 9, 5],\n",
    "                   'rebounds': [11, 8, 10, 6, 6, 9, 6, 10, 10, 7]})\n",
    "\n",
    "#view dataset\n",
    "df"
   ]
  },
  {
   "cell_type": "markdown",
   "metadata": {},
   "source": [
    "# Step 1: Fit a multiple linear regression model.\n",
    "# First, we’ll fit a multiple linear regression model:\n",
    "\n",
    "Dependent variable: Dependent variable is one that is going to depend on other variables. \n",
    "In this regression analysis Y (rating) is our dependent variable because we want to analyse the effect of \n",
    "X (points – assists - rebounds) on Y (rating).\n",
    "Model: The method of Ordinary Least Squares(OLS) is most widely used model due to its efficiency. \n",
    "This model gives best approximate of true population regression line. The principle of OLS is to minimize the square of errors ( ∑ei2 ).\n",
    "Number of observations: The number of observation is the size of our sample, i.e. N = 10.\n",
    "\n"
   ]
  },
  {
   "cell_type": "code",
   "execution_count": 4,
   "metadata": {},
   "outputs": [
    {
     "name": "stdout",
     "output_type": "stream",
     "text": [
      "                            OLS Regression Results                            \n",
      "==============================================================================\n",
      "Dep. Variable:                 rating   R-squared:                       0.623\n",
      "Model:                            OLS   Adj. R-squared:                  0.434\n",
      "Method:                 Least Squares   F-statistic:                     3.299\n",
      "Date:                Tue, 10 Dec 2024   Prob (F-statistic):             0.0995\n",
      "Time:                        19:01:19   Log-Likelihood:                -26.862\n",
      "No. Observations:                  10   AIC:                             61.72\n",
      "Df Residuals:                       6   BIC:                             62.93\n",
      "Df Model:                           3                                         \n",
      "Covariance Type:            nonrobust                                         \n",
      "==============================================================================\n",
      "                 coef    std err          t      P>|t|      [0.025      0.975]\n",
      "------------------------------------------------------------------------------\n",
      "Intercept     62.4716     14.588      4.282      0.005      26.776      98.168\n",
      "points         1.1193      0.411      2.724      0.034       0.114       2.125\n",
      "assists        0.8834      1.381      0.640      0.546      -2.495       4.262\n",
      "rebounds      -0.4278      0.851     -0.503      0.633      -2.510       1.655\n",
      "==============================================================================\n",
      "Omnibus:                        2.711   Durbin-Watson:                   2.392\n",
      "Prob(Omnibus):                  0.258   Jarque-Bera (JB):                0.945\n",
      "Skew:                          -0.751   Prob(JB):                        0.624\n",
      "Kurtosis:                       3.115   Cond. No.                         217.\n",
      "==============================================================================\n",
      "\n",
      "Notes:\n",
      "[1] Standard Errors assume that the covariance matrix of the errors is correctly specified.\n"
     ]
    },
    {
     "name": "stderr",
     "output_type": "stream",
     "text": [
      "C:\\Users\\esoft\\AppData\\Local\\Packages\\PythonSoftwareFoundation.Python.3.11_qbz5n2kfra8p0\\LocalCache\\local-packages\\Python311\\site-packages\\scipy\\stats\\_stats_py.py:1806: UserWarning: kurtosistest only valid for n>=20 ... continuing anyway, n=10\n",
      "  warnings.warn(\"kurtosistest only valid for n>=20 ... continuing \"\n"
     ]
    }
   ],
   "source": [
    "import statsmodels.formula.api as smf\n",
    "\n",
    "#fit regression model\n",
    "fit = smf.ols('rating ~ points+assists+rebounds', data=df).fit()\n",
    "\n",
    "#view model summary\n",
    "print(fit.summary())"
   ]
  },
  {
   "cell_type": "code",
   "execution_count": 7,
   "metadata": {},
   "outputs": [
    {
     "data": {
      "text/plain": [
       "(['Lagrange multiplier statistic', 'p-value', 'f-value', 'f p-value'],\n",
       " (6.003951995818434,\n",
       "  0.11141811013399579,\n",
       "  3.004944880309619,\n",
       "  0.11663863538255272))"
      ]
     },
     "execution_count": 7,
     "metadata": {},
     "output_type": "execute_result"
    }
   ],
   "source": [
    "# Next, we’ll perform a Breusch-Pagan test to determine if heteroscedasticity is present.\n",
    "# Use het_breuschpagan(model.resid, model.model.exog) to perform the Breusch-Pagan test.\n",
    "# model.resid: Residuals from the fitted model.\n",
    "# model.model.exog: Exogenous variables (independent variables) of the model.\n",
    "from statsmodels.stats.diagnostic import het_breuschpagan\n",
    "\n",
    "#perform Bresuch-Pagan test\n",
    "names = ['Lagrange multiplier statistic', 'p-value', 'f-value', 'f p-value']\n",
    "test = het_breuschpagan(fit.resid, fit.model.exog)\n",
    "\n",
    "(names, test)"
   ]
  },
  {
   "cell_type": "markdown",
   "metadata": {},
   "source": [
    "A Breusch-Pagan test uses the following null and alternative hypotheses:\n",
    "\n",
    "The null hypothesis (H0): Homoscedasticity is present.\n",
    "\n",
    "The alternative hypothesis: (Ha): Homoscedasticity is not present (i.e. heteroscedasticity exists)\n",
    "\n",
    "\n",
    "In this example, the Lagrange multiplier statistic for the test is 6.004 and the corresponding p-value is 0.1114.\n",
    "Because this p-value is not less than 0.05, we fail to reject the null hypothesis. \n",
    "We do not have sufficient evidence to say that heteroscedasticity is present in the regression model."
   ]
  }
 ],
 "metadata": {
  "kernelspec": {
   "display_name": "Python 3",
   "language": "python",
   "name": "python3"
  },
  "language_info": {
   "codemirror_mode": {
    "name": "ipython",
    "version": 3
   },
   "file_extension": ".py",
   "mimetype": "text/x-python",
   "name": "python",
   "nbconvert_exporter": "python",
   "pygments_lexer": "ipython3",
   "version": "3.11.9"
  }
 },
 "nbformat": 4,
 "nbformat_minor": 2
}
