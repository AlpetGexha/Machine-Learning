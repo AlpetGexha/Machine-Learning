{
 "cells": [
  {
   "cell_type": "code",
   "execution_count": 1,
   "metadata": {},
   "outputs": [],
   "source": [
    "import matplotlib.pyplot as plt\n",
    "import numpy as np\n",
    "import pandas as pd\n",
    "from sklearn import datasets, linear_model\n",
    "from sklearn.metrics import mean_squared_error, r2_score\n",
    "from sklearn.linear_model import LinearRegression\n",
    "import statsmodels.formula.api as smf\n",
    "import statsmodels.api as sm"
   ]
  },
  {
   "cell_type": "code",
   "execution_count": 2,
   "metadata": {},
   "outputs": [
    {
     "data": {
      "text/html": [
       "<div>\n",
       "<style scoped>\n",
       "    .dataframe tbody tr th:only-of-type {\n",
       "        vertical-align: middle;\n",
       "    }\n",
       "\n",
       "    .dataframe tbody tr th {\n",
       "        vertical-align: top;\n",
       "    }\n",
       "\n",
       "    .dataframe thead th {\n",
       "        text-align: right;\n",
       "    }\n",
       "</style>\n",
       "<table border=\"1\" class=\"dataframe\">\n",
       "  <thead>\n",
       "    <tr style=\"text-align: right;\">\n",
       "      <th></th>\n",
       "      <th>Date</th>\n",
       "      <th>Open</th>\n",
       "      <th>High</th>\n",
       "      <th>Low</th>\n",
       "      <th>Close</th>\n",
       "      <th>Adj Close</th>\n",
       "      <th>Volume</th>\n",
       "    </tr>\n",
       "  </thead>\n",
       "  <tbody>\n",
       "    <tr>\n",
       "      <th>0</th>\n",
       "      <td>2019-01-02</td>\n",
       "      <td>37.470001</td>\n",
       "      <td>38.740002</td>\n",
       "      <td>37.410000</td>\n",
       "      <td>38.590000</td>\n",
       "      <td>32.781559</td>\n",
       "      <td>5537100</td>\n",
       "    </tr>\n",
       "    <tr>\n",
       "      <th>1</th>\n",
       "      <td>2019-01-03</td>\n",
       "      <td>38.959999</td>\n",
       "      <td>39.060001</td>\n",
       "      <td>38.480000</td>\n",
       "      <td>38.810001</td>\n",
       "      <td>32.968441</td>\n",
       "      <td>7137300</td>\n",
       "    </tr>\n",
       "    <tr>\n",
       "      <th>2</th>\n",
       "      <td>2019-01-04</td>\n",
       "      <td>39.570000</td>\n",
       "      <td>40.080002</td>\n",
       "      <td>39.419998</td>\n",
       "      <td>40.029999</td>\n",
       "      <td>34.004814</td>\n",
       "      <td>9336700</td>\n",
       "    </tr>\n",
       "    <tr>\n",
       "      <th>3</th>\n",
       "      <td>2019-01-07</td>\n",
       "      <td>39.700001</td>\n",
       "      <td>40.310001</td>\n",
       "      <td>39.580002</td>\n",
       "      <td>40.160000</td>\n",
       "      <td>34.115242</td>\n",
       "      <td>6114300</td>\n",
       "    </tr>\n",
       "    <tr>\n",
       "      <th>4</th>\n",
       "      <td>2019-01-08</td>\n",
       "      <td>40.180000</td>\n",
       "      <td>40.259998</td>\n",
       "      <td>39.830002</td>\n",
       "      <td>40.029999</td>\n",
       "      <td>34.004814</td>\n",
       "      <td>5654900</td>\n",
       "    </tr>\n",
       "  </tbody>\n",
       "</table>\n",
       "</div>"
      ],
      "text/plain": [
       "         Date       Open       High        Low      Close  Adj Close   Volume\n",
       "0  2019-01-02  37.470001  38.740002  37.410000  38.590000  32.781559  5537100\n",
       "1  2019-01-03  38.959999  39.060001  38.480000  38.810001  32.968441  7137300\n",
       "2  2019-01-04  39.570000  40.080002  39.419998  40.029999  34.004814  9336700\n",
       "3  2019-01-07  39.700001  40.310001  39.580002  40.160000  34.115242  6114300\n",
       "4  2019-01-08  40.180000  40.259998  39.830002  40.029999  34.004814  5654900"
      ]
     },
     "execution_count": 2,
     "metadata": {},
     "output_type": "execute_result"
    }
   ],
   "source": [
    "import matplotlib.pyplot as plt\n",
    "import pandas as pd\n",
    "data = pd.read_csv(\"dataset2.csv\")\n",
    "data.head()\n"
   ]
  },
  {
   "cell_type": "code",
   "execution_count": 3,
   "metadata": {},
   "outputs": [
    {
     "name": "stdout",
     "output_type": "stream",
     "text": [
      "<class 'pandas.core.frame.DataFrame'>\n",
      "RangeIndex: 607 entries, 0 to 606\n",
      "Data columns (total 7 columns):\n",
      " #   Column     Non-Null Count  Dtype  \n",
      "---  ------     --------------  -----  \n",
      " 0   Date       607 non-null    object \n",
      " 1   Open       607 non-null    float64\n",
      " 2   High       607 non-null    float64\n",
      " 3   Low        607 non-null    float64\n",
      " 4   Close      607 non-null    float64\n",
      " 5   Adj Close  607 non-null    float64\n",
      " 6   Volume     607 non-null    int64  \n",
      "dtypes: float64(5), int64(1), object(1)\n",
      "memory usage: 33.3+ KB\n"
     ]
    }
   ],
   "source": [
    "data.info()"
   ]
  },
  {
   "cell_type": "code",
   "execution_count": 5,
   "metadata": {},
   "outputs": [],
   "source": [
    "#  Use only one feature\n",
    "open_prices = data['Open']\n",
    "close_prices = data['Close']"
   ]
  },
  {
   "cell_type": "code",
   "execution_count": 6,
   "metadata": {},
   "outputs": [],
   "source": [
    "# Split the data into training/testing sets\n",
    "open_prices_train = np.array(open_prices[:400]).reshape((-1, 1))\n",
    "open_prices_test = np.array(open_prices[400:]).reshape((-1, 1))"
   ]
  },
  {
   "cell_type": "code",
   "execution_count": 7,
   "metadata": {},
   "outputs": [],
   "source": [
    "# Split the targets into training/testing sets\n",
    "close_prices_train = close_prices[:400]\n",
    "close_prices_test = close_prices[400:]"
   ]
  },
  {
   "cell_type": "code",
   "execution_count": 8,
   "metadata": {},
   "outputs": [],
   "source": [
    "# Create linear regression object\n",
    "regr = linear_model.LinearRegression()\n",
    "\n",
    "# Train the model using the training sets\n",
    "regr.fit(open_prices_train, close_prices_train)\n",
    "\n",
    "# Make predictions using the testing set\n",
    "close_prices_pred = regr.predict(open_prices_test)"
   ]
  },
  {
   "cell_type": "code",
   "execution_count": 9,
   "metadata": {},
   "outputs": [
    {
     "name": "stdout",
     "output_type": "stream",
     "text": [
      "Coefficients: \n",
      " [1.00013745] -0.049555174904597266\n",
      "Mean squared error: 0.11\n"
     ]
    }
   ],
   "source": [
    "\n",
    "# The coefficients\n",
    "print(\"Coefficients: \\n\", regr.coef_, regr.intercept_)\n",
    "\n",
    "# The mean squared error\n",
    "print(\"Mean squared error: %.2f\" % mean_squared_error(close_prices_test, close_prices_pred))"
   ]
  },
  {
   "cell_type": "code",
   "execution_count": 10,
   "metadata": {},
   "outputs": [
    {
     "name": "stdout",
     "output_type": "stream",
     "text": [
      "Coefficient of determination: 0.99\n"
     ]
    }
   ],
   "source": [
    "# The coefficient of determination: 1 is perfect prediction\n",
    "print(\"Coefficient of determination: %.2f\" % r2_score(close_prices_test, close_prices_pred))"
   ]
  },
  {
   "cell_type": "code",
   "execution_count": 11,
   "metadata": {},
   "outputs": [
    {
     "data": {
      "image/png": "[encoded data removed]",
      "text/plain": [
       "<Figure size 640x480 with 1 Axes>"
      ]
     },
     "metadata": {},
     "output_type": "display_data"
    }
   ],
   "source": [
    "# Plot outputs\n",
    "plt.scatter(open_prices_test, close_prices_test, color=\"black\")\n",
    "plt.plot(open_prices_test, close_prices_pred, color=\"blue\", linewidth=3)\n",
    "plt.xticks(())\n",
    "plt.xlabel(\"Real Data\")\n",
    "plt.yticks(())\n",
    "plt.ylabel(\"Predict Data\")\n",
    "plt.show()"
   ]
  },
  {
   "cell_type": "code",
   "execution_count": 12,
   "metadata": {},
   "outputs": [
    {
     "data": {
      "image/png": "[encoded data removed]",
      "text/plain": [
       "<Figure size 640x480 with 1 Axes>"
      ]
     },
     "metadata": {},
     "output_type": "display_data"
    }
   ],
   "source": [
    "import matplotlib.pyplot as plt\n",
    "data = pd.read_csv(\"dataset2.csv\")\n",
    "fig = plt.figure()\n",
    " # grapth margins and size xmin, ymin, width, and height \n",
    "ax1 = fig.add_axes([0.1,0.1,0.8,0.8])\n",
    "ax1.plot(data['Close'])\n",
    "ax1.set_xlabel(\"Date\") \n",
    "ax1.set_ylabel(\"Prices\")\n",
    "ax1.set_title(\"Close prices data\") \n",
    "plt.show()"
   ]
  },
  {
   "cell_type": "code",
   "execution_count": 13,
   "metadata": {},
   "outputs": [],
   "source": [
    "# Heteroscedasticity Testing\n",
    "\n",
    "# Dependent variable Y\n",
    "Y = data['Close']\n",
    "\n",
    "#Open + Volume = independent variables X\n",
    "X = data[['Open','Volume']]"
   ]
  },
  {
   "cell_type": "code",
   "execution_count": 14,
   "metadata": {},
   "outputs": [],
   "source": [
    "# #fit regression model\n",
    "# model = sm.OLS(Y, X).fit()\n",
    "\n",
    "fit = smf.ols('Close ~ Open+Volume', data=data).fit()"
   ]
  },
  {
   "cell_type": "code",
   "execution_count": 15,
   "metadata": {},
   "outputs": [
    {
     "name": "stdout",
     "output_type": "stream",
     "text": [
      "                            OLS Regression Results                            \n",
      "==============================================================================\n",
      "Dep. Variable:                  Close   R-squared:                       0.999\n",
      "Model:                            OLS   Adj. R-squared:                  0.999\n",
      "Method:                 Least Squares   F-statistic:                 2.023e+05\n",
      "Date:                Tue, 10 Dec 2024   Prob (F-statistic):               0.00\n",
      "Time:                        19:12:27   Log-Likelihood:                -220.96\n",
      "No. Observations:                 607   AIC:                             447.9\n",
      "Df Residuals:                     604   BIC:                             461.2\n",
      "Df Model:                           2                                         \n",
      "Covariance Type:            nonrobust                                         \n",
      "==============================================================================\n",
      "                 coef    std err          t      P>|t|      [0.025      0.975]\n",
      "------------------------------------------------------------------------------\n",
      "Intercept     -0.0847      0.089     -0.952      0.341      -0.259       0.090\n",
      "Open           1.0008      0.002    481.417      0.000       0.997       1.005\n",
      "Volume      1.774e-09   2.76e-09      0.642      0.521   -3.65e-09     7.2e-09\n",
      "==============================================================================\n",
      "Omnibus:                       22.949   Durbin-Watson:                   2.085\n",
      "Prob(Omnibus):                  0.000   Jarque-Bera (JB):               52.114\n",
      "Skew:                           0.141   Prob(JB):                     4.83e-12\n",
      "Kurtosis:                       4.408   Cond. No.                     8.24e+07\n",
      "==============================================================================\n",
      "\n",
      "Notes:\n",
      "[1] Standard Errors assume that the covariance matrix of the errors is correctly specified.\n",
      "[2] The condition number is large, 8.24e+07. This might indicate that there are\n",
      "strong multicollinearity or other numerical problems.\n"
     ]
    }
   ],
   "source": [
    "#view model summary\n",
    "print(fit.summary())"
   ]
  },
  {
   "cell_type": "code",
   "execution_count": 18,
   "metadata": {},
   "outputs": [
    {
     "data": {
      "text/plain": [
       "[('Lagrange multiplier statistic', 57.990110388181066),\n",
       " ('p-value', 2.556274729341133e-13),\n",
       " ('f-value', 31.899267515223393),\n",
       " ('f p-value', 6.764347982828124e-14)]"
      ]
     },
     "execution_count": 18,
     "metadata": {},
     "output_type": "execute_result"
    }
   ],
   "source": [
    "from statsmodels.compat import lzip\n",
    "import statsmodels.stats.api as sms\n",
    "#perform Bresuch-Pagan test\n",
    "names = ['Lagrange multiplier statistic', 'p-value', 'f-value', 'f p-value']\n",
    "test = sms.het_breuschpagan(fit.resid, fit.model.exog)\n",
    "lzip(names, test)"
   ]
  },
  {
   "cell_type": "code",
   "execution_count": 19,
   "metadata": {},
   "outputs": [
    {
     "data": {
      "text/html": [
       "<div>\n",
       "<style scoped>\n",
       "    .dataframe tbody tr th:only-of-type {\n",
       "        vertical-align: middle;\n",
       "    }\n",
       "\n",
       "    .dataframe tbody tr th {\n",
       "        vertical-align: top;\n",
       "    }\n",
       "\n",
       "    .dataframe thead th {\n",
       "        text-align: right;\n",
       "    }\n",
       "</style>\n",
       "<table border=\"1\" class=\"dataframe\">\n",
       "  <thead>\n",
       "    <tr style=\"text-align: right;\">\n",
       "      <th></th>\n",
       "      <th>food_exp</th>\n",
       "      <th>income</th>\n",
       "      <th>incomebc</th>\n",
       "    </tr>\n",
       "  </thead>\n",
       "  <tbody>\n",
       "    <tr>\n",
       "      <th>0</th>\n",
       "      <td>115.22</td>\n",
       "      <td>3.69</td>\n",
       "      <td>1.305626</td>\n",
       "    </tr>\n",
       "    <tr>\n",
       "      <th>1</th>\n",
       "      <td>135.98</td>\n",
       "      <td>4.39</td>\n",
       "      <td>1.479329</td>\n",
       "    </tr>\n",
       "    <tr>\n",
       "      <th>2</th>\n",
       "      <td>119.34</td>\n",
       "      <td>4.75</td>\n",
       "      <td>1.558145</td>\n",
       "    </tr>\n",
       "    <tr>\n",
       "      <th>3</th>\n",
       "      <td>114.96</td>\n",
       "      <td>6.03</td>\n",
       "      <td>1.796747</td>\n",
       "    </tr>\n",
       "    <tr>\n",
       "      <th>4</th>\n",
       "      <td>187.05</td>\n",
       "      <td>12.47</td>\n",
       "      <td>2.523326</td>\n",
       "    </tr>\n",
       "  </tbody>\n",
       "</table>\n",
       "</div>"
      ],
      "text/plain": [
       "   food_exp  income  incomebc\n",
       "0    115.22    3.69  1.305626\n",
       "1    135.98    4.39  1.479329\n",
       "2    119.34    4.75  1.558145\n",
       "3    114.96    6.03  1.796747\n",
       "4    187.05   12.47  2.523326"
      ]
     },
     "execution_count": 19,
     "metadata": {},
     "output_type": "execute_result"
    }
   ],
   "source": [
    "datafood = pd.read_csv(\"food.csv\")\n",
    "datafood.head()"
   ]
  },
  {
   "cell_type": "code",
   "execution_count": 21,
   "metadata": {},
   "outputs": [],
   "source": [
    "# Heteroscedasticity Testing\n",
    "\n",
    "# Dependent variable Y\n",
    "Y = datafood['income']\n",
    "\n",
    "#Open + Volume = independent variables X\n",
    "X = datafood['food_exp']"
   ]
  },
  {
   "cell_type": "code",
   "execution_count": 22,
   "metadata": {},
   "outputs": [],
   "source": [
    "# #fit regression model\n",
    "model = sm.OLS(Y, X).fit()\n",
    "\n",
    "# fit = smf.ols('Close ~ Open+Volume', data=data).fit()"
   ]
  },
  {
   "cell_type": "code",
   "execution_count": 23,
   "metadata": {},
   "outputs": [
    {
     "name": "stdout",
     "output_type": "stream",
     "text": [
      "                                 OLS Regression Results                                \n",
      "=======================================================================================\n",
      "Dep. Variable:                 income   R-squared (uncentered):                   0.910\n",
      "Model:                            OLS   Adj. R-squared (uncentered):              0.908\n",
      "Method:                 Least Squares   F-statistic:                              394.3\n",
      "Date:                Tue, 10 Dec 2024   Prob (F-statistic):                    5.39e-22\n",
      "Time:                        19:16:36   Log-Likelihood:                         -129.88\n",
      "No. Observations:                  40   AIC:                                      261.8\n",
      "Df Residuals:                      39   BIC:                                      263.4\n",
      "Df Model:                           1                                                  \n",
      "Covariance Type:            nonrobust                                                  \n",
      "==============================================================================\n",
      "                 coef    std err          t      P>|t|      [0.025      0.975]\n",
      "------------------------------------------------------------------------------\n",
      "food_exp       0.0649      0.003     19.856      0.000       0.058       0.072\n",
      "==============================================================================\n",
      "Omnibus:                        3.084   Durbin-Watson:                   1.561\n",
      "Prob(Omnibus):                  0.214   Jarque-Bera (JB):                2.812\n",
      "Skew:                           0.631   Prob(JB):                        0.245\n",
      "Kurtosis:                       2.694   Cond. No.                         1.00\n",
      "==============================================================================\n",
      "\n",
      "Notes:\n",
      "[1] R² is computed without centering (uncentered) since the model does not contain a constant.\n",
      "[2] Standard Errors assume that the covariance matrix of the errors is correctly specified.\n"
     ]
    }
   ],
   "source": [
    "#view model summary\n",
    "print(model.summary())"
   ]
  },
  {
   "cell_type": "code",
   "execution_count": 24,
   "metadata": {},
   "outputs": [
    {
     "data": {
      "text/plain": [
       "[('Lagrange multiplier statistic', 57.990110388181066),\n",
       " ('p-value', 2.556274729341133e-13),\n",
       " ('f-value', 31.899267515223393),\n",
       " ('f p-value', 6.764347982828124e-14)]"
      ]
     },
     "execution_count": 24,
     "metadata": {},
     "output_type": "execute_result"
    }
   ],
   "source": [
    "from statsmodels.compat import lzip\n",
    "#perform Bresuch-Pagan test\n",
    "names = ['Lagrange multiplier statistic', 'p-value', 'f-value', 'f p-value']\n",
    "test = sms.het_breuschpagan(fit.resid, fit.model.exog)\n",
    "lzip(names, test)"
   ]
  }
 ],
 "metadata": {
  "kernelspec": {
   "display_name": "Python 3",
   "language": "python",
   "name": "python3"
  },
  "language_info": {
   "codemirror_mode": {
    "name": "ipython",
    "version": 3
   },
   "file_extension": ".py",
   "mimetype": "text/x-python",
   "name": "python",
   "nbconvert_exporter": "python",
   "pygments_lexer": "ipython3",
   "version": "3.11.9"
  }
 },
 "nbformat": 4,
 "nbformat_minor": 2
}
